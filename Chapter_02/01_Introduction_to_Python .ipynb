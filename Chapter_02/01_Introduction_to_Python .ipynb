{
 "cells": [
  {
   "cell_type": "markdown",
   "id": "66ccdb71",
   "metadata": {},
   "source": [
    "# Basic Python Commands"
   ]
  },
  {
   "cell_type": "code",
   "execution_count": 1,
   "id": "dbfdd41f",
   "metadata": {},
   "outputs": [
    {
     "name": "stdout",
     "output_type": "stream",
     "text": [
      "fit a model with 4 variables\n"
     ]
    }
   ],
   "source": [
    "# print command\n",
    "print(\"fit a model with\", 4, \"variables\")"
   ]
  },
  {
   "cell_type": "code",
   "execution_count": 2,
   "id": "c419ecec",
   "metadata": {},
   "outputs": [
    {
     "data": {
      "text/plain": [
       "'hello world'"
      ]
     },
     "execution_count": 2,
     "metadata": {},
     "output_type": "execute_result"
    }
   ],
   "source": [
    "# string concatenation\n",
    "\"hello\" + \" world\""
   ]
  },
  {
   "cell_type": "code",
   "execution_count": 3,
   "id": "4d2088fc",
   "metadata": {},
   "outputs": [
    {
     "data": {
      "text/plain": [
       "5"
      ]
     },
     "execution_count": 3,
     "metadata": {},
     "output_type": "execute_result"
    }
   ],
   "source": [
    "# adding numbers\n",
    "3+2"
   ]
  },
  {
   "cell_type": "code",
   "execution_count": 4,
   "id": "32cb8e9b",
   "metadata": {},
   "outputs": [
    {
     "data": {
      "text/plain": [
       "[1, 2, 3, 4, 5]"
      ]
     },
     "execution_count": 4,
     "metadata": {},
     "output_type": "execute_result"
    }
   ],
   "source": [
    "# lists\n",
    "x = [1, 2, 3]\n",
    "y = [4, 5]\n",
    "x+y"
   ]
  },
  {
   "cell_type": "markdown",
   "id": "43f03a79",
   "metadata": {},
   "source": [
    "# Numerical Python"
   ]
  },
  {
   "cell_type": "code",
   "execution_count": 5,
   "id": "766f6d80",
   "metadata": {},
   "outputs": [],
   "source": [
    "import numpy as np"
   ]
  },
  {
   "cell_type": "code",
   "execution_count": 6,
   "id": "b5b3215f",
   "metadata": {},
   "outputs": [
    {
     "data": {
      "text/plain": [
       "array([2, 4, 6])"
      ]
     },
     "execution_count": 6,
     "metadata": {},
     "output_type": "execute_result"
    }
   ],
   "source": [
    "# numpy array addition\n",
    "x = np.array([1, 2, 3])\n",
    "y = np.array([1, 2, 3])\n",
    "x+y"
   ]
  },
  {
   "cell_type": "code",
   "execution_count": 7,
   "id": "bfb9518d",
   "metadata": {},
   "outputs": [
    {
     "name": "stdout",
     "output_type": "stream",
     "text": [
      "[[1 2]\n",
      " [3 4]]\n",
      "2\n",
      "int32\n"
     ]
    }
   ],
   "source": [
    "# matrices\n",
    "m = np.array([[1, 2], [3, 4]])\n",
    "print(m)\n",
    "\n",
    "# attributes\n",
    "print(m.ndim)\n",
    "print(m.dtype)"
   ]
  },
  {
   "cell_type": "code",
   "execution_count": 8,
   "id": "87c2824a",
   "metadata": {},
   "outputs": [
    {
     "data": {
      "text/plain": [
       "dtype('float64')"
      ]
     },
     "execution_count": 8,
     "metadata": {},
     "output_type": "execute_result"
    }
   ],
   "source": [
    "# float values\n",
    "np.array([[1, 2], [3.0, 4.0]]).dtype"
   ]
  },
  {
   "cell_type": "code",
   "execution_count": 9,
   "id": "e55cdf9a",
   "metadata": {},
   "outputs": [],
   "source": [
    "# to get documentation\n",
    "np.array?"
   ]
  },
  {
   "cell_type": "code",
   "execution_count": 10,
   "id": "20781a04",
   "metadata": {},
   "outputs": [
    {
     "data": {
      "text/plain": [
       "dtype('float64')"
      ]
     },
     "execution_count": 10,
     "metadata": {},
     "output_type": "execute_result"
    }
   ],
   "source": [
    "# specifying dtype\n",
    "np.array([[1, 2], [3, 4]], float).dtype"
   ]
  },
  {
   "cell_type": "code",
   "execution_count": 13,
   "id": "d92f66d1",
   "metadata": {},
   "outputs": [
    {
     "name": "stdout",
     "output_type": "stream",
     "text": [
      "[[1 2]\n",
      " [3 4]]\n",
      "(2, 2)\n",
      "10\n"
     ]
    }
   ],
   "source": [
    "# shape, sum\n",
    "print(m)\n",
    "print(m.shape)\n",
    "print(m.sum())"
   ]
  },
  {
   "cell_type": "code",
   "execution_count": 30,
   "id": "ac62c766",
   "metadata": {},
   "outputs": [
    {
     "name": "stdout",
     "output_type": "stream",
     "text": [
      "before reshaping\n",
      " [1 2 3 4 5 6]\n",
      "after reshaping\n",
      " [[1 2 3]\n",
      " [4 5 6]]\n"
     ]
    }
   ],
   "source": [
    "# reshaping\n",
    "x = np.array([1, 2, 3, 4, 5, 6])\n",
    "print(\"before reshaping\\n\", x)\n",
    "x = x.reshape((2, 3))\n",
    "print(\"after reshaping\\n\", x)"
   ]
  },
  {
   "cell_type": "code",
   "execution_count": 31,
   "id": "e03021a3",
   "metadata": {},
   "outputs": [
    {
     "name": "stdout",
     "output_type": "stream",
     "text": [
      "[4 5 6]\n",
      "6\n"
     ]
    }
   ],
   "source": [
    "# accessing rows/elements\n",
    "print(x[1])\n",
    "print(x[1, 2])"
   ]
  },
  {
   "cell_type": "code",
   "execution_count": 32,
   "id": "c2bb794c",
   "metadata": {},
   "outputs": [
    {
     "name": "stdout",
     "output_type": "stream",
     "text": [
      "before modifying\n",
      "[[1 2 3]\n",
      " [4 5 6]]\n",
      "[[1 2 3 4 5 6]]\n",
      "atfer modifying\n",
      "[[100   2   3]\n",
      " [  4   5   6]]\n",
      "[[100   2   3   4   5   6]]\n"
     ]
    }
   ],
   "source": [
    "# creating shallow copy\n",
    "x_reshaped = x.reshape((1, 6))\n",
    "x_reshaped\n",
    "print(\"before modifying\")\n",
    "print(x)\n",
    "print(x_reshaped)\n",
    "print(\"atfer modifying\")\n",
    "x_reshaped[0][0] = 100\n",
    "print(x)\n",
    "print(x_reshaped)"
   ]
  },
  {
   "cell_type": "code",
   "execution_count": 33,
   "id": "300b77a4",
   "metadata": {},
   "outputs": [
    {
     "data": {
      "text/plain": [
       "array([[100,   4],\n",
       "       [  2,   5],\n",
       "       [  3,   6]])"
      ]
     },
     "execution_count": 33,
     "metadata": {},
     "output_type": "execute_result"
    }
   ],
   "source": [
    "# transpose\n",
    "x.T"
   ]
  },
  {
   "cell_type": "code",
   "execution_count": 34,
   "id": "925c56e5",
   "metadata": {},
   "outputs": [
    {
     "name": "stdout",
     "output_type": "stream",
     "text": [
      "[[100   2   3]\n",
      " [  4   5   6]]\n",
      "[[10000     4     9]\n",
      " [   16    25    36]]\n",
      "[[10.          1.41421356  1.73205081]\n",
      " [ 2.          2.23606798  2.44948974]]\n"
     ]
    }
   ],
   "source": [
    "# applying functions to arrays\n",
    "print(x)\n",
    "print(x**2)\n",
    "print(np.sqrt(x))"
   ]
  },
  {
   "cell_type": "code",
   "execution_count": 38,
   "id": "3809b182",
   "metadata": {},
   "outputs": [
    {
     "data": {
      "text/plain": [
       "array([-0.38380737,  1.42276067, -2.21426993, -2.04559146, -0.46540473,\n",
       "        0.55116829, -0.67534964,  0.09514877, -0.11713418, -0.76583302,\n",
       "       -0.53403337,  0.65147974, -0.28020533,  0.28366579, -0.8465766 ,\n",
       "        0.28138351, -0.23410231,  1.49683984,  0.59347582, -0.51739377,\n",
       "        1.02279355, -0.12301892,  0.28452055,  0.43143854, -0.30418617,\n",
       "        0.27994083, -0.38846354, -0.89086029,  0.07860917,  0.5439475 ,\n",
       "       -1.92027457, -0.56489185, -0.02241729,  1.01056385,  1.1185266 ,\n",
       "        0.34296106, -0.06536487, -0.05254628,  1.0732567 , -0.492946  ,\n",
       "        0.15970005, -1.35514594,  2.5308309 ,  1.08237569,  0.77829085,\n",
       "       -0.57067871,  0.91689052,  0.05557127, -1.26122885,  0.16365027])"
      ]
     },
     "execution_count": 38,
     "metadata": {},
     "output_type": "execute_result"
    }
   ],
   "source": [
    "# numpy random\n",
    "x = np.random.normal(size=50)\n",
    "x"
   ]
  },
  {
   "cell_type": "code",
   "execution_count": 41,
   "id": "48f20587",
   "metadata": {},
   "outputs": [
    {
     "data": {
      "text/plain": [
       "array([[1.        , 0.79640414],\n",
       "       [0.79640414, 1.        ]])"
      ]
     },
     "execution_count": 41,
     "metadata": {},
     "output_type": "execute_result"
    }
   ],
   "source": [
    "# correlation matrix\n",
    "y = x + np.random.normal(loc=50, scale=1, size=50)\n",
    "np.corrcoef(x, y)"
   ]
  },
  {
   "cell_type": "code",
   "execution_count": 42,
   "id": "e7db51ac",
   "metadata": {},
   "outputs": [
    {
     "name": "stdout",
     "output_type": "stream",
     "text": [
      "[ 1.5235854  -5.19992053]\n",
      "[ 1.5235854  -5.19992053]\n"
     ]
    }
   ],
   "source": [
    "# random seed with rng\n",
    "rng = np.random.default_rng(42)\n",
    "print(rng.normal(scale=5, size=2))    # rng can be used like np.random\n",
    "rng2 = np.random.default_rng(42)\n",
    "print(rng2.normal(scale=5, size=2))"
   ]
  },
  {
   "cell_type": "code",
   "execution_count": 44,
   "id": "7500253b",
   "metadata": {},
   "outputs": [
    {
     "data": {
      "text/plain": [
       "(4.227539780494178, 0.22589469193206682, 0.47528380146189164)"
      ]
     },
     "execution_count": 44,
     "metadata": {},
     "output_type": "execute_result"
    }
   ],
   "source": [
    "# mean, variance, std\n",
    "x = rng2.normal(scale=5, size=2)\n",
    "np.mean(x), np.var(x), np.std(x)"
   ]
  },
  {
   "cell_type": "code",
   "execution_count": 45,
   "id": "5f56835a",
   "metadata": {},
   "outputs": [
    {
     "data": {
      "text/plain": [
       "array([[ 0.7504512 ,  0.94056472, -1.95103519],\n",
       "       [-1.30217951,  0.1278404 , -0.31624259],\n",
       "       [-0.01680116, -0.85304393,  0.87939797],\n",
       "       [ 0.77779194,  0.0660307 ,  1.12724121],\n",
       "       [ 0.46750934, -0.85929246,  0.36875078],\n",
       "       [-0.9588826 ,  0.8784503 , -0.04992591],\n",
       "       [-0.18486236, -0.68092954,  1.22254134],\n",
       "       [-0.15452948, -0.42832782, -0.35213355],\n",
       "       [ 0.53230919,  0.36544406,  0.41273261],\n",
       "       [ 0.430821  ,  2.1416476 , -0.40641502]])"
      ]
     },
     "execution_count": 45,
     "metadata": {},
     "output_type": "execute_result"
    }
   ],
   "source": [
    "# applying on rows/columns of a matrix\n",
    "y = rng.standard_normal((10, 3))\n",
    "y"
   ]
  },
  {
   "cell_type": "code",
   "execution_count": 47,
   "id": "fe707d08",
   "metadata": {},
   "outputs": [
    {
     "data": {
      "text/plain": [
       "array([0.03416276, 0.1698384 , 0.09349117])"
      ]
     },
     "execution_count": 47,
     "metadata": {},
     "output_type": "execute_result"
    }
   ],
   "source": [
    "# mean of each column\n",
    "y.mean(axis=0)"
   ]
  },
  {
   "cell_type": "code",
   "execution_count": 48,
   "id": "3435e3e6",
   "metadata": {},
   "outputs": [
    {
     "data": {
      "text/plain": [
       "array([-0.08667309, -0.49686057,  0.0031843 ,  0.65702128, -0.00767745,\n",
       "       -0.04345274,  0.11891648, -0.31166362,  0.43682862,  0.72201786])"
      ]
     },
     "execution_count": 48,
     "metadata": {},
     "output_type": "execute_result"
    }
   ],
   "source": [
    "# mean of each row\n",
    "y.mean(axis=1)"
   ]
  },
  {
   "cell_type": "markdown",
   "id": "29e294a9",
   "metadata": {},
   "source": [
    "# Graphics"
   ]
  },
  {
   "cell_type": "code",
   "execution_count": 56,
   "id": "e68907d2",
   "metadata": {},
   "outputs": [
    {
     "data": {
      "image/png": "[encoded data removed]",
      "text/plain": [
       "<Figure size 576x576 with 1 Axes>"
      ]
     },
     "metadata": {
      "needs_background": "light"
     },
     "output_type": "display_data"
    }
   ],
   "source": [
    "# basic plot with fig and ax\n",
    "import matplotlib.pyplot as plt\n",
    "fig, ax = plt.subplots(figsize=(8,8))\n",
    "x = rng.standard_normal(100)\n",
    "y = rng.standard_normal(100)\n",
    "ax.scatter(x, y, marker=\"o\");"
   ]
  },
  {
   "cell_type": "code",
   "execution_count": 58,
   "id": "a6b6c319",
   "metadata": {},
   "outputs": [
    {
     "data": {
      "image/png": "[encoded data removed]",
      "text/plain": [
       "<Figure size 576x576 with 1 Axes>"
      ]
     },
     "metadata": {
      "needs_background": "light"
     },
     "output_type": "display_data"
    }
   ],
   "source": [
    "# set title, xlabel, ylabel\n",
    "fig, ax = plt.subplots(figsize=(8,8))\n",
    "ax.scatter(x, y, marker=\"o\")\n",
    "ax.set_ylabel(\"x-axis\")\n",
    "ax.set_xlabel(\"y-axis\")\n",
    "ax.set_title(\"plot of x vs y\");"
   ]
  },
  {
   "cell_type": "code",
   "execution_count": 59,
   "id": "30289e35",
   "metadata": {},
   "outputs": [
    {
     "data": {
      "image/png": "[encoded data removed]",
      "text/plain": [
       "<Figure size 864x216 with 1 Axes>"
      ]
     },
     "execution_count": 59,
     "metadata": {},
     "output_type": "execute_result"
    }
   ],
   "source": [
    "# modifications using fig\n",
    "fig.set_size_inches(12, 3)\n",
    "fig"
   ]
  },
  {
   "cell_type": "code",
   "execution_count": 61,
   "id": "15ff0711",
   "metadata": {},
   "outputs": [
    {
     "data": {
      "image/png": "[encoded data removed]",
      "text/plain": [
       "<Figure size 1080x360 with 6 Axes>"
      ]
     },
     "metadata": {
      "needs_background": "light"
     },
     "output_type": "display_data"
    }
   ],
   "source": [
    "# multiple plots within fig\n",
    "fig, ax = plt.subplots(nrows=2,\n",
    "                      ncols=3,\n",
    "                      figsize=(15, 5))\n",
    "# access different plots\n",
    "ax[0, 1].plot(x, y, \"o\")\n",
    "ax[1, 2].scatter(x, y, marker=\"+\")\n",
    "fig;"
   ]
  },
  {
   "cell_type": "code",
   "execution_count": 66,
   "id": "65d87fdf",
   "metadata": {},
   "outputs": [
    {
     "data": {
      "image/png": "[encoded data removed]",
      "text/plain": [
       "<Figure size 1080x360 with 6 Axes>"
      ]
     },
     "execution_count": 66,
     "metadata": {},
     "output_type": "execute_result"
    }
   ],
   "source": [
    "# saving as image\n",
    "# dpi -> dots per inch\n",
    "fig.savefig(\"images/figure.png\", dpi=400)\n",
    "ax[0, 1].set_xlim([-1, 1])\n",
    "fig.savefig(\"images/updated_fig.png\")\n",
    "fig"
   ]
  },
  {
   "cell_type": "code",
   "execution_count": 69,
   "id": "8cd6228d",
   "metadata": {},
   "outputs": [
    {
     "data": {
      "text/plain": [
       "<matplotlib.image.AxesImage at 0x1ab77eb93d0>"
      ]
     },
     "execution_count": 69,
     "metadata": {},
     "output_type": "execute_result"
    },
    {
     "data": {
      "image/png": "[encoded data removed]",
      "text/plain": [
       "<Figure size 432x288 with 1 Axes>"
      ]
     },
     "metadata": {
      "needs_background": "light"
     },
     "output_type": "display_data"
    }
   ],
   "source": [
    "# viewing saved figures\n",
    "img = plt.imread(\"images/figure.png\")\n",
    "plt.imshow(img)"
   ]
  },
  {
   "cell_type": "code",
   "execution_count": 73,
   "id": "8caa4405",
   "metadata": {},
   "outputs": [
    {
     "data": {
      "text/plain": [
       "<matplotlib.image.AxesImage at 0x1ab0ba8d690>"
      ]
     },
     "execution_count": 73,
     "metadata": {},
     "output_type": "execute_result"
    },
    {
     "data": {
      "image/png": "[encoded data removed]",
      "text/plain": [
       "<Figure size 432x288 with 1 Axes>"
      ]
     },
     "metadata": {
      "needs_background": "light"
     },
     "output_type": "display_data"
    }
   ],
   "source": [
    "img2 = plt.imread(\"images/updated_fig.png\")\n",
    "plt.imshow(img2)"
   ]
  },
  {
   "cell_type": "code",
   "execution_count": 99,
   "id": "704d7515",
   "metadata": {},
   "outputs": [
    {
     "data": {
      "image/png": "[encoded data removed]",
      "text/plain": [
       "<Figure size 576x576 with 1 Axes>"
      ]
     },
     "metadata": {
      "needs_background": "light"
     },
     "output_type": "display_data"
    }
   ],
   "source": [
    "# contour plot - plot 3D data\n",
    "fig, ax = plt.subplots(figsize=(8,8))\n",
    "x = np.linspace(-np.pi, np.pi, 50)\n",
    "y = x\n",
    "f = np.multiply.outer(np.sin(y), 1/(1+x**2))\n",
    "ax.contour(x, y, f);"
   ]
  },
  {
   "cell_type": "code",
   "execution_count": 100,
   "id": "2d92862c",
   "metadata": {},
   "outputs": [
    {
     "data": {
      "image/png": "[encoded data removed]",
      "text/plain": [
       "<Figure size 576x576 with 1 Axes>"
      ]
     },
     "metadata": {
      "needs_background": "light"
     },
     "output_type": "display_data"
    }
   ],
   "source": [
    "# adding more levels\n",
    "fig, ax = plt.subplots(figsize=(8,8))\n",
    "ax.contour(x, y, f, levels=45);"
   ]
  },
  {
   "cell_type": "code",
   "execution_count": 101,
   "id": "0ab963bd",
   "metadata": {},
   "outputs": [
    {
     "data": {
      "image/png": "[encoded data removed]",
      "text/plain": [
       "<Figure size 576x576 with 1 Axes>"
      ]
     },
     "metadata": {
      "needs_background": "light"
     },
     "output_type": "display_data"
    }
   ],
   "source": [
    "# heatmap using imshow\n",
    "fig, ax = plt.subplots(figsize=(8,8))\n",
    "ax.imshow(f);"
   ]
  },
  {
   "cell_type": "markdown",
   "id": "37079e5d",
   "metadata": {},
   "source": [
    "# Sequences and Slice Notation"
   ]
  },
  {
   "cell_type": "code",
   "execution_count": 86,
   "id": "5dd9e448",
   "metadata": {},
   "outputs": [
    {
     "data": {
      "text/plain": [
       "array([ 0.,  1.,  2.,  3.,  4.,  5.,  6.,  7.,  8.,  9., 10.])"
      ]
     },
     "execution_count": 86,
     "metadata": {},
     "output_type": "execute_result"
    }
   ],
   "source": [
    "seq1 = np.linspace(0, 10, 11)\n",
    "seq1"
   ]
  },
  {
   "cell_type": "code",
   "execution_count": 87,
   "id": "821e948b",
   "metadata": {},
   "outputs": [
    {
     "data": {
      "text/plain": [
       "array([0, 1, 2, 3, 4, 5, 6, 7, 8, 9])"
      ]
     },
     "execution_count": 87,
     "metadata": {},
     "output_type": "execute_result"
    }
   ],
   "source": [
    "seq2 = np.arange(0, 10)\n",
    "seq2"
   ]
  },
  {
   "cell_type": "code",
   "execution_count": 88,
   "id": "00646c14",
   "metadata": {},
   "outputs": [
    {
     "data": {
      "text/plain": [
       "'lo '"
      ]
     },
     "execution_count": 88,
     "metadata": {},
     "output_type": "execute_result"
    }
   ],
   "source": [
    "\"hello world\"[3:6]"
   ]
  },
  {
   "cell_type": "code",
   "execution_count": 89,
   "id": "4fd0413c",
   "metadata": {},
   "outputs": [
    {
     "data": {
      "text/plain": [
       "'lo '"
      ]
     },
     "execution_count": 89,
     "metadata": {},
     "output_type": "execute_result"
    }
   ],
   "source": [
    "\"hello world\"[slice(3, 6)]"
   ]
  },
  {
   "cell_type": "markdown",
   "id": "4d5d9e4c",
   "metadata": {},
   "source": [
    "# Indexing Data"
   ]
  },
  {
   "cell_type": "code",
   "execution_count": 102,
   "id": "5c102e51",
   "metadata": {},
   "outputs": [
    {
     "data": {
      "text/plain": [
       "array([[ 0,  1,  2,  3],\n",
       "       [ 4,  5,  6,  7],\n",
       "       [ 8,  9, 10, 11],\n",
       "       [12, 13, 14, 15]])"
      ]
     },
     "execution_count": 102,
     "metadata": {},
     "output_type": "execute_result"
    }
   ],
   "source": [
    "A = np.array(np.arange(16)).reshape((4, 4))\n",
    "A"
   ]
  },
  {
   "cell_type": "code",
   "execution_count": 116,
   "id": "9152d0d6",
   "metadata": {},
   "outputs": [
    {
     "name": "stdout",
     "output_type": "stream",
     "text": [
      "6\n",
      "[[ 4  5  6  7]\n",
      " [12 13 14 15]]\n",
      "[[ 0  2]\n",
      " [ 4  6]\n",
      " [ 8 10]\n",
      " [12 14]]\n",
      "[ 4 14]\n",
      "[[ 4  6]\n",
      " [12 14]]\n"
     ]
    }
   ],
   "source": [
    "print(A[1, 2])   # single element\n",
    "print(A[[1, 3]]) # 2nd and 4th rows\n",
    "print(A[:, [0, 2]])  # 1st and 3rd columns\n",
    "print(A[[1, 3], [0, 2]])  # equal to (A[1,0], A[3,2])\n",
    "print(A[[1, 3]][:, [0,2]]) # submatrix"
   ]
  },
  {
   "cell_type": "code",
   "execution_count": 117,
   "id": "d25bef3d",
   "metadata": {},
   "outputs": [
    {
     "data": {
      "text/plain": [
       "array([[ 4,  6],\n",
       "       [12, 14]])"
      ]
     },
     "execution_count": 117,
     "metadata": {},
     "output_type": "execute_result"
    }
   ],
   "source": [
    "A[1:4:2, 0:3:2]  # subset using slices"
   ]
  },
  {
   "cell_type": "markdown",
   "id": "b040c49f",
   "metadata": {},
   "source": [
    "## Boolean Indexing"
   ]
  },
  {
   "cell_type": "code",
   "execution_count": 129,
   "id": "e7860213",
   "metadata": {},
   "outputs": [
    {
     "data": {
      "text/plain": [
       "array([False, False, False, False])"
      ]
     },
     "execution_count": 129,
     "metadata": {},
     "output_type": "execute_result"
    }
   ],
   "source": [
    "k = np.zeros(A.shape[0], bool)\n",
    "k"
   ]
  },
  {
   "cell_type": "code",
   "execution_count": 130,
   "id": "eec8f003",
   "metadata": {},
   "outputs": [
    {
     "data": {
      "text/plain": [
       "array([False,  True, False,  True])"
      ]
     },
     "execution_count": 130,
     "metadata": {},
     "output_type": "execute_result"
    }
   ],
   "source": [
    "k[[1, 3]] = True\n",
    "k"
   ]
  },
  {
   "cell_type": "code",
   "execution_count": 121,
   "id": "4d159590",
   "metadata": {},
   "outputs": [
    {
     "data": {
      "text/plain": [
       "True"
      ]
     },
     "execution_count": 121,
     "metadata": {},
     "output_type": "execute_result"
    }
   ],
   "source": [
    "# boolean and integer values equality\n",
    "np.all(k == np.array([0, 1, 0, 1]))"
   ]
  },
  {
   "cell_type": "code",
   "execution_count": 122,
   "id": "cd99151b",
   "metadata": {},
   "outputs": [
    {
     "name": "stdout",
     "output_type": "stream",
     "text": [
      "[[ 4  5  6  7]\n",
      " [12 13 14 15]]\n",
      "[[0 1 2 3]\n",
      " [4 5 6 7]\n",
      " [0 1 2 3]\n",
      " [4 5 6 7]]\n"
     ]
    }
   ],
   "source": [
    "# but retrieve different slices\n",
    "print(A[k])  # only row indexes with True\n",
    "print(A[np.array([0, 1, 0, 1])])  # 1st, 2nd, 1st, 2nd rows"
   ]
  },
  {
   "cell_type": "code",
   "execution_count": 132,
   "id": "bb660b68",
   "metadata": {},
   "outputs": [
    {
     "data": {
      "text/plain": [
       "(array([False,  True, False,  True]), array([ True, False,  True,  True]))"
      ]
     },
     "execution_count": 132,
     "metadata": {},
     "output_type": "execute_result"
    }
   ],
   "source": [
    "k2 = np.zeros(A.shape[1], bool)\n",
    "k2[[0, 2, 3]] = True\n",
    "k, k2"
   ]
  },
  {
   "cell_type": "code",
   "execution_count": 135,
   "id": "1a51a366",
   "metadata": {},
   "outputs": [
    {
     "data": {
      "text/plain": [
       "(array([[1],\n",
       "        [3]], dtype=int64),\n",
       " array([[0, 2, 3]], dtype=int64))"
      ]
     },
     "execution_count": 135,
     "metadata": {},
     "output_type": "execute_result"
    }
   ],
   "source": [
    "# create mesh\n",
    "idx_bool = np.ix_(k, k2)\n",
    "idx_bool"
   ]
  },
  {
   "cell_type": "code",
   "execution_count": 138,
   "id": "844da870",
   "metadata": {},
   "outputs": [
    {
     "data": {
      "text/plain": [
       "array([[ 4,  6,  7],\n",
       "       [12, 14, 15]])"
      ]
     },
     "execution_count": 138,
     "metadata": {},
     "output_type": "execute_result"
    }
   ],
   "source": [
    "# subset with mesh\n",
    "A[idx_bool]"
   ]
  },
  {
   "cell_type": "code",
   "execution_count": 141,
   "id": "faa21ee0",
   "metadata": {},
   "outputs": [
    {
     "data": {
      "text/plain": [
       "array([[ 4,  6,  7],\n",
       "       [12, 14, 15]])"
      ]
     },
     "execution_count": 141,
     "metadata": {},
     "output_type": "execute_result"
    }
   ],
   "source": [
    "# subset with normal slicing\n",
    "A[[1, 3]][:, [0, 2, 3]]"
   ]
  },
  {
   "cell_type": "markdown",
   "id": "d691387b",
   "metadata": {},
   "source": [
    "# Loading Data"
   ]
  },
  {
   "cell_type": "code",
   "execution_count": 142,
   "id": "c072412e",
   "metadata": {},
   "outputs": [
    {
     "data": {
      "text/html": [
       "<div>\n",
       "<style scoped>\n",
       "    .dataframe tbody tr th:only-of-type {\n",
       "        vertical-align: middle;\n",
       "    }\n",
       "\n",
       "    .dataframe tbody tr th {\n",
       "        vertical-align: top;\n",
       "    }\n",
       "\n",
       "    .dataframe thead th {\n",
       "        text-align: right;\n",
       "    }\n",
       "</style>\n",
       "<table border=\"1\" class=\"dataframe\">\n",
       "  <thead>\n",
       "    <tr style=\"text-align: right;\">\n",
       "      <th></th>\n",
       "      <th>mpg</th>\n",
       "      <th>cylinders</th>\n",
       "      <th>displacement</th>\n",
       "      <th>horsepower</th>\n",
       "      <th>weight</th>\n",
       "      <th>acceleration</th>\n",
       "      <th>year</th>\n",
       "      <th>origin</th>\n",
       "      <th>name</th>\n",
       "    </tr>\n",
       "  </thead>\n",
       "  <tbody>\n",
       "    <tr>\n",
       "      <th>0</th>\n",
       "      <td>18.0</td>\n",
       "      <td>8</td>\n",
       "      <td>307.0</td>\n",
       "      <td>130</td>\n",
       "      <td>3504</td>\n",
       "      <td>12.0</td>\n",
       "      <td>70</td>\n",
       "      <td>1</td>\n",
       "      <td>chevrolet chevelle malibu</td>\n",
       "    </tr>\n",
       "    <tr>\n",
       "      <th>1</th>\n",
       "      <td>15.0</td>\n",
       "      <td>8</td>\n",
       "      <td>350.0</td>\n",
       "      <td>165</td>\n",
       "      <td>3693</td>\n",
       "      <td>11.5</td>\n",
       "      <td>70</td>\n",
       "      <td>1</td>\n",
       "      <td>buick skylark 320</td>\n",
       "    </tr>\n",
       "    <tr>\n",
       "      <th>2</th>\n",
       "      <td>18.0</td>\n",
       "      <td>8</td>\n",
       "      <td>318.0</td>\n",
       "      <td>150</td>\n",
       "      <td>3436</td>\n",
       "      <td>11.0</td>\n",
       "      <td>70</td>\n",
       "      <td>1</td>\n",
       "      <td>plymouth satellite</td>\n",
       "    </tr>\n",
       "    <tr>\n",
       "      <th>3</th>\n",
       "      <td>16.0</td>\n",
       "      <td>8</td>\n",
       "      <td>304.0</td>\n",
       "      <td>150</td>\n",
       "      <td>3433</td>\n",
       "      <td>12.0</td>\n",
       "      <td>70</td>\n",
       "      <td>1</td>\n",
       "      <td>amc rebel sst</td>\n",
       "    </tr>\n",
       "    <tr>\n",
       "      <th>4</th>\n",
       "      <td>17.0</td>\n",
       "      <td>8</td>\n",
       "      <td>302.0</td>\n",
       "      <td>140</td>\n",
       "      <td>3449</td>\n",
       "      <td>10.5</td>\n",
       "      <td>70</td>\n",
       "      <td>1</td>\n",
       "      <td>ford torino</td>\n",
       "    </tr>\n",
       "    <tr>\n",
       "      <th>...</th>\n",
       "      <td>...</td>\n",
       "      <td>...</td>\n",
       "      <td>...</td>\n",
       "      <td>...</td>\n",
       "      <td>...</td>\n",
       "      <td>...</td>\n",
       "      <td>...</td>\n",
       "      <td>...</td>\n",
       "      <td>...</td>\n",
       "    </tr>\n",
       "    <tr>\n",
       "      <th>392</th>\n",
       "      <td>27.0</td>\n",
       "      <td>4</td>\n",
       "      <td>140.0</td>\n",
       "      <td>86</td>\n",
       "      <td>2790</td>\n",
       "      <td>15.6</td>\n",
       "      <td>82</td>\n",
       "      <td>1</td>\n",
       "      <td>ford mustang gl</td>\n",
       "    </tr>\n",
       "    <tr>\n",
       "      <th>393</th>\n",
       "      <td>44.0</td>\n",
       "      <td>4</td>\n",
       "      <td>97.0</td>\n",
       "      <td>52</td>\n",
       "      <td>2130</td>\n",
       "      <td>24.6</td>\n",
       "      <td>82</td>\n",
       "      <td>2</td>\n",
       "      <td>vw pickup</td>\n",
       "    </tr>\n",
       "    <tr>\n",
       "      <th>394</th>\n",
       "      <td>32.0</td>\n",
       "      <td>4</td>\n",
       "      <td>135.0</td>\n",
       "      <td>84</td>\n",
       "      <td>2295</td>\n",
       "      <td>11.6</td>\n",
       "      <td>82</td>\n",
       "      <td>1</td>\n",
       "      <td>dodge rampage</td>\n",
       "    </tr>\n",
       "    <tr>\n",
       "      <th>395</th>\n",
       "      <td>28.0</td>\n",
       "      <td>4</td>\n",
       "      <td>120.0</td>\n",
       "      <td>79</td>\n",
       "      <td>2625</td>\n",
       "      <td>18.6</td>\n",
       "      <td>82</td>\n",
       "      <td>1</td>\n",
       "      <td>ford ranger</td>\n",
       "    </tr>\n",
       "    <tr>\n",
       "      <th>396</th>\n",
       "      <td>31.0</td>\n",
       "      <td>4</td>\n",
       "      <td>119.0</td>\n",
       "      <td>82</td>\n",
       "      <td>2720</td>\n",
       "      <td>19.4</td>\n",
       "      <td>82</td>\n",
       "      <td>1</td>\n",
       "      <td>chevy s-10</td>\n",
       "    </tr>\n",
       "  </tbody>\n",
       "</table>\n",
       "<p>397 rows × 9 columns</p>\n",
       "</div>"
      ],
      "text/plain": [
       "      mpg  cylinders  displacement horsepower  weight  acceleration  year  \\\n",
       "0    18.0          8         307.0        130    3504          12.0    70   \n",
       "1    15.0          8         350.0        165    3693          11.5    70   \n",
       "2    18.0          8         318.0        150    3436          11.0    70   \n",
       "3    16.0          8         304.0        150    3433          12.0    70   \n",
       "4    17.0          8         302.0        140    3449          10.5    70   \n",
       "..    ...        ...           ...        ...     ...           ...   ...   \n",
       "392  27.0          4         140.0         86    2790          15.6    82   \n",
       "393  44.0          4          97.0         52    2130          24.6    82   \n",
       "394  32.0          4         135.0         84    2295          11.6    82   \n",
       "395  28.0          4         120.0         79    2625          18.6    82   \n",
       "396  31.0          4         119.0         82    2720          19.4    82   \n",
       "\n",
       "     origin                       name  \n",
       "0         1  chevrolet chevelle malibu  \n",
       "1         1          buick skylark 320  \n",
       "2         1         plymouth satellite  \n",
       "3         1              amc rebel sst  \n",
       "4         1                ford torino  \n",
       "..      ...                        ...  \n",
       "392       1            ford mustang gl  \n",
       "393       2                  vw pickup  \n",
       "394       1              dodge rampage  \n",
       "395       1                ford ranger  \n",
       "396       1                 chevy s-10  \n",
       "\n",
       "[397 rows x 9 columns]"
      ]
     },
     "execution_count": 142,
     "metadata": {},
     "output_type": "execute_result"
    }
   ],
   "source": [
    "import pandas as pd\n",
    "Auto = pd.read_csv(\"data/Auto.csv\")\n",
    "Auto"
   ]
  },
  {
   "cell_type": "code",
   "execution_count": 143,
   "id": "06456ac2",
   "metadata": {},
   "outputs": [
    {
     "data": {
      "text/plain": [
       "0      130\n",
       "1      165\n",
       "2      150\n",
       "3      150\n",
       "4      140\n",
       "      ... \n",
       "392     86\n",
       "393     52\n",
       "394     84\n",
       "395     79\n",
       "396     82\n",
       "Name: horsepower, Length: 397, dtype: object"
      ]
     },
     "execution_count": 143,
     "metadata": {},
     "output_type": "execute_result"
    }
   ],
   "source": [
    "# getting horsepower col\n",
    "Auto[\"horsepower\"]"
   ]
  },
  {
   "cell_type": "code",
   "execution_count": 144,
   "id": "4c2d51b3",
   "metadata": {},
   "outputs": [
    {
     "data": {
      "text/plain": [
       "array(['100', '102', '103', '105', '107', '108', '110', '112', '113',\n",
       "       '115', '116', '120', '122', '125', '129', '130', '132', '133',\n",
       "       '135', '137', '138', '139', '140', '142', '145', '148', '149',\n",
       "       '150', '152', '153', '155', '158', '160', '165', '167', '170',\n",
       "       '175', '180', '190', '193', '198', '200', '208', '210', '215',\n",
       "       '220', '225', '230', '46', '48', '49', '52', '53', '54', '58',\n",
       "       '60', '61', '62', '63', '64', '65', '66', '67', '68', '69', '70',\n",
       "       '71', '72', '74', '75', '76', '77', '78', '79', '80', '81', '82',\n",
       "       '83', '84', '85', '86', '87', '88', '89', '90', '91', '92', '93',\n",
       "       '94', '95', '96', '97', '98', '?'], dtype=object)"
      ]
     },
     "execution_count": 144,
     "metadata": {},
     "output_type": "execute_result"
    }
   ],
   "source": [
    "# unique values in horsepower col\n",
    "# ? indicates missing values\n",
    "np.unique(Auto[\"horsepower\"])"
   ]
  },
  {
   "cell_type": "code",
   "execution_count": 145,
   "id": "f5d4e2f8",
   "metadata": {},
   "outputs": [
    {
     "data": {
      "text/plain": [
       "40952.0"
      ]
     },
     "execution_count": 145,
     "metadata": {},
     "output_type": "execute_result"
    }
   ],
   "source": [
    "# re-import encoding ? with NaN\n",
    "Auto = pd.read_csv(\"data/Auto.data\",\n",
    "                  na_values=[\"?\"],\n",
    "                  delim_whitespace=True)\n",
    "Auto[\"horsepower\"].sum()"
   ]
  },
  {
   "cell_type": "code",
   "execution_count": 146,
   "id": "75927462",
   "metadata": {},
   "outputs": [
    {
     "data": {
      "text/plain": [
       "(397, 9)"
      ]
     },
     "execution_count": 146,
     "metadata": {},
     "output_type": "execute_result"
    }
   ],
   "source": [
    "Auto.shape"
   ]
  },
  {
   "cell_type": "code",
   "execution_count": 149,
   "id": "8da5508d",
   "metadata": {},
   "outputs": [
    {
     "data": {
      "text/plain": [
       "(392, 9)"
      ]
     },
     "execution_count": 149,
     "metadata": {},
     "output_type": "execute_result"
    }
   ],
   "source": [
    "# remove rows with missing data\n",
    "Auto_new = Auto.dropna()\n",
    "Auto_new.shape"
   ]
  },
  {
   "cell_type": "markdown",
   "id": "66b6cc1d",
   "metadata": {},
   "source": [
    "## Selecting rows and columns"
   ]
  },
  {
   "cell_type": "code",
   "execution_count": 150,
   "id": "91f1a900",
   "metadata": {},
   "outputs": [
    {
     "data": {
      "text/plain": [
       "Index(['mpg', 'cylinders', 'displacement', 'horsepower', 'weight',\n",
       "       'acceleration', 'year', 'origin', 'name'],\n",
       "      dtype='object')"
      ]
     },
     "execution_count": 150,
     "metadata": {},
     "output_type": "execute_result"
    }
   ],
   "source": [
    "Auto = Auto_new\n",
    "Auto.columns"
   ]
  },
  {
   "cell_type": "code",
   "execution_count": 157,
   "id": "4880d6bf",
   "metadata": {},
   "outputs": [
    {
     "data": {
      "text/html": [
       "<div>\n",
       "<style scoped>\n",
       "    .dataframe tbody tr th:only-of-type {\n",
       "        vertical-align: middle;\n",
       "    }\n",
       "\n",
       "    .dataframe tbody tr th {\n",
       "        vertical-align: top;\n",
       "    }\n",
       "\n",
       "    .dataframe thead th {\n",
       "        text-align: right;\n",
       "    }\n",
       "</style>\n",
       "<table border=\"1\" class=\"dataframe\">\n",
       "  <thead>\n",
       "    <tr style=\"text-align: right;\">\n",
       "      <th></th>\n",
       "      <th>mpg</th>\n",
       "      <th>cylinders</th>\n",
       "      <th>displacement</th>\n",
       "      <th>horsepower</th>\n",
       "      <th>weight</th>\n",
       "      <th>acceleration</th>\n",
       "      <th>year</th>\n",
       "      <th>origin</th>\n",
       "      <th>name</th>\n",
       "    </tr>\n",
       "  </thead>\n",
       "  <tbody>\n",
       "    <tr>\n",
       "      <th>0</th>\n",
       "      <td>18.0</td>\n",
       "      <td>8</td>\n",
       "      <td>307.0</td>\n",
       "      <td>130.0</td>\n",
       "      <td>3504.0</td>\n",
       "      <td>12.0</td>\n",
       "      <td>70</td>\n",
       "      <td>1</td>\n",
       "      <td>chevrolet chevelle malibu</td>\n",
       "    </tr>\n",
       "    <tr>\n",
       "      <th>1</th>\n",
       "      <td>15.0</td>\n",
       "      <td>8</td>\n",
       "      <td>350.0</td>\n",
       "      <td>165.0</td>\n",
       "      <td>3693.0</td>\n",
       "      <td>11.5</td>\n",
       "      <td>70</td>\n",
       "      <td>1</td>\n",
       "      <td>buick skylark 320</td>\n",
       "    </tr>\n",
       "    <tr>\n",
       "      <th>2</th>\n",
       "      <td>18.0</td>\n",
       "      <td>8</td>\n",
       "      <td>318.0</td>\n",
       "      <td>150.0</td>\n",
       "      <td>3436.0</td>\n",
       "      <td>11.0</td>\n",
       "      <td>70</td>\n",
       "      <td>1</td>\n",
       "      <td>plymouth satellite</td>\n",
       "    </tr>\n",
       "  </tbody>\n",
       "</table>\n",
       "</div>"
      ],
      "text/plain": [
       "    mpg  cylinders  displacement  horsepower  weight  acceleration  year  \\\n",
       "0  18.0          8         307.0       130.0  3504.0          12.0    70   \n",
       "1  15.0          8         350.0       165.0  3693.0          11.5    70   \n",
       "2  18.0          8         318.0       150.0  3436.0          11.0    70   \n",
       "\n",
       "   origin                       name  \n",
       "0       1  chevrolet chevelle malibu  \n",
       "1       1          buick skylark 320  \n",
       "2       1         plymouth satellite  "
      ]
     },
     "execution_count": 157,
     "metadata": {},
     "output_type": "execute_result"
    }
   ],
   "source": [
    "# 1st 3 rows\n",
    "Auto[:3]"
   ]
  },
  {
   "cell_type": "code",
   "execution_count": 159,
   "id": "b78e3083",
   "metadata": {
    "scrolled": true
   },
   "outputs": [
    {
     "data": {
      "text/html": [
       "<div>\n",
       "<style scoped>\n",
       "    .dataframe tbody tr th:only-of-type {\n",
       "        vertical-align: middle;\n",
       "    }\n",
       "\n",
       "    .dataframe tbody tr th {\n",
       "        vertical-align: top;\n",
       "    }\n",
       "\n",
       "    .dataframe thead th {\n",
       "        text-align: right;\n",
       "    }\n",
       "</style>\n",
       "<table border=\"1\" class=\"dataframe\">\n",
       "  <thead>\n",
       "    <tr style=\"text-align: right;\">\n",
       "      <th></th>\n",
       "      <th>mpg</th>\n",
       "      <th>cylinders</th>\n",
       "      <th>displacement</th>\n",
       "      <th>horsepower</th>\n",
       "      <th>weight</th>\n",
       "      <th>acceleration</th>\n",
       "      <th>year</th>\n",
       "      <th>origin</th>\n",
       "      <th>name</th>\n",
       "    </tr>\n",
       "  </thead>\n",
       "  <tbody>\n",
       "    <tr>\n",
       "      <th>367</th>\n",
       "      <td>28.0</td>\n",
       "      <td>4</td>\n",
       "      <td>112.0</td>\n",
       "      <td>88.0</td>\n",
       "      <td>2605.0</td>\n",
       "      <td>19.6</td>\n",
       "      <td>82</td>\n",
       "      <td>1</td>\n",
       "      <td>chevrolet cavalier</td>\n",
       "    </tr>\n",
       "    <tr>\n",
       "      <th>368</th>\n",
       "      <td>27.0</td>\n",
       "      <td>4</td>\n",
       "      <td>112.0</td>\n",
       "      <td>88.0</td>\n",
       "      <td>2640.0</td>\n",
       "      <td>18.6</td>\n",
       "      <td>82</td>\n",
       "      <td>1</td>\n",
       "      <td>chevrolet cavalier wagon</td>\n",
       "    </tr>\n",
       "    <tr>\n",
       "      <th>369</th>\n",
       "      <td>34.0</td>\n",
       "      <td>4</td>\n",
       "      <td>112.0</td>\n",
       "      <td>88.0</td>\n",
       "      <td>2395.0</td>\n",
       "      <td>18.0</td>\n",
       "      <td>82</td>\n",
       "      <td>1</td>\n",
       "      <td>chevrolet cavalier 2-door</td>\n",
       "    </tr>\n",
       "    <tr>\n",
       "      <th>370</th>\n",
       "      <td>31.0</td>\n",
       "      <td>4</td>\n",
       "      <td>112.0</td>\n",
       "      <td>85.0</td>\n",
       "      <td>2575.0</td>\n",
       "      <td>16.2</td>\n",
       "      <td>82</td>\n",
       "      <td>1</td>\n",
       "      <td>pontiac j2000 se hatchback</td>\n",
       "    </tr>\n",
       "    <tr>\n",
       "      <th>371</th>\n",
       "      <td>29.0</td>\n",
       "      <td>4</td>\n",
       "      <td>135.0</td>\n",
       "      <td>84.0</td>\n",
       "      <td>2525.0</td>\n",
       "      <td>16.0</td>\n",
       "      <td>82</td>\n",
       "      <td>1</td>\n",
       "      <td>dodge aries se</td>\n",
       "    </tr>\n",
       "    <tr>\n",
       "      <th>372</th>\n",
       "      <td>27.0</td>\n",
       "      <td>4</td>\n",
       "      <td>151.0</td>\n",
       "      <td>90.0</td>\n",
       "      <td>2735.0</td>\n",
       "      <td>18.0</td>\n",
       "      <td>82</td>\n",
       "      <td>1</td>\n",
       "      <td>pontiac phoenix</td>\n",
       "    </tr>\n",
       "    <tr>\n",
       "      <th>373</th>\n",
       "      <td>24.0</td>\n",
       "      <td>4</td>\n",
       "      <td>140.0</td>\n",
       "      <td>92.0</td>\n",
       "      <td>2865.0</td>\n",
       "      <td>16.4</td>\n",
       "      <td>82</td>\n",
       "      <td>1</td>\n",
       "      <td>ford fairmont futura</td>\n",
       "    </tr>\n",
       "    <tr>\n",
       "      <th>374</th>\n",
       "      <td>36.0</td>\n",
       "      <td>4</td>\n",
       "      <td>105.0</td>\n",
       "      <td>74.0</td>\n",
       "      <td>1980.0</td>\n",
       "      <td>15.3</td>\n",
       "      <td>82</td>\n",
       "      <td>2</td>\n",
       "      <td>volkswagen rabbit l</td>\n",
       "    </tr>\n",
       "    <tr>\n",
       "      <th>375</th>\n",
       "      <td>37.0</td>\n",
       "      <td>4</td>\n",
       "      <td>91.0</td>\n",
       "      <td>68.0</td>\n",
       "      <td>2025.0</td>\n",
       "      <td>18.2</td>\n",
       "      <td>82</td>\n",
       "      <td>3</td>\n",
       "      <td>mazda glc custom l</td>\n",
       "    </tr>\n",
       "    <tr>\n",
       "      <th>376</th>\n",
       "      <td>31.0</td>\n",
       "      <td>4</td>\n",
       "      <td>91.0</td>\n",
       "      <td>68.0</td>\n",
       "      <td>1970.0</td>\n",
       "      <td>17.6</td>\n",
       "      <td>82</td>\n",
       "      <td>3</td>\n",
       "      <td>mazda glc custom</td>\n",
       "    </tr>\n",
       "    <tr>\n",
       "      <th>377</th>\n",
       "      <td>38.0</td>\n",
       "      <td>4</td>\n",
       "      <td>105.0</td>\n",
       "      <td>63.0</td>\n",
       "      <td>2125.0</td>\n",
       "      <td>14.7</td>\n",
       "      <td>82</td>\n",
       "      <td>1</td>\n",
       "      <td>plymouth horizon miser</td>\n",
       "    </tr>\n",
       "    <tr>\n",
       "      <th>378</th>\n",
       "      <td>36.0</td>\n",
       "      <td>4</td>\n",
       "      <td>98.0</td>\n",
       "      <td>70.0</td>\n",
       "      <td>2125.0</td>\n",
       "      <td>17.3</td>\n",
       "      <td>82</td>\n",
       "      <td>1</td>\n",
       "      <td>mercury lynx l</td>\n",
       "    </tr>\n",
       "    <tr>\n",
       "      <th>379</th>\n",
       "      <td>36.0</td>\n",
       "      <td>4</td>\n",
       "      <td>120.0</td>\n",
       "      <td>88.0</td>\n",
       "      <td>2160.0</td>\n",
       "      <td>14.5</td>\n",
       "      <td>82</td>\n",
       "      <td>3</td>\n",
       "      <td>nissan stanza xe</td>\n",
       "    </tr>\n",
       "    <tr>\n",
       "      <th>380</th>\n",
       "      <td>36.0</td>\n",
       "      <td>4</td>\n",
       "      <td>107.0</td>\n",
       "      <td>75.0</td>\n",
       "      <td>2205.0</td>\n",
       "      <td>14.5</td>\n",
       "      <td>82</td>\n",
       "      <td>3</td>\n",
       "      <td>honda accord</td>\n",
       "    </tr>\n",
       "    <tr>\n",
       "      <th>381</th>\n",
       "      <td>34.0</td>\n",
       "      <td>4</td>\n",
       "      <td>108.0</td>\n",
       "      <td>70.0</td>\n",
       "      <td>2245.0</td>\n",
       "      <td>16.9</td>\n",
       "      <td>82</td>\n",
       "      <td>3</td>\n",
       "      <td>toyota corolla</td>\n",
       "    </tr>\n",
       "    <tr>\n",
       "      <th>382</th>\n",
       "      <td>38.0</td>\n",
       "      <td>4</td>\n",
       "      <td>91.0</td>\n",
       "      <td>67.0</td>\n",
       "      <td>1965.0</td>\n",
       "      <td>15.0</td>\n",
       "      <td>82</td>\n",
       "      <td>3</td>\n",
       "      <td>honda civic</td>\n",
       "    </tr>\n",
       "    <tr>\n",
       "      <th>383</th>\n",
       "      <td>32.0</td>\n",
       "      <td>4</td>\n",
       "      <td>91.0</td>\n",
       "      <td>67.0</td>\n",
       "      <td>1965.0</td>\n",
       "      <td>15.7</td>\n",
       "      <td>82</td>\n",
       "      <td>3</td>\n",
       "      <td>honda civic (auto)</td>\n",
       "    </tr>\n",
       "    <tr>\n",
       "      <th>384</th>\n",
       "      <td>38.0</td>\n",
       "      <td>4</td>\n",
       "      <td>91.0</td>\n",
       "      <td>67.0</td>\n",
       "      <td>1995.0</td>\n",
       "      <td>16.2</td>\n",
       "      <td>82</td>\n",
       "      <td>3</td>\n",
       "      <td>datsun 310 gx</td>\n",
       "    </tr>\n",
       "    <tr>\n",
       "      <th>385</th>\n",
       "      <td>25.0</td>\n",
       "      <td>6</td>\n",
       "      <td>181.0</td>\n",
       "      <td>110.0</td>\n",
       "      <td>2945.0</td>\n",
       "      <td>16.4</td>\n",
       "      <td>82</td>\n",
       "      <td>1</td>\n",
       "      <td>buick century limited</td>\n",
       "    </tr>\n",
       "    <tr>\n",
       "      <th>386</th>\n",
       "      <td>38.0</td>\n",
       "      <td>6</td>\n",
       "      <td>262.0</td>\n",
       "      <td>85.0</td>\n",
       "      <td>3015.0</td>\n",
       "      <td>17.0</td>\n",
       "      <td>82</td>\n",
       "      <td>1</td>\n",
       "      <td>oldsmobile cutlass ciera (diesel)</td>\n",
       "    </tr>\n",
       "    <tr>\n",
       "      <th>387</th>\n",
       "      <td>26.0</td>\n",
       "      <td>4</td>\n",
       "      <td>156.0</td>\n",
       "      <td>92.0</td>\n",
       "      <td>2585.0</td>\n",
       "      <td>14.5</td>\n",
       "      <td>82</td>\n",
       "      <td>1</td>\n",
       "      <td>chrysler lebaron medallion</td>\n",
       "    </tr>\n",
       "    <tr>\n",
       "      <th>388</th>\n",
       "      <td>22.0</td>\n",
       "      <td>6</td>\n",
       "      <td>232.0</td>\n",
       "      <td>112.0</td>\n",
       "      <td>2835.0</td>\n",
       "      <td>14.7</td>\n",
       "      <td>82</td>\n",
       "      <td>1</td>\n",
       "      <td>ford granada l</td>\n",
       "    </tr>\n",
       "    <tr>\n",
       "      <th>389</th>\n",
       "      <td>32.0</td>\n",
       "      <td>4</td>\n",
       "      <td>144.0</td>\n",
       "      <td>96.0</td>\n",
       "      <td>2665.0</td>\n",
       "      <td>13.9</td>\n",
       "      <td>82</td>\n",
       "      <td>3</td>\n",
       "      <td>toyota celica gt</td>\n",
       "    </tr>\n",
       "    <tr>\n",
       "      <th>390</th>\n",
       "      <td>36.0</td>\n",
       "      <td>4</td>\n",
       "      <td>135.0</td>\n",
       "      <td>84.0</td>\n",
       "      <td>2370.0</td>\n",
       "      <td>13.0</td>\n",
       "      <td>82</td>\n",
       "      <td>1</td>\n",
       "      <td>dodge charger 2.2</td>\n",
       "    </tr>\n",
       "    <tr>\n",
       "      <th>391</th>\n",
       "      <td>27.0</td>\n",
       "      <td>4</td>\n",
       "      <td>151.0</td>\n",
       "      <td>90.0</td>\n",
       "      <td>2950.0</td>\n",
       "      <td>17.3</td>\n",
       "      <td>82</td>\n",
       "      <td>1</td>\n",
       "      <td>chevrolet camaro</td>\n",
       "    </tr>\n",
       "    <tr>\n",
       "      <th>392</th>\n",
       "      <td>27.0</td>\n",
       "      <td>4</td>\n",
       "      <td>140.0</td>\n",
       "      <td>86.0</td>\n",
       "      <td>2790.0</td>\n",
       "      <td>15.6</td>\n",
       "      <td>82</td>\n",
       "      <td>1</td>\n",
       "      <td>ford mustang gl</td>\n",
       "    </tr>\n",
       "    <tr>\n",
       "      <th>393</th>\n",
       "      <td>44.0</td>\n",
       "      <td>4</td>\n",
       "      <td>97.0</td>\n",
       "      <td>52.0</td>\n",
       "      <td>2130.0</td>\n",
       "      <td>24.6</td>\n",
       "      <td>82</td>\n",
       "      <td>2</td>\n",
       "      <td>vw pickup</td>\n",
       "    </tr>\n",
       "    <tr>\n",
       "      <th>394</th>\n",
       "      <td>32.0</td>\n",
       "      <td>4</td>\n",
       "      <td>135.0</td>\n",
       "      <td>84.0</td>\n",
       "      <td>2295.0</td>\n",
       "      <td>11.6</td>\n",
       "      <td>82</td>\n",
       "      <td>1</td>\n",
       "      <td>dodge rampage</td>\n",
       "    </tr>\n",
       "    <tr>\n",
       "      <th>395</th>\n",
       "      <td>28.0</td>\n",
       "      <td>4</td>\n",
       "      <td>120.0</td>\n",
       "      <td>79.0</td>\n",
       "      <td>2625.0</td>\n",
       "      <td>18.6</td>\n",
       "      <td>82</td>\n",
       "      <td>1</td>\n",
       "      <td>ford ranger</td>\n",
       "    </tr>\n",
       "    <tr>\n",
       "      <th>396</th>\n",
       "      <td>31.0</td>\n",
       "      <td>4</td>\n",
       "      <td>119.0</td>\n",
       "      <td>82.0</td>\n",
       "      <td>2720.0</td>\n",
       "      <td>19.4</td>\n",
       "      <td>82</td>\n",
       "      <td>1</td>\n",
       "      <td>chevy s-10</td>\n",
       "    </tr>\n",
       "  </tbody>\n",
       "</table>\n",
       "</div>"
      ],
      "text/plain": [
       "      mpg  cylinders  displacement  horsepower  weight  acceleration  year  \\\n",
       "367  28.0          4         112.0        88.0  2605.0          19.6    82   \n",
       "368  27.0          4         112.0        88.0  2640.0          18.6    82   \n",
       "369  34.0          4         112.0        88.0  2395.0          18.0    82   \n",
       "370  31.0          4         112.0        85.0  2575.0          16.2    82   \n",
       "371  29.0          4         135.0        84.0  2525.0          16.0    82   \n",
       "372  27.0          4         151.0        90.0  2735.0          18.0    82   \n",
       "373  24.0          4         140.0        92.0  2865.0          16.4    82   \n",
       "374  36.0          4         105.0        74.0  1980.0          15.3    82   \n",
       "375  37.0          4          91.0        68.0  2025.0          18.2    82   \n",
       "376  31.0          4          91.0        68.0  1970.0          17.6    82   \n",
       "377  38.0          4         105.0        63.0  2125.0          14.7    82   \n",
       "378  36.0          4          98.0        70.0  2125.0          17.3    82   \n",
       "379  36.0          4         120.0        88.0  2160.0          14.5    82   \n",
       "380  36.0          4         107.0        75.0  2205.0          14.5    82   \n",
       "381  34.0          4         108.0        70.0  2245.0          16.9    82   \n",
       "382  38.0          4          91.0        67.0  1965.0          15.0    82   \n",
       "383  32.0          4          91.0        67.0  1965.0          15.7    82   \n",
       "384  38.0          4          91.0        67.0  1995.0          16.2    82   \n",
       "385  25.0          6         181.0       110.0  2945.0          16.4    82   \n",
       "386  38.0          6         262.0        85.0  3015.0          17.0    82   \n",
       "387  26.0          4         156.0        92.0  2585.0          14.5    82   \n",
       "388  22.0          6         232.0       112.0  2835.0          14.7    82   \n",
       "389  32.0          4         144.0        96.0  2665.0          13.9    82   \n",
       "390  36.0          4         135.0        84.0  2370.0          13.0    82   \n",
       "391  27.0          4         151.0        90.0  2950.0          17.3    82   \n",
       "392  27.0          4         140.0        86.0  2790.0          15.6    82   \n",
       "393  44.0          4          97.0        52.0  2130.0          24.6    82   \n",
       "394  32.0          4         135.0        84.0  2295.0          11.6    82   \n",
       "395  28.0          4         120.0        79.0  2625.0          18.6    82   \n",
       "396  31.0          4         119.0        82.0  2720.0          19.4    82   \n",
       "\n",
       "     origin                               name  \n",
       "367       1                 chevrolet cavalier  \n",
       "368       1           chevrolet cavalier wagon  \n",
       "369       1          chevrolet cavalier 2-door  \n",
       "370       1         pontiac j2000 se hatchback  \n",
       "371       1                     dodge aries se  \n",
       "372       1                    pontiac phoenix  \n",
       "373       1               ford fairmont futura  \n",
       "374       2                volkswagen rabbit l  \n",
       "375       3                 mazda glc custom l  \n",
       "376       3                   mazda glc custom  \n",
       "377       1             plymouth horizon miser  \n",
       "378       1                     mercury lynx l  \n",
       "379       3                   nissan stanza xe  \n",
       "380       3                       honda accord  \n",
       "381       3                     toyota corolla  \n",
       "382       3                        honda civic  \n",
       "383       3                 honda civic (auto)  \n",
       "384       3                      datsun 310 gx  \n",
       "385       1              buick century limited  \n",
       "386       1  oldsmobile cutlass ciera (diesel)  \n",
       "387       1         chrysler lebaron medallion  \n",
       "388       1                     ford granada l  \n",
       "389       3                   toyota celica gt  \n",
       "390       1                  dodge charger 2.2  \n",
       "391       1                   chevrolet camaro  \n",
       "392       1                    ford mustang gl  \n",
       "393       2                          vw pickup  \n",
       "394       1                      dodge rampage  \n",
       "395       1                        ford ranger  \n",
       "396       1                         chevy s-10  "
      ]
     },
     "execution_count": 159,
     "metadata": {},
     "output_type": "execute_result"
    }
   ],
   "source": [
    "# using booleans\n",
    "idx_80 = Auto[\"year\"] > 81\n",
    "Auto[idx_80]"
   ]
  },
  {
   "cell_type": "code",
   "execution_count": 160,
   "id": "8ad59af5",
   "metadata": {},
   "outputs": [
    {
     "data": {
      "text/html": [
       "<div>\n",
       "<style scoped>\n",
       "    .dataframe tbody tr th:only-of-type {\n",
       "        vertical-align: middle;\n",
       "    }\n",
       "\n",
       "    .dataframe tbody tr th {\n",
       "        vertical-align: top;\n",
       "    }\n",
       "\n",
       "    .dataframe thead th {\n",
       "        text-align: right;\n",
       "    }\n",
       "</style>\n",
       "<table border=\"1\" class=\"dataframe\">\n",
       "  <thead>\n",
       "    <tr style=\"text-align: right;\">\n",
       "      <th></th>\n",
       "      <th>mpg</th>\n",
       "      <th>horsepower</th>\n",
       "    </tr>\n",
       "  </thead>\n",
       "  <tbody>\n",
       "    <tr>\n",
       "      <th>0</th>\n",
       "      <td>18.0</td>\n",
       "      <td>130.0</td>\n",
       "    </tr>\n",
       "    <tr>\n",
       "      <th>1</th>\n",
       "      <td>15.0</td>\n",
       "      <td>165.0</td>\n",
       "    </tr>\n",
       "    <tr>\n",
       "      <th>2</th>\n",
       "      <td>18.0</td>\n",
       "      <td>150.0</td>\n",
       "    </tr>\n",
       "    <tr>\n",
       "      <th>3</th>\n",
       "      <td>16.0</td>\n",
       "      <td>150.0</td>\n",
       "    </tr>\n",
       "    <tr>\n",
       "      <th>4</th>\n",
       "      <td>17.0</td>\n",
       "      <td>140.0</td>\n",
       "    </tr>\n",
       "    <tr>\n",
       "      <th>...</th>\n",
       "      <td>...</td>\n",
       "      <td>...</td>\n",
       "    </tr>\n",
       "    <tr>\n",
       "      <th>392</th>\n",
       "      <td>27.0</td>\n",
       "      <td>86.0</td>\n",
       "    </tr>\n",
       "    <tr>\n",
       "      <th>393</th>\n",
       "      <td>44.0</td>\n",
       "      <td>52.0</td>\n",
       "    </tr>\n",
       "    <tr>\n",
       "      <th>394</th>\n",
       "      <td>32.0</td>\n",
       "      <td>84.0</td>\n",
       "    </tr>\n",
       "    <tr>\n",
       "      <th>395</th>\n",
       "      <td>28.0</td>\n",
       "      <td>79.0</td>\n",
       "    </tr>\n",
       "    <tr>\n",
       "      <th>396</th>\n",
       "      <td>31.0</td>\n",
       "      <td>82.0</td>\n",
       "    </tr>\n",
       "  </tbody>\n",
       "</table>\n",
       "<p>392 rows × 2 columns</p>\n",
       "</div>"
      ],
      "text/plain": [
       "      mpg  horsepower\n",
       "0    18.0       130.0\n",
       "1    15.0       165.0\n",
       "2    18.0       150.0\n",
       "3    16.0       150.0\n",
       "4    17.0       140.0\n",
       "..    ...         ...\n",
       "392  27.0        86.0\n",
       "393  44.0        52.0\n",
       "394  32.0        84.0\n",
       "395  28.0        79.0\n",
       "396  31.0        82.0\n",
       "\n",
       "[392 rows x 2 columns]"
      ]
     },
     "execution_count": 160,
     "metadata": {},
     "output_type": "execute_result"
    }
   ],
   "source": [
    "# get columns\n",
    "Auto[[\"mpg\", \"horsepower\"]]"
   ]
  },
  {
   "cell_type": "code",
   "execution_count": 161,
   "id": "7d11d90d",
   "metadata": {},
   "outputs": [
    {
     "data": {
      "text/plain": [
       "Int64Index([  0,   1,   2,   3,   4,   5,   6,   7,   8,   9,\n",
       "            ...\n",
       "            387, 388, 389, 390, 391, 392, 393, 394, 395, 396],\n",
       "           dtype='int64', length=392)"
      ]
     },
     "execution_count": 161,
     "metadata": {},
     "output_type": "execute_result"
    }
   ],
   "source": [
    "Auto.index"
   ]
  },
  {
   "cell_type": "code",
   "execution_count": 163,
   "id": "509b358b",
   "metadata": {},
   "outputs": [
    {
     "data": {
      "text/html": [
       "<div>\n",
       "<style scoped>\n",
       "    .dataframe tbody tr th:only-of-type {\n",
       "        vertical-align: middle;\n",
       "    }\n",
       "\n",
       "    .dataframe tbody tr th {\n",
       "        vertical-align: top;\n",
       "    }\n",
       "\n",
       "    .dataframe thead th {\n",
       "        text-align: right;\n",
       "    }\n",
       "</style>\n",
       "<table border=\"1\" class=\"dataframe\">\n",
       "  <thead>\n",
       "    <tr style=\"text-align: right;\">\n",
       "      <th></th>\n",
       "      <th>mpg</th>\n",
       "      <th>cylinders</th>\n",
       "      <th>displacement</th>\n",
       "      <th>horsepower</th>\n",
       "      <th>weight</th>\n",
       "      <th>acceleration</th>\n",
       "      <th>year</th>\n",
       "      <th>origin</th>\n",
       "    </tr>\n",
       "    <tr>\n",
       "      <th>name</th>\n",
       "      <th></th>\n",
       "      <th></th>\n",
       "      <th></th>\n",
       "      <th></th>\n",
       "      <th></th>\n",
       "      <th></th>\n",
       "      <th></th>\n",
       "      <th></th>\n",
       "    </tr>\n",
       "  </thead>\n",
       "  <tbody>\n",
       "    <tr>\n",
       "      <th>chevrolet chevelle malibu</th>\n",
       "      <td>18.0</td>\n",
       "      <td>8</td>\n",
       "      <td>307.0</td>\n",
       "      <td>130.0</td>\n",
       "      <td>3504.0</td>\n",
       "      <td>12.0</td>\n",
       "      <td>70</td>\n",
       "      <td>1</td>\n",
       "    </tr>\n",
       "    <tr>\n",
       "      <th>buick skylark 320</th>\n",
       "      <td>15.0</td>\n",
       "      <td>8</td>\n",
       "      <td>350.0</td>\n",
       "      <td>165.0</td>\n",
       "      <td>3693.0</td>\n",
       "      <td>11.5</td>\n",
       "      <td>70</td>\n",
       "      <td>1</td>\n",
       "    </tr>\n",
       "    <tr>\n",
       "      <th>plymouth satellite</th>\n",
       "      <td>18.0</td>\n",
       "      <td>8</td>\n",
       "      <td>318.0</td>\n",
       "      <td>150.0</td>\n",
       "      <td>3436.0</td>\n",
       "      <td>11.0</td>\n",
       "      <td>70</td>\n",
       "      <td>1</td>\n",
       "    </tr>\n",
       "    <tr>\n",
       "      <th>amc rebel sst</th>\n",
       "      <td>16.0</td>\n",
       "      <td>8</td>\n",
       "      <td>304.0</td>\n",
       "      <td>150.0</td>\n",
       "      <td>3433.0</td>\n",
       "      <td>12.0</td>\n",
       "      <td>70</td>\n",
       "      <td>1</td>\n",
       "    </tr>\n",
       "    <tr>\n",
       "      <th>ford torino</th>\n",
       "      <td>17.0</td>\n",
       "      <td>8</td>\n",
       "      <td>302.0</td>\n",
       "      <td>140.0</td>\n",
       "      <td>3449.0</td>\n",
       "      <td>10.5</td>\n",
       "      <td>70</td>\n",
       "      <td>1</td>\n",
       "    </tr>\n",
       "    <tr>\n",
       "      <th>...</th>\n",
       "      <td>...</td>\n",
       "      <td>...</td>\n",
       "      <td>...</td>\n",
       "      <td>...</td>\n",
       "      <td>...</td>\n",
       "      <td>...</td>\n",
       "      <td>...</td>\n",
       "      <td>...</td>\n",
       "    </tr>\n",
       "    <tr>\n",
       "      <th>ford mustang gl</th>\n",
       "      <td>27.0</td>\n",
       "      <td>4</td>\n",
       "      <td>140.0</td>\n",
       "      <td>86.0</td>\n",
       "      <td>2790.0</td>\n",
       "      <td>15.6</td>\n",
       "      <td>82</td>\n",
       "      <td>1</td>\n",
       "    </tr>\n",
       "    <tr>\n",
       "      <th>vw pickup</th>\n",
       "      <td>44.0</td>\n",
       "      <td>4</td>\n",
       "      <td>97.0</td>\n",
       "      <td>52.0</td>\n",
       "      <td>2130.0</td>\n",
       "      <td>24.6</td>\n",
       "      <td>82</td>\n",
       "      <td>2</td>\n",
       "    </tr>\n",
       "    <tr>\n",
       "      <th>dodge rampage</th>\n",
       "      <td>32.0</td>\n",
       "      <td>4</td>\n",
       "      <td>135.0</td>\n",
       "      <td>84.0</td>\n",
       "      <td>2295.0</td>\n",
       "      <td>11.6</td>\n",
       "      <td>82</td>\n",
       "      <td>1</td>\n",
       "    </tr>\n",
       "    <tr>\n",
       "      <th>ford ranger</th>\n",
       "      <td>28.0</td>\n",
       "      <td>4</td>\n",
       "      <td>120.0</td>\n",
       "      <td>79.0</td>\n",
       "      <td>2625.0</td>\n",
       "      <td>18.6</td>\n",
       "      <td>82</td>\n",
       "      <td>1</td>\n",
       "    </tr>\n",
       "    <tr>\n",
       "      <th>chevy s-10</th>\n",
       "      <td>31.0</td>\n",
       "      <td>4</td>\n",
       "      <td>119.0</td>\n",
       "      <td>82.0</td>\n",
       "      <td>2720.0</td>\n",
       "      <td>19.4</td>\n",
       "      <td>82</td>\n",
       "      <td>1</td>\n",
       "    </tr>\n",
       "  </tbody>\n",
       "</table>\n",
       "<p>392 rows × 8 columns</p>\n",
       "</div>"
      ],
      "text/plain": [
       "                            mpg  cylinders  displacement  horsepower  weight  \\\n",
       "name                                                                           \n",
       "chevrolet chevelle malibu  18.0          8         307.0       130.0  3504.0   \n",
       "buick skylark 320          15.0          8         350.0       165.0  3693.0   \n",
       "plymouth satellite         18.0          8         318.0       150.0  3436.0   \n",
       "amc rebel sst              16.0          8         304.0       150.0  3433.0   \n",
       "ford torino                17.0          8         302.0       140.0  3449.0   \n",
       "...                         ...        ...           ...         ...     ...   \n",
       "ford mustang gl            27.0          4         140.0        86.0  2790.0   \n",
       "vw pickup                  44.0          4          97.0        52.0  2130.0   \n",
       "dodge rampage              32.0          4         135.0        84.0  2295.0   \n",
       "ford ranger                28.0          4         120.0        79.0  2625.0   \n",
       "chevy s-10                 31.0          4         119.0        82.0  2720.0   \n",
       "\n",
       "                           acceleration  year  origin  \n",
       "name                                                   \n",
       "chevrolet chevelle malibu          12.0    70       1  \n",
       "buick skylark 320                  11.5    70       1  \n",
       "plymouth satellite                 11.0    70       1  \n",
       "amc rebel sst                      12.0    70       1  \n",
       "ford torino                        10.5    70       1  \n",
       "...                                 ...   ...     ...  \n",
       "ford mustang gl                    15.6    82       1  \n",
       "vw pickup                          24.6    82       2  \n",
       "dodge rampage                      11.6    82       1  \n",
       "ford ranger                        18.6    82       1  \n",
       "chevy s-10                         19.4    82       1  \n",
       "\n",
       "[392 rows x 8 columns]"
      ]
     },
     "execution_count": 163,
     "metadata": {},
     "output_type": "execute_result"
    }
   ],
   "source": [
    "# reset index\n",
    "Auto.set_index(\"name\", inplace=True)\n",
    "Auto"
   ]
  },
  {
   "cell_type": "code",
   "execution_count": 165,
   "id": "6b2e65d9",
   "metadata": {},
   "outputs": [
    {
     "data": {
      "text/plain": [
       "mpg               44.0\n",
       "cylinders          4.0\n",
       "displacement      97.0\n",
       "horsepower        52.0\n",
       "weight          2130.0\n",
       "acceleration      24.6\n",
       "year              82.0\n",
       "origin             2.0\n",
       "Name: vw pickup, dtype: float64"
      ]
     },
     "execution_count": 165,
     "metadata": {},
     "output_type": "execute_result"
    }
   ],
   "source": [
    "# access rows using loc\n",
    "Auto.loc[\"vw pickup\"]"
   ]
  },
  {
   "cell_type": "code",
   "execution_count": 166,
   "id": "f029c706",
   "metadata": {},
   "outputs": [
    {
     "data": {
      "text/html": [
       "<div>\n",
       "<style scoped>\n",
       "    .dataframe tbody tr th:only-of-type {\n",
       "        vertical-align: middle;\n",
       "    }\n",
       "\n",
       "    .dataframe tbody tr th {\n",
       "        vertical-align: top;\n",
       "    }\n",
       "\n",
       "    .dataframe thead th {\n",
       "        text-align: right;\n",
       "    }\n",
       "</style>\n",
       "<table border=\"1\" class=\"dataframe\">\n",
       "  <thead>\n",
       "    <tr style=\"text-align: right;\">\n",
       "      <th></th>\n",
       "      <th>mpg</th>\n",
       "      <th>cylinders</th>\n",
       "      <th>displacement</th>\n",
       "      <th>horsepower</th>\n",
       "      <th>weight</th>\n",
       "      <th>acceleration</th>\n",
       "      <th>year</th>\n",
       "      <th>origin</th>\n",
       "    </tr>\n",
       "    <tr>\n",
       "      <th>name</th>\n",
       "      <th></th>\n",
       "      <th></th>\n",
       "      <th></th>\n",
       "      <th></th>\n",
       "      <th></th>\n",
       "      <th></th>\n",
       "      <th></th>\n",
       "      <th></th>\n",
       "    </tr>\n",
       "  </thead>\n",
       "  <tbody>\n",
       "    <tr>\n",
       "      <th>buick skylark 320</th>\n",
       "      <td>15.0</td>\n",
       "      <td>8</td>\n",
       "      <td>350.0</td>\n",
       "      <td>165.0</td>\n",
       "      <td>3693.0</td>\n",
       "      <td>11.5</td>\n",
       "      <td>70</td>\n",
       "      <td>1</td>\n",
       "    </tr>\n",
       "    <tr>\n",
       "      <th>plymouth satellite</th>\n",
       "      <td>18.0</td>\n",
       "      <td>8</td>\n",
       "      <td>318.0</td>\n",
       "      <td>150.0</td>\n",
       "      <td>3436.0</td>\n",
       "      <td>11.0</td>\n",
       "      <td>70</td>\n",
       "      <td>1</td>\n",
       "    </tr>\n",
       "  </tbody>\n",
       "</table>\n",
       "</div>"
      ],
      "text/plain": [
       "                     mpg  cylinders  displacement  horsepower  weight  \\\n",
       "name                                                                    \n",
       "buick skylark 320   15.0          8         350.0       165.0  3693.0   \n",
       "plymouth satellite  18.0          8         318.0       150.0  3436.0   \n",
       "\n",
       "                    acceleration  year  origin  \n",
       "name                                            \n",
       "buick skylark 320           11.5    70       1  \n",
       "plymouth satellite          11.0    70       1  "
      ]
     },
     "execution_count": 166,
     "metadata": {},
     "output_type": "execute_result"
    }
   ],
   "source": [
    "# using iloc\n",
    "Auto.iloc[[1, 2]]"
   ]
  },
  {
   "cell_type": "code",
   "execution_count": 168,
   "id": "c2ce4f32",
   "metadata": {},
   "outputs": [
    {
     "data": {
      "text/html": [
       "<div>\n",
       "<style scoped>\n",
       "    .dataframe tbody tr th:only-of-type {\n",
       "        vertical-align: middle;\n",
       "    }\n",
       "\n",
       "    .dataframe tbody tr th {\n",
       "        vertical-align: top;\n",
       "    }\n",
       "\n",
       "    .dataframe thead th {\n",
       "        text-align: right;\n",
       "    }\n",
       "</style>\n",
       "<table border=\"1\" class=\"dataframe\">\n",
       "  <thead>\n",
       "    <tr style=\"text-align: right;\">\n",
       "      <th></th>\n",
       "      <th>mpg</th>\n",
       "      <th>displacement</th>\n",
       "      <th>horsepower</th>\n",
       "    </tr>\n",
       "    <tr>\n",
       "      <th>name</th>\n",
       "      <th></th>\n",
       "      <th></th>\n",
       "      <th></th>\n",
       "    </tr>\n",
       "  </thead>\n",
       "  <tbody>\n",
       "    <tr>\n",
       "      <th>chevrolet chevelle malibu</th>\n",
       "      <td>18.0</td>\n",
       "      <td>307.0</td>\n",
       "      <td>130.0</td>\n",
       "    </tr>\n",
       "    <tr>\n",
       "      <th>buick skylark 320</th>\n",
       "      <td>15.0</td>\n",
       "      <td>350.0</td>\n",
       "      <td>165.0</td>\n",
       "    </tr>\n",
       "    <tr>\n",
       "      <th>plymouth satellite</th>\n",
       "      <td>18.0</td>\n",
       "      <td>318.0</td>\n",
       "      <td>150.0</td>\n",
       "    </tr>\n",
       "    <tr>\n",
       "      <th>amc rebel sst</th>\n",
       "      <td>16.0</td>\n",
       "      <td>304.0</td>\n",
       "      <td>150.0</td>\n",
       "    </tr>\n",
       "    <tr>\n",
       "      <th>ford torino</th>\n",
       "      <td>17.0</td>\n",
       "      <td>302.0</td>\n",
       "      <td>140.0</td>\n",
       "    </tr>\n",
       "    <tr>\n",
       "      <th>...</th>\n",
       "      <td>...</td>\n",
       "      <td>...</td>\n",
       "      <td>...</td>\n",
       "    </tr>\n",
       "    <tr>\n",
       "      <th>ford mustang gl</th>\n",
       "      <td>27.0</td>\n",
       "      <td>140.0</td>\n",
       "      <td>86.0</td>\n",
       "    </tr>\n",
       "    <tr>\n",
       "      <th>vw pickup</th>\n",
       "      <td>44.0</td>\n",
       "      <td>97.0</td>\n",
       "      <td>52.0</td>\n",
       "    </tr>\n",
       "    <tr>\n",
       "      <th>dodge rampage</th>\n",
       "      <td>32.0</td>\n",
       "      <td>135.0</td>\n",
       "      <td>84.0</td>\n",
       "    </tr>\n",
       "    <tr>\n",
       "      <th>ford ranger</th>\n",
       "      <td>28.0</td>\n",
       "      <td>120.0</td>\n",
       "      <td>79.0</td>\n",
       "    </tr>\n",
       "    <tr>\n",
       "      <th>chevy s-10</th>\n",
       "      <td>31.0</td>\n",
       "      <td>119.0</td>\n",
       "      <td>82.0</td>\n",
       "    </tr>\n",
       "  </tbody>\n",
       "</table>\n",
       "<p>392 rows × 3 columns</p>\n",
       "</div>"
      ],
      "text/plain": [
       "                            mpg  displacement  horsepower\n",
       "name                                                     \n",
       "chevrolet chevelle malibu  18.0         307.0       130.0\n",
       "buick skylark 320          15.0         350.0       165.0\n",
       "plymouth satellite         18.0         318.0       150.0\n",
       "amc rebel sst              16.0         304.0       150.0\n",
       "ford torino                17.0         302.0       140.0\n",
       "...                         ...           ...         ...\n",
       "ford mustang gl            27.0         140.0        86.0\n",
       "vw pickup                  44.0          97.0        52.0\n",
       "dodge rampage              32.0         135.0        84.0\n",
       "ford ranger                28.0         120.0        79.0\n",
       "chevy s-10                 31.0         119.0        82.0\n",
       "\n",
       "[392 rows x 3 columns]"
      ]
     },
     "execution_count": 168,
     "metadata": {},
     "output_type": "execute_result"
    }
   ],
   "source": [
    "# accessing columns with iloc\n",
    "Auto.iloc[:, [0, 2, 3]]"
   ]
  },
  {
   "cell_type": "code",
   "execution_count": 169,
   "id": "fa93acd8",
   "metadata": {},
   "outputs": [
    {
     "data": {
      "text/html": [
       "<div>\n",
       "<style scoped>\n",
       "    .dataframe tbody tr th:only-of-type {\n",
       "        vertical-align: middle;\n",
       "    }\n",
       "\n",
       "    .dataframe tbody tr th {\n",
       "        vertical-align: top;\n",
       "    }\n",
       "\n",
       "    .dataframe thead th {\n",
       "        text-align: right;\n",
       "    }\n",
       "</style>\n",
       "<table border=\"1\" class=\"dataframe\">\n",
       "  <thead>\n",
       "    <tr style=\"text-align: right;\">\n",
       "      <th></th>\n",
       "      <th>mpg</th>\n",
       "      <th>displacement</th>\n",
       "      <th>horsepower</th>\n",
       "    </tr>\n",
       "    <tr>\n",
       "      <th>name</th>\n",
       "      <th></th>\n",
       "      <th></th>\n",
       "      <th></th>\n",
       "    </tr>\n",
       "  </thead>\n",
       "  <tbody>\n",
       "    <tr>\n",
       "      <th>amc rebel sst</th>\n",
       "      <td>16.0</td>\n",
       "      <td>304.0</td>\n",
       "      <td>150.0</td>\n",
       "    </tr>\n",
       "    <tr>\n",
       "      <th>ford torino</th>\n",
       "      <td>17.0</td>\n",
       "      <td>302.0</td>\n",
       "      <td>140.0</td>\n",
       "    </tr>\n",
       "  </tbody>\n",
       "</table>\n",
       "</div>"
      ],
      "text/plain": [
       "                mpg  displacement  horsepower\n",
       "name                                         \n",
       "amc rebel sst  16.0         304.0       150.0\n",
       "ford torino    17.0         302.0       140.0"
      ]
     },
     "execution_count": 169,
     "metadata": {},
     "output_type": "execute_result"
    }
   ],
   "source": [
    "Auto.iloc[[3, 4], [0, 2, 3]]"
   ]
  },
  {
   "cell_type": "code",
   "execution_count": 174,
   "id": "1d4e4d93",
   "metadata": {},
   "outputs": [
    {
     "data": {
      "text/html": [
       "<div>\n",
       "<style scoped>\n",
       "    .dataframe tbody tr th:only-of-type {\n",
       "        vertical-align: middle;\n",
       "    }\n",
       "\n",
       "    .dataframe tbody tr th {\n",
       "        vertical-align: top;\n",
       "    }\n",
       "\n",
       "    .dataframe thead th {\n",
       "        text-align: right;\n",
       "    }\n",
       "</style>\n",
       "<table border=\"1\" class=\"dataframe\">\n",
       "  <thead>\n",
       "    <tr style=\"text-align: right;\">\n",
       "      <th></th>\n",
       "      <th>mpg</th>\n",
       "      <th>origin</th>\n",
       "    </tr>\n",
       "    <tr>\n",
       "      <th>name</th>\n",
       "      <th></th>\n",
       "      <th></th>\n",
       "    </tr>\n",
       "  </thead>\n",
       "  <tbody>\n",
       "    <tr>\n",
       "      <th>ford galaxie 500</th>\n",
       "      <td>15.0</td>\n",
       "      <td>1</td>\n",
       "    </tr>\n",
       "    <tr>\n",
       "      <th>ford galaxie 500</th>\n",
       "      <td>14.0</td>\n",
       "      <td>1</td>\n",
       "    </tr>\n",
       "    <tr>\n",
       "      <th>ford galaxie 500</th>\n",
       "      <td>14.0</td>\n",
       "      <td>1</td>\n",
       "    </tr>\n",
       "  </tbody>\n",
       "</table>\n",
       "</div>"
      ],
      "text/plain": [
       "                   mpg  origin\n",
       "name                          \n",
       "ford galaxie 500  15.0       1\n",
       "ford galaxie 500  14.0       1\n",
       "ford galaxie 500  14.0       1"
      ]
     },
     "execution_count": 174,
     "metadata": {},
     "output_type": "execute_result"
    }
   ],
   "source": [
    "Auto.loc[\"ford galaxie 500\", [\"mpg\", \"origin\"]]"
   ]
  },
  {
   "cell_type": "markdown",
   "id": "92a9562e",
   "metadata": {},
   "source": [
    "## More on Selecting rows and columns"
   ]
  },
  {
   "cell_type": "code",
   "execution_count": 175,
   "id": "852bbdbc",
   "metadata": {
    "scrolled": true
   },
   "outputs": [
    {
     "data": {
      "text/html": [
       "<div>\n",
       "<style scoped>\n",
       "    .dataframe tbody tr th:only-of-type {\n",
       "        vertical-align: middle;\n",
       "    }\n",
       "\n",
       "    .dataframe tbody tr th {\n",
       "        vertical-align: top;\n",
       "    }\n",
       "\n",
       "    .dataframe thead th {\n",
       "        text-align: right;\n",
       "    }\n",
       "</style>\n",
       "<table border=\"1\" class=\"dataframe\">\n",
       "  <thead>\n",
       "    <tr style=\"text-align: right;\">\n",
       "      <th></th>\n",
       "      <th>weight</th>\n",
       "      <th>origin</th>\n",
       "    </tr>\n",
       "    <tr>\n",
       "      <th>name</th>\n",
       "      <th></th>\n",
       "      <th></th>\n",
       "    </tr>\n",
       "  </thead>\n",
       "  <tbody>\n",
       "    <tr>\n",
       "      <th>plymouth reliant</th>\n",
       "      <td>2490.0</td>\n",
       "      <td>1</td>\n",
       "    </tr>\n",
       "    <tr>\n",
       "      <th>buick skylark</th>\n",
       "      <td>2635.0</td>\n",
       "      <td>1</td>\n",
       "    </tr>\n",
       "    <tr>\n",
       "      <th>dodge aries wagon (sw)</th>\n",
       "      <td>2620.0</td>\n",
       "      <td>1</td>\n",
       "    </tr>\n",
       "    <tr>\n",
       "      <th>chevrolet citation</th>\n",
       "      <td>2725.0</td>\n",
       "      <td>1</td>\n",
       "    </tr>\n",
       "    <tr>\n",
       "      <th>plymouth reliant</th>\n",
       "      <td>2385.0</td>\n",
       "      <td>1</td>\n",
       "    </tr>\n",
       "    <tr>\n",
       "      <th>toyota starlet</th>\n",
       "      <td>1755.0</td>\n",
       "      <td>3</td>\n",
       "    </tr>\n",
       "    <tr>\n",
       "      <th>plymouth champ</th>\n",
       "      <td>1875.0</td>\n",
       "      <td>1</td>\n",
       "    </tr>\n",
       "    <tr>\n",
       "      <th>honda civic 1300</th>\n",
       "      <td>1760.0</td>\n",
       "      <td>3</td>\n",
       "    </tr>\n",
       "    <tr>\n",
       "      <th>subaru</th>\n",
       "      <td>2065.0</td>\n",
       "      <td>3</td>\n",
       "    </tr>\n",
       "    <tr>\n",
       "      <th>datsun 210 mpg</th>\n",
       "      <td>1975.0</td>\n",
       "      <td>3</td>\n",
       "    </tr>\n",
       "    <tr>\n",
       "      <th>toyota tercel</th>\n",
       "      <td>2050.0</td>\n",
       "      <td>3</td>\n",
       "    </tr>\n",
       "    <tr>\n",
       "      <th>mazda glc 4</th>\n",
       "      <td>1985.0</td>\n",
       "      <td>3</td>\n",
       "    </tr>\n",
       "    <tr>\n",
       "      <th>plymouth horizon 4</th>\n",
       "      <td>2215.0</td>\n",
       "      <td>1</td>\n",
       "    </tr>\n",
       "    <tr>\n",
       "      <th>ford escort 4w</th>\n",
       "      <td>2045.0</td>\n",
       "      <td>1</td>\n",
       "    </tr>\n",
       "    <tr>\n",
       "      <th>ford escort 2h</th>\n",
       "      <td>2380.0</td>\n",
       "      <td>1</td>\n",
       "    </tr>\n",
       "    <tr>\n",
       "      <th>volkswagen jetta</th>\n",
       "      <td>2190.0</td>\n",
       "      <td>2</td>\n",
       "    </tr>\n",
       "    <tr>\n",
       "      <th>honda prelude</th>\n",
       "      <td>2210.0</td>\n",
       "      <td>3</td>\n",
       "    </tr>\n",
       "    <tr>\n",
       "      <th>toyota corolla</th>\n",
       "      <td>2350.0</td>\n",
       "      <td>3</td>\n",
       "    </tr>\n",
       "    <tr>\n",
       "      <th>datsun 200sx</th>\n",
       "      <td>2615.0</td>\n",
       "      <td>3</td>\n",
       "    </tr>\n",
       "    <tr>\n",
       "      <th>mazda 626</th>\n",
       "      <td>2635.0</td>\n",
       "      <td>3</td>\n",
       "    </tr>\n",
       "    <tr>\n",
       "      <th>peugeot 505s turbo diesel</th>\n",
       "      <td>3230.0</td>\n",
       "      <td>2</td>\n",
       "    </tr>\n",
       "    <tr>\n",
       "      <th>volvo diesel</th>\n",
       "      <td>3160.0</td>\n",
       "      <td>2</td>\n",
       "    </tr>\n",
       "    <tr>\n",
       "      <th>toyota cressida</th>\n",
       "      <td>2900.0</td>\n",
       "      <td>3</td>\n",
       "    </tr>\n",
       "    <tr>\n",
       "      <th>datsun 810 maxima</th>\n",
       "      <td>2930.0</td>\n",
       "      <td>3</td>\n",
       "    </tr>\n",
       "    <tr>\n",
       "      <th>buick century</th>\n",
       "      <td>3415.0</td>\n",
       "      <td>1</td>\n",
       "    </tr>\n",
       "    <tr>\n",
       "      <th>oldsmobile cutlass ls</th>\n",
       "      <td>3725.0</td>\n",
       "      <td>1</td>\n",
       "    </tr>\n",
       "    <tr>\n",
       "      <th>ford granada gl</th>\n",
       "      <td>3060.0</td>\n",
       "      <td>1</td>\n",
       "    </tr>\n",
       "    <tr>\n",
       "      <th>chrysler lebaron salon</th>\n",
       "      <td>3465.0</td>\n",
       "      <td>1</td>\n",
       "    </tr>\n",
       "    <tr>\n",
       "      <th>chevrolet cavalier</th>\n",
       "      <td>2605.0</td>\n",
       "      <td>1</td>\n",
       "    </tr>\n",
       "    <tr>\n",
       "      <th>chevrolet cavalier wagon</th>\n",
       "      <td>2640.0</td>\n",
       "      <td>1</td>\n",
       "    </tr>\n",
       "    <tr>\n",
       "      <th>chevrolet cavalier 2-door</th>\n",
       "      <td>2395.0</td>\n",
       "      <td>1</td>\n",
       "    </tr>\n",
       "    <tr>\n",
       "      <th>pontiac j2000 se hatchback</th>\n",
       "      <td>2575.0</td>\n",
       "      <td>1</td>\n",
       "    </tr>\n",
       "    <tr>\n",
       "      <th>dodge aries se</th>\n",
       "      <td>2525.0</td>\n",
       "      <td>1</td>\n",
       "    </tr>\n",
       "    <tr>\n",
       "      <th>pontiac phoenix</th>\n",
       "      <td>2735.0</td>\n",
       "      <td>1</td>\n",
       "    </tr>\n",
       "    <tr>\n",
       "      <th>ford fairmont futura</th>\n",
       "      <td>2865.0</td>\n",
       "      <td>1</td>\n",
       "    </tr>\n",
       "    <tr>\n",
       "      <th>volkswagen rabbit l</th>\n",
       "      <td>1980.0</td>\n",
       "      <td>2</td>\n",
       "    </tr>\n",
       "    <tr>\n",
       "      <th>mazda glc custom l</th>\n",
       "      <td>2025.0</td>\n",
       "      <td>3</td>\n",
       "    </tr>\n",
       "    <tr>\n",
       "      <th>mazda glc custom</th>\n",
       "      <td>1970.0</td>\n",
       "      <td>3</td>\n",
       "    </tr>\n",
       "    <tr>\n",
       "      <th>plymouth horizon miser</th>\n",
       "      <td>2125.0</td>\n",
       "      <td>1</td>\n",
       "    </tr>\n",
       "    <tr>\n",
       "      <th>mercury lynx l</th>\n",
       "      <td>2125.0</td>\n",
       "      <td>1</td>\n",
       "    </tr>\n",
       "    <tr>\n",
       "      <th>nissan stanza xe</th>\n",
       "      <td>2160.0</td>\n",
       "      <td>3</td>\n",
       "    </tr>\n",
       "    <tr>\n",
       "      <th>honda accord</th>\n",
       "      <td>2205.0</td>\n",
       "      <td>3</td>\n",
       "    </tr>\n",
       "    <tr>\n",
       "      <th>toyota corolla</th>\n",
       "      <td>2245.0</td>\n",
       "      <td>3</td>\n",
       "    </tr>\n",
       "    <tr>\n",
       "      <th>honda civic</th>\n",
       "      <td>1965.0</td>\n",
       "      <td>3</td>\n",
       "    </tr>\n",
       "    <tr>\n",
       "      <th>honda civic (auto)</th>\n",
       "      <td>1965.0</td>\n",
       "      <td>3</td>\n",
       "    </tr>\n",
       "    <tr>\n",
       "      <th>datsun 310 gx</th>\n",
       "      <td>1995.0</td>\n",
       "      <td>3</td>\n",
       "    </tr>\n",
       "    <tr>\n",
       "      <th>buick century limited</th>\n",
       "      <td>2945.0</td>\n",
       "      <td>1</td>\n",
       "    </tr>\n",
       "    <tr>\n",
       "      <th>oldsmobile cutlass ciera (diesel)</th>\n",
       "      <td>3015.0</td>\n",
       "      <td>1</td>\n",
       "    </tr>\n",
       "    <tr>\n",
       "      <th>chrysler lebaron medallion</th>\n",
       "      <td>2585.0</td>\n",
       "      <td>1</td>\n",
       "    </tr>\n",
       "    <tr>\n",
       "      <th>ford granada l</th>\n",
       "      <td>2835.0</td>\n",
       "      <td>1</td>\n",
       "    </tr>\n",
       "    <tr>\n",
       "      <th>toyota celica gt</th>\n",
       "      <td>2665.0</td>\n",
       "      <td>3</td>\n",
       "    </tr>\n",
       "    <tr>\n",
       "      <th>dodge charger 2.2</th>\n",
       "      <td>2370.0</td>\n",
       "      <td>1</td>\n",
       "    </tr>\n",
       "    <tr>\n",
       "      <th>chevrolet camaro</th>\n",
       "      <td>2950.0</td>\n",
       "      <td>1</td>\n",
       "    </tr>\n",
       "    <tr>\n",
       "      <th>ford mustang gl</th>\n",
       "      <td>2790.0</td>\n",
       "      <td>1</td>\n",
       "    </tr>\n",
       "    <tr>\n",
       "      <th>vw pickup</th>\n",
       "      <td>2130.0</td>\n",
       "      <td>2</td>\n",
       "    </tr>\n",
       "    <tr>\n",
       "      <th>dodge rampage</th>\n",
       "      <td>2295.0</td>\n",
       "      <td>1</td>\n",
       "    </tr>\n",
       "    <tr>\n",
       "      <th>ford ranger</th>\n",
       "      <td>2625.0</td>\n",
       "      <td>1</td>\n",
       "    </tr>\n",
       "    <tr>\n",
       "      <th>chevy s-10</th>\n",
       "      <td>2720.0</td>\n",
       "      <td>1</td>\n",
       "    </tr>\n",
       "  </tbody>\n",
       "</table>\n",
       "</div>"
      ],
      "text/plain": [
       "                                   weight  origin\n",
       "name                                             \n",
       "plymouth reliant                   2490.0       1\n",
       "buick skylark                      2635.0       1\n",
       "dodge aries wagon (sw)             2620.0       1\n",
       "chevrolet citation                 2725.0       1\n",
       "plymouth reliant                   2385.0       1\n",
       "toyota starlet                     1755.0       3\n",
       "plymouth champ                     1875.0       1\n",
       "honda civic 1300                   1760.0       3\n",
       "subaru                             2065.0       3\n",
       "datsun 210 mpg                     1975.0       3\n",
       "toyota tercel                      2050.0       3\n",
       "mazda glc 4                        1985.0       3\n",
       "plymouth horizon 4                 2215.0       1\n",
       "ford escort 4w                     2045.0       1\n",
       "ford escort 2h                     2380.0       1\n",
       "volkswagen jetta                   2190.0       2\n",
       "honda prelude                      2210.0       3\n",
       "toyota corolla                     2350.0       3\n",
       "datsun 200sx                       2615.0       3\n",
       "mazda 626                          2635.0       3\n",
       "peugeot 505s turbo diesel          3230.0       2\n",
       "volvo diesel                       3160.0       2\n",
       "toyota cressida                    2900.0       3\n",
       "datsun 810 maxima                  2930.0       3\n",
       "buick century                      3415.0       1\n",
       "oldsmobile cutlass ls              3725.0       1\n",
       "ford granada gl                    3060.0       1\n",
       "chrysler lebaron salon             3465.0       1\n",
       "chevrolet cavalier                 2605.0       1\n",
       "chevrolet cavalier wagon           2640.0       1\n",
       "chevrolet cavalier 2-door          2395.0       1\n",
       "pontiac j2000 se hatchback         2575.0       1\n",
       "dodge aries se                     2525.0       1\n",
       "pontiac phoenix                    2735.0       1\n",
       "ford fairmont futura               2865.0       1\n",
       "volkswagen rabbit l                1980.0       2\n",
       "mazda glc custom l                 2025.0       3\n",
       "mazda glc custom                   1970.0       3\n",
       "plymouth horizon miser             2125.0       1\n",
       "mercury lynx l                     2125.0       1\n",
       "nissan stanza xe                   2160.0       3\n",
       "honda accord                       2205.0       3\n",
       "toyota corolla                     2245.0       3\n",
       "honda civic                        1965.0       3\n",
       "honda civic (auto)                 1965.0       3\n",
       "datsun 310 gx                      1995.0       3\n",
       "buick century limited              2945.0       1\n",
       "oldsmobile cutlass ciera (diesel)  3015.0       1\n",
       "chrysler lebaron medallion         2585.0       1\n",
       "ford granada l                     2835.0       1\n",
       "toyota celica gt                   2665.0       3\n",
       "dodge charger 2.2                  2370.0       1\n",
       "chevrolet camaro                   2950.0       1\n",
       "ford mustang gl                    2790.0       1\n",
       "vw pickup                          2130.0       2\n",
       "dodge rampage                      2295.0       1\n",
       "ford ranger                        2625.0       1\n",
       "chevy s-10                         2720.0       1"
      ]
     },
     "execution_count": 175,
     "metadata": {},
     "output_type": "execute_result"
    }
   ],
   "source": [
    "idx_80 = Auto[\"year\"] > 80\n",
    "Auto.loc[idx_80, [\"weight\", \"origin\"]]"
   ]
  },
  {
   "cell_type": "code",
   "execution_count": 177,
   "id": "806a4cae",
   "metadata": {
    "scrolled": true
   },
   "outputs": [
    {
     "data": {
      "text/html": [
       "<div>\n",
       "<style scoped>\n",
       "    .dataframe tbody tr th:only-of-type {\n",
       "        vertical-align: middle;\n",
       "    }\n",
       "\n",
       "    .dataframe tbody tr th {\n",
       "        vertical-align: top;\n",
       "    }\n",
       "\n",
       "    .dataframe thead th {\n",
       "        text-align: right;\n",
       "    }\n",
       "</style>\n",
       "<table border=\"1\" class=\"dataframe\">\n",
       "  <thead>\n",
       "    <tr style=\"text-align: right;\">\n",
       "      <th></th>\n",
       "      <th>weight</th>\n",
       "      <th>origin</th>\n",
       "    </tr>\n",
       "    <tr>\n",
       "      <th>name</th>\n",
       "      <th></th>\n",
       "      <th></th>\n",
       "    </tr>\n",
       "  </thead>\n",
       "  <tbody>\n",
       "    <tr>\n",
       "      <th>plymouth reliant</th>\n",
       "      <td>2490.0</td>\n",
       "      <td>1</td>\n",
       "    </tr>\n",
       "    <tr>\n",
       "      <th>buick skylark</th>\n",
       "      <td>2635.0</td>\n",
       "      <td>1</td>\n",
       "    </tr>\n",
       "    <tr>\n",
       "      <th>dodge aries wagon (sw)</th>\n",
       "      <td>2620.0</td>\n",
       "      <td>1</td>\n",
       "    </tr>\n",
       "    <tr>\n",
       "      <th>chevrolet citation</th>\n",
       "      <td>2725.0</td>\n",
       "      <td>1</td>\n",
       "    </tr>\n",
       "    <tr>\n",
       "      <th>plymouth reliant</th>\n",
       "      <td>2385.0</td>\n",
       "      <td>1</td>\n",
       "    </tr>\n",
       "    <tr>\n",
       "      <th>toyota starlet</th>\n",
       "      <td>1755.0</td>\n",
       "      <td>3</td>\n",
       "    </tr>\n",
       "    <tr>\n",
       "      <th>plymouth champ</th>\n",
       "      <td>1875.0</td>\n",
       "      <td>1</td>\n",
       "    </tr>\n",
       "    <tr>\n",
       "      <th>honda civic 1300</th>\n",
       "      <td>1760.0</td>\n",
       "      <td>3</td>\n",
       "    </tr>\n",
       "    <tr>\n",
       "      <th>subaru</th>\n",
       "      <td>2065.0</td>\n",
       "      <td>3</td>\n",
       "    </tr>\n",
       "    <tr>\n",
       "      <th>datsun 210 mpg</th>\n",
       "      <td>1975.0</td>\n",
       "      <td>3</td>\n",
       "    </tr>\n",
       "    <tr>\n",
       "      <th>toyota tercel</th>\n",
       "      <td>2050.0</td>\n",
       "      <td>3</td>\n",
       "    </tr>\n",
       "    <tr>\n",
       "      <th>mazda glc 4</th>\n",
       "      <td>1985.0</td>\n",
       "      <td>3</td>\n",
       "    </tr>\n",
       "    <tr>\n",
       "      <th>plymouth horizon 4</th>\n",
       "      <td>2215.0</td>\n",
       "      <td>1</td>\n",
       "    </tr>\n",
       "    <tr>\n",
       "      <th>ford escort 4w</th>\n",
       "      <td>2045.0</td>\n",
       "      <td>1</td>\n",
       "    </tr>\n",
       "    <tr>\n",
       "      <th>ford escort 2h</th>\n",
       "      <td>2380.0</td>\n",
       "      <td>1</td>\n",
       "    </tr>\n",
       "    <tr>\n",
       "      <th>volkswagen jetta</th>\n",
       "      <td>2190.0</td>\n",
       "      <td>2</td>\n",
       "    </tr>\n",
       "    <tr>\n",
       "      <th>honda prelude</th>\n",
       "      <td>2210.0</td>\n",
       "      <td>3</td>\n",
       "    </tr>\n",
       "    <tr>\n",
       "      <th>toyota corolla</th>\n",
       "      <td>2350.0</td>\n",
       "      <td>3</td>\n",
       "    </tr>\n",
       "    <tr>\n",
       "      <th>datsun 200sx</th>\n",
       "      <td>2615.0</td>\n",
       "      <td>3</td>\n",
       "    </tr>\n",
       "    <tr>\n",
       "      <th>mazda 626</th>\n",
       "      <td>2635.0</td>\n",
       "      <td>3</td>\n",
       "    </tr>\n",
       "    <tr>\n",
       "      <th>peugeot 505s turbo diesel</th>\n",
       "      <td>3230.0</td>\n",
       "      <td>2</td>\n",
       "    </tr>\n",
       "    <tr>\n",
       "      <th>volvo diesel</th>\n",
       "      <td>3160.0</td>\n",
       "      <td>2</td>\n",
       "    </tr>\n",
       "    <tr>\n",
       "      <th>toyota cressida</th>\n",
       "      <td>2900.0</td>\n",
       "      <td>3</td>\n",
       "    </tr>\n",
       "    <tr>\n",
       "      <th>datsun 810 maxima</th>\n",
       "      <td>2930.0</td>\n",
       "      <td>3</td>\n",
       "    </tr>\n",
       "    <tr>\n",
       "      <th>buick century</th>\n",
       "      <td>3415.0</td>\n",
       "      <td>1</td>\n",
       "    </tr>\n",
       "    <tr>\n",
       "      <th>oldsmobile cutlass ls</th>\n",
       "      <td>3725.0</td>\n",
       "      <td>1</td>\n",
       "    </tr>\n",
       "    <tr>\n",
       "      <th>ford granada gl</th>\n",
       "      <td>3060.0</td>\n",
       "      <td>1</td>\n",
       "    </tr>\n",
       "    <tr>\n",
       "      <th>chrysler lebaron salon</th>\n",
       "      <td>3465.0</td>\n",
       "      <td>1</td>\n",
       "    </tr>\n",
       "    <tr>\n",
       "      <th>chevrolet cavalier</th>\n",
       "      <td>2605.0</td>\n",
       "      <td>1</td>\n",
       "    </tr>\n",
       "    <tr>\n",
       "      <th>chevrolet cavalier wagon</th>\n",
       "      <td>2640.0</td>\n",
       "      <td>1</td>\n",
       "    </tr>\n",
       "    <tr>\n",
       "      <th>chevrolet cavalier 2-door</th>\n",
       "      <td>2395.0</td>\n",
       "      <td>1</td>\n",
       "    </tr>\n",
       "    <tr>\n",
       "      <th>pontiac j2000 se hatchback</th>\n",
       "      <td>2575.0</td>\n",
       "      <td>1</td>\n",
       "    </tr>\n",
       "    <tr>\n",
       "      <th>dodge aries se</th>\n",
       "      <td>2525.0</td>\n",
       "      <td>1</td>\n",
       "    </tr>\n",
       "    <tr>\n",
       "      <th>pontiac phoenix</th>\n",
       "      <td>2735.0</td>\n",
       "      <td>1</td>\n",
       "    </tr>\n",
       "    <tr>\n",
       "      <th>ford fairmont futura</th>\n",
       "      <td>2865.0</td>\n",
       "      <td>1</td>\n",
       "    </tr>\n",
       "    <tr>\n",
       "      <th>volkswagen rabbit l</th>\n",
       "      <td>1980.0</td>\n",
       "      <td>2</td>\n",
       "    </tr>\n",
       "    <tr>\n",
       "      <th>mazda glc custom l</th>\n",
       "      <td>2025.0</td>\n",
       "      <td>3</td>\n",
       "    </tr>\n",
       "    <tr>\n",
       "      <th>mazda glc custom</th>\n",
       "      <td>1970.0</td>\n",
       "      <td>3</td>\n",
       "    </tr>\n",
       "    <tr>\n",
       "      <th>plymouth horizon miser</th>\n",
       "      <td>2125.0</td>\n",
       "      <td>1</td>\n",
       "    </tr>\n",
       "    <tr>\n",
       "      <th>mercury lynx l</th>\n",
       "      <td>2125.0</td>\n",
       "      <td>1</td>\n",
       "    </tr>\n",
       "    <tr>\n",
       "      <th>nissan stanza xe</th>\n",
       "      <td>2160.0</td>\n",
       "      <td>3</td>\n",
       "    </tr>\n",
       "    <tr>\n",
       "      <th>honda accord</th>\n",
       "      <td>2205.0</td>\n",
       "      <td>3</td>\n",
       "    </tr>\n",
       "    <tr>\n",
       "      <th>toyota corolla</th>\n",
       "      <td>2245.0</td>\n",
       "      <td>3</td>\n",
       "    </tr>\n",
       "    <tr>\n",
       "      <th>honda civic</th>\n",
       "      <td>1965.0</td>\n",
       "      <td>3</td>\n",
       "    </tr>\n",
       "    <tr>\n",
       "      <th>honda civic (auto)</th>\n",
       "      <td>1965.0</td>\n",
       "      <td>3</td>\n",
       "    </tr>\n",
       "    <tr>\n",
       "      <th>datsun 310 gx</th>\n",
       "      <td>1995.0</td>\n",
       "      <td>3</td>\n",
       "    </tr>\n",
       "    <tr>\n",
       "      <th>buick century limited</th>\n",
       "      <td>2945.0</td>\n",
       "      <td>1</td>\n",
       "    </tr>\n",
       "    <tr>\n",
       "      <th>oldsmobile cutlass ciera (diesel)</th>\n",
       "      <td>3015.0</td>\n",
       "      <td>1</td>\n",
       "    </tr>\n",
       "    <tr>\n",
       "      <th>chrysler lebaron medallion</th>\n",
       "      <td>2585.0</td>\n",
       "      <td>1</td>\n",
       "    </tr>\n",
       "    <tr>\n",
       "      <th>ford granada l</th>\n",
       "      <td>2835.0</td>\n",
       "      <td>1</td>\n",
       "    </tr>\n",
       "    <tr>\n",
       "      <th>toyota celica gt</th>\n",
       "      <td>2665.0</td>\n",
       "      <td>3</td>\n",
       "    </tr>\n",
       "    <tr>\n",
       "      <th>dodge charger 2.2</th>\n",
       "      <td>2370.0</td>\n",
       "      <td>1</td>\n",
       "    </tr>\n",
       "    <tr>\n",
       "      <th>chevrolet camaro</th>\n",
       "      <td>2950.0</td>\n",
       "      <td>1</td>\n",
       "    </tr>\n",
       "    <tr>\n",
       "      <th>ford mustang gl</th>\n",
       "      <td>2790.0</td>\n",
       "      <td>1</td>\n",
       "    </tr>\n",
       "    <tr>\n",
       "      <th>vw pickup</th>\n",
       "      <td>2130.0</td>\n",
       "      <td>2</td>\n",
       "    </tr>\n",
       "    <tr>\n",
       "      <th>dodge rampage</th>\n",
       "      <td>2295.0</td>\n",
       "      <td>1</td>\n",
       "    </tr>\n",
       "    <tr>\n",
       "      <th>ford ranger</th>\n",
       "      <td>2625.0</td>\n",
       "      <td>1</td>\n",
       "    </tr>\n",
       "    <tr>\n",
       "      <th>chevy s-10</th>\n",
       "      <td>2720.0</td>\n",
       "      <td>1</td>\n",
       "    </tr>\n",
       "  </tbody>\n",
       "</table>\n",
       "</div>"
      ],
      "text/plain": [
       "                                   weight  origin\n",
       "name                                             \n",
       "plymouth reliant                   2490.0       1\n",
       "buick skylark                      2635.0       1\n",
       "dodge aries wagon (sw)             2620.0       1\n",
       "chevrolet citation                 2725.0       1\n",
       "plymouth reliant                   2385.0       1\n",
       "toyota starlet                     1755.0       3\n",
       "plymouth champ                     1875.0       1\n",
       "honda civic 1300                   1760.0       3\n",
       "subaru                             2065.0       3\n",
       "datsun 210 mpg                     1975.0       3\n",
       "toyota tercel                      2050.0       3\n",
       "mazda glc 4                        1985.0       3\n",
       "plymouth horizon 4                 2215.0       1\n",
       "ford escort 4w                     2045.0       1\n",
       "ford escort 2h                     2380.0       1\n",
       "volkswagen jetta                   2190.0       2\n",
       "honda prelude                      2210.0       3\n",
       "toyota corolla                     2350.0       3\n",
       "datsun 200sx                       2615.0       3\n",
       "mazda 626                          2635.0       3\n",
       "peugeot 505s turbo diesel          3230.0       2\n",
       "volvo diesel                       3160.0       2\n",
       "toyota cressida                    2900.0       3\n",
       "datsun 810 maxima                  2930.0       3\n",
       "buick century                      3415.0       1\n",
       "oldsmobile cutlass ls              3725.0       1\n",
       "ford granada gl                    3060.0       1\n",
       "chrysler lebaron salon             3465.0       1\n",
       "chevrolet cavalier                 2605.0       1\n",
       "chevrolet cavalier wagon           2640.0       1\n",
       "chevrolet cavalier 2-door          2395.0       1\n",
       "pontiac j2000 se hatchback         2575.0       1\n",
       "dodge aries se                     2525.0       1\n",
       "pontiac phoenix                    2735.0       1\n",
       "ford fairmont futura               2865.0       1\n",
       "volkswagen rabbit l                1980.0       2\n",
       "mazda glc custom l                 2025.0       3\n",
       "mazda glc custom                   1970.0       3\n",
       "plymouth horizon miser             2125.0       1\n",
       "mercury lynx l                     2125.0       1\n",
       "nissan stanza xe                   2160.0       3\n",
       "honda accord                       2205.0       3\n",
       "toyota corolla                     2245.0       3\n",
       "honda civic                        1965.0       3\n",
       "honda civic (auto)                 1965.0       3\n",
       "datsun 310 gx                      1995.0       3\n",
       "buick century limited              2945.0       1\n",
       "oldsmobile cutlass ciera (diesel)  3015.0       1\n",
       "chrysler lebaron medallion         2585.0       1\n",
       "ford granada l                     2835.0       1\n",
       "toyota celica gt                   2665.0       3\n",
       "dodge charger 2.2                  2370.0       1\n",
       "chevrolet camaro                   2950.0       1\n",
       "ford mustang gl                    2790.0       1\n",
       "vw pickup                          2130.0       2\n",
       "dodge rampage                      2295.0       1\n",
       "ford ranger                        2625.0       1\n",
       "chevy s-10                         2720.0       1"
      ]
     },
     "execution_count": 177,
     "metadata": {},
     "output_type": "execute_result"
    }
   ],
   "source": [
    "# using lambda functions\n",
    "Auto.loc[lambda df: df[\"year\"] > 80, [\"weight\", \"origin\"]]"
   ]
  },
  {
   "cell_type": "code",
   "execution_count": 179,
   "id": "e0413e73",
   "metadata": {
    "scrolled": true
   },
   "outputs": [
    {
     "data": {
      "text/html": [
       "<div>\n",
       "<style scoped>\n",
       "    .dataframe tbody tr th:only-of-type {\n",
       "        vertical-align: middle;\n",
       "    }\n",
       "\n",
       "    .dataframe tbody tr th {\n",
       "        vertical-align: top;\n",
       "    }\n",
       "\n",
       "    .dataframe thead th {\n",
       "        text-align: right;\n",
       "    }\n",
       "</style>\n",
       "<table border=\"1\" class=\"dataframe\">\n",
       "  <thead>\n",
       "    <tr style=\"text-align: right;\">\n",
       "      <th></th>\n",
       "      <th>weight</th>\n",
       "      <th>origin</th>\n",
       "    </tr>\n",
       "    <tr>\n",
       "      <th>name</th>\n",
       "      <th></th>\n",
       "      <th></th>\n",
       "    </tr>\n",
       "  </thead>\n",
       "  <tbody>\n",
       "    <tr>\n",
       "      <th>toyota starlet</th>\n",
       "      <td>1755.0</td>\n",
       "      <td>3</td>\n",
       "    </tr>\n",
       "    <tr>\n",
       "      <th>plymouth champ</th>\n",
       "      <td>1875.0</td>\n",
       "      <td>1</td>\n",
       "    </tr>\n",
       "    <tr>\n",
       "      <th>honda civic 1300</th>\n",
       "      <td>1760.0</td>\n",
       "      <td>3</td>\n",
       "    </tr>\n",
       "    <tr>\n",
       "      <th>subaru</th>\n",
       "      <td>2065.0</td>\n",
       "      <td>3</td>\n",
       "    </tr>\n",
       "    <tr>\n",
       "      <th>datsun 210 mpg</th>\n",
       "      <td>1975.0</td>\n",
       "      <td>3</td>\n",
       "    </tr>\n",
       "    <tr>\n",
       "      <th>toyota tercel</th>\n",
       "      <td>2050.0</td>\n",
       "      <td>3</td>\n",
       "    </tr>\n",
       "    <tr>\n",
       "      <th>mazda glc 4</th>\n",
       "      <td>1985.0</td>\n",
       "      <td>3</td>\n",
       "    </tr>\n",
       "    <tr>\n",
       "      <th>plymouth horizon 4</th>\n",
       "      <td>2215.0</td>\n",
       "      <td>1</td>\n",
       "    </tr>\n",
       "    <tr>\n",
       "      <th>ford escort 4w</th>\n",
       "      <td>2045.0</td>\n",
       "      <td>1</td>\n",
       "    </tr>\n",
       "    <tr>\n",
       "      <th>volkswagen jetta</th>\n",
       "      <td>2190.0</td>\n",
       "      <td>2</td>\n",
       "    </tr>\n",
       "    <tr>\n",
       "      <th>honda prelude</th>\n",
       "      <td>2210.0</td>\n",
       "      <td>3</td>\n",
       "    </tr>\n",
       "    <tr>\n",
       "      <th>toyota corolla</th>\n",
       "      <td>2350.0</td>\n",
       "      <td>3</td>\n",
       "    </tr>\n",
       "    <tr>\n",
       "      <th>datsun 200sx</th>\n",
       "      <td>2615.0</td>\n",
       "      <td>3</td>\n",
       "    </tr>\n",
       "    <tr>\n",
       "      <th>mazda 626</th>\n",
       "      <td>2635.0</td>\n",
       "      <td>3</td>\n",
       "    </tr>\n",
       "    <tr>\n",
       "      <th>volvo diesel</th>\n",
       "      <td>3160.0</td>\n",
       "      <td>2</td>\n",
       "    </tr>\n",
       "    <tr>\n",
       "      <th>chevrolet cavalier 2-door</th>\n",
       "      <td>2395.0</td>\n",
       "      <td>1</td>\n",
       "    </tr>\n",
       "    <tr>\n",
       "      <th>pontiac j2000 se hatchback</th>\n",
       "      <td>2575.0</td>\n",
       "      <td>1</td>\n",
       "    </tr>\n",
       "    <tr>\n",
       "      <th>volkswagen rabbit l</th>\n",
       "      <td>1980.0</td>\n",
       "      <td>2</td>\n",
       "    </tr>\n",
       "    <tr>\n",
       "      <th>mazda glc custom l</th>\n",
       "      <td>2025.0</td>\n",
       "      <td>3</td>\n",
       "    </tr>\n",
       "    <tr>\n",
       "      <th>mazda glc custom</th>\n",
       "      <td>1970.0</td>\n",
       "      <td>3</td>\n",
       "    </tr>\n",
       "    <tr>\n",
       "      <th>plymouth horizon miser</th>\n",
       "      <td>2125.0</td>\n",
       "      <td>1</td>\n",
       "    </tr>\n",
       "    <tr>\n",
       "      <th>mercury lynx l</th>\n",
       "      <td>2125.0</td>\n",
       "      <td>1</td>\n",
       "    </tr>\n",
       "    <tr>\n",
       "      <th>nissan stanza xe</th>\n",
       "      <td>2160.0</td>\n",
       "      <td>3</td>\n",
       "    </tr>\n",
       "    <tr>\n",
       "      <th>honda accord</th>\n",
       "      <td>2205.0</td>\n",
       "      <td>3</td>\n",
       "    </tr>\n",
       "    <tr>\n",
       "      <th>toyota corolla</th>\n",
       "      <td>2245.0</td>\n",
       "      <td>3</td>\n",
       "    </tr>\n",
       "    <tr>\n",
       "      <th>honda civic</th>\n",
       "      <td>1965.0</td>\n",
       "      <td>3</td>\n",
       "    </tr>\n",
       "    <tr>\n",
       "      <th>honda civic (auto)</th>\n",
       "      <td>1965.0</td>\n",
       "      <td>3</td>\n",
       "    </tr>\n",
       "    <tr>\n",
       "      <th>datsun 310 gx</th>\n",
       "      <td>1995.0</td>\n",
       "      <td>3</td>\n",
       "    </tr>\n",
       "    <tr>\n",
       "      <th>oldsmobile cutlass ciera (diesel)</th>\n",
       "      <td>3015.0</td>\n",
       "      <td>1</td>\n",
       "    </tr>\n",
       "    <tr>\n",
       "      <th>toyota celica gt</th>\n",
       "      <td>2665.0</td>\n",
       "      <td>3</td>\n",
       "    </tr>\n",
       "    <tr>\n",
       "      <th>dodge charger 2.2</th>\n",
       "      <td>2370.0</td>\n",
       "      <td>1</td>\n",
       "    </tr>\n",
       "    <tr>\n",
       "      <th>vw pickup</th>\n",
       "      <td>2130.0</td>\n",
       "      <td>2</td>\n",
       "    </tr>\n",
       "    <tr>\n",
       "      <th>dodge rampage</th>\n",
       "      <td>2295.0</td>\n",
       "      <td>1</td>\n",
       "    </tr>\n",
       "    <tr>\n",
       "      <th>chevy s-10</th>\n",
       "      <td>2720.0</td>\n",
       "      <td>1</td>\n",
       "    </tr>\n",
       "  </tbody>\n",
       "</table>\n",
       "</div>"
      ],
      "text/plain": [
       "                                   weight  origin\n",
       "name                                             \n",
       "toyota starlet                     1755.0       3\n",
       "plymouth champ                     1875.0       1\n",
       "honda civic 1300                   1760.0       3\n",
       "subaru                             2065.0       3\n",
       "datsun 210 mpg                     1975.0       3\n",
       "toyota tercel                      2050.0       3\n",
       "mazda glc 4                        1985.0       3\n",
       "plymouth horizon 4                 2215.0       1\n",
       "ford escort 4w                     2045.0       1\n",
       "volkswagen jetta                   2190.0       2\n",
       "honda prelude                      2210.0       3\n",
       "toyota corolla                     2350.0       3\n",
       "datsun 200sx                       2615.0       3\n",
       "mazda 626                          2635.0       3\n",
       "volvo diesel                       3160.0       2\n",
       "chevrolet cavalier 2-door          2395.0       1\n",
       "pontiac j2000 se hatchback         2575.0       1\n",
       "volkswagen rabbit l                1980.0       2\n",
       "mazda glc custom l                 2025.0       3\n",
       "mazda glc custom                   1970.0       3\n",
       "plymouth horizon miser             2125.0       1\n",
       "mercury lynx l                     2125.0       1\n",
       "nissan stanza xe                   2160.0       3\n",
       "honda accord                       2205.0       3\n",
       "toyota corolla                     2245.0       3\n",
       "honda civic                        1965.0       3\n",
       "honda civic (auto)                 1965.0       3\n",
       "datsun 310 gx                      1995.0       3\n",
       "oldsmobile cutlass ciera (diesel)  3015.0       1\n",
       "toyota celica gt                   2665.0       3\n",
       "dodge charger 2.2                  2370.0       1\n",
       "vw pickup                          2130.0       2\n",
       "dodge rampage                      2295.0       1\n",
       "chevy s-10                         2720.0       1"
      ]
     },
     "execution_count": 179,
     "metadata": {},
     "output_type": "execute_result"
    }
   ],
   "source": [
    "Auto.loc[lambda df: (df[\"year\"] > 80) & (df[\"mpg\"] > 30), [\"weight\", \"origin\"]]"
   ]
  },
  {
   "cell_type": "code",
   "execution_count": 181,
   "id": "e86e10ac",
   "metadata": {
    "scrolled": true
   },
   "outputs": [
    {
     "data": {
      "text/html": [
       "<div>\n",
       "<style scoped>\n",
       "    .dataframe tbody tr th:only-of-type {\n",
       "        vertical-align: middle;\n",
       "    }\n",
       "\n",
       "    .dataframe tbody tr th {\n",
       "        vertical-align: top;\n",
       "    }\n",
       "\n",
       "    .dataframe thead th {\n",
       "        text-align: right;\n",
       "    }\n",
       "</style>\n",
       "<table border=\"1\" class=\"dataframe\">\n",
       "  <thead>\n",
       "    <tr style=\"text-align: right;\">\n",
       "      <th></th>\n",
       "      <th>weight</th>\n",
       "      <th>origin</th>\n",
       "    </tr>\n",
       "    <tr>\n",
       "      <th>name</th>\n",
       "      <th></th>\n",
       "      <th></th>\n",
       "    </tr>\n",
       "  </thead>\n",
       "  <tbody>\n",
       "    <tr>\n",
       "      <th>ford maverick</th>\n",
       "      <td>2587.0</td>\n",
       "      <td>1</td>\n",
       "    </tr>\n",
       "    <tr>\n",
       "      <th>datsun pl510</th>\n",
       "      <td>2130.0</td>\n",
       "      <td>3</td>\n",
       "    </tr>\n",
       "    <tr>\n",
       "      <th>datsun pl510</th>\n",
       "      <td>2130.0</td>\n",
       "      <td>3</td>\n",
       "    </tr>\n",
       "    <tr>\n",
       "      <th>ford torino 500</th>\n",
       "      <td>3302.0</td>\n",
       "      <td>1</td>\n",
       "    </tr>\n",
       "    <tr>\n",
       "      <th>ford mustang</th>\n",
       "      <td>3139.0</td>\n",
       "      <td>1</td>\n",
       "    </tr>\n",
       "    <tr>\n",
       "      <th>datsun 1200</th>\n",
       "      <td>1613.0</td>\n",
       "      <td>3</td>\n",
       "    </tr>\n",
       "    <tr>\n",
       "      <th>ford pinto runabout</th>\n",
       "      <td>2226.0</td>\n",
       "      <td>1</td>\n",
       "    </tr>\n",
       "    <tr>\n",
       "      <th>ford pinto (sw)</th>\n",
       "      <td>2395.0</td>\n",
       "      <td>1</td>\n",
       "    </tr>\n",
       "    <tr>\n",
       "      <th>datsun 510 (sw)</th>\n",
       "      <td>2288.0</td>\n",
       "      <td>3</td>\n",
       "    </tr>\n",
       "    <tr>\n",
       "      <th>ford maverick</th>\n",
       "      <td>3021.0</td>\n",
       "      <td>1</td>\n",
       "    </tr>\n",
       "    <tr>\n",
       "      <th>datsun 610</th>\n",
       "      <td>2379.0</td>\n",
       "      <td>3</td>\n",
       "    </tr>\n",
       "    <tr>\n",
       "      <th>ford pinto</th>\n",
       "      <td>2310.0</td>\n",
       "      <td>1</td>\n",
       "    </tr>\n",
       "    <tr>\n",
       "      <th>datsun b210</th>\n",
       "      <td>1950.0</td>\n",
       "      <td>3</td>\n",
       "    </tr>\n",
       "    <tr>\n",
       "      <th>ford pinto</th>\n",
       "      <td>2451.0</td>\n",
       "      <td>1</td>\n",
       "    </tr>\n",
       "    <tr>\n",
       "      <th>datsun 710</th>\n",
       "      <td>2003.0</td>\n",
       "      <td>3</td>\n",
       "    </tr>\n",
       "    <tr>\n",
       "      <th>ford maverick</th>\n",
       "      <td>3158.0</td>\n",
       "      <td>1</td>\n",
       "    </tr>\n",
       "    <tr>\n",
       "      <th>ford pinto</th>\n",
       "      <td>2639.0</td>\n",
       "      <td>1</td>\n",
       "    </tr>\n",
       "    <tr>\n",
       "      <th>datsun 710</th>\n",
       "      <td>2545.0</td>\n",
       "      <td>3</td>\n",
       "    </tr>\n",
       "    <tr>\n",
       "      <th>ford pinto</th>\n",
       "      <td>2984.0</td>\n",
       "      <td>1</td>\n",
       "    </tr>\n",
       "    <tr>\n",
       "      <th>ford maverick</th>\n",
       "      <td>3012.0</td>\n",
       "      <td>1</td>\n",
       "    </tr>\n",
       "    <tr>\n",
       "      <th>ford granada ghia</th>\n",
       "      <td>3574.0</td>\n",
       "      <td>1</td>\n",
       "    </tr>\n",
       "    <tr>\n",
       "      <th>datsun b-210</th>\n",
       "      <td>1990.0</td>\n",
       "      <td>3</td>\n",
       "    </tr>\n",
       "    <tr>\n",
       "      <th>ford pinto</th>\n",
       "      <td>2565.0</td>\n",
       "      <td>1</td>\n",
       "    </tr>\n",
       "    <tr>\n",
       "      <th>datsun f-10 hatchback</th>\n",
       "      <td>1945.0</td>\n",
       "      <td>3</td>\n",
       "    </tr>\n",
       "    <tr>\n",
       "      <th>ford granada</th>\n",
       "      <td>3525.0</td>\n",
       "      <td>1</td>\n",
       "    </tr>\n",
       "    <tr>\n",
       "      <th>ford mustang ii 2+2</th>\n",
       "      <td>2755.0</td>\n",
       "      <td>1</td>\n",
       "    </tr>\n",
       "    <tr>\n",
       "      <th>datsun 810</th>\n",
       "      <td>2815.0</td>\n",
       "      <td>3</td>\n",
       "    </tr>\n",
       "    <tr>\n",
       "      <th>ford fiesta</th>\n",
       "      <td>1800.0</td>\n",
       "      <td>1</td>\n",
       "    </tr>\n",
       "    <tr>\n",
       "      <th>datsun b210 gx</th>\n",
       "      <td>2070.0</td>\n",
       "      <td>3</td>\n",
       "    </tr>\n",
       "    <tr>\n",
       "      <th>ford fairmont (auto)</th>\n",
       "      <td>2965.0</td>\n",
       "      <td>1</td>\n",
       "    </tr>\n",
       "    <tr>\n",
       "      <th>ford fairmont (man)</th>\n",
       "      <td>2720.0</td>\n",
       "      <td>1</td>\n",
       "    </tr>\n",
       "    <tr>\n",
       "      <th>datsun 510</th>\n",
       "      <td>2300.0</td>\n",
       "      <td>3</td>\n",
       "    </tr>\n",
       "    <tr>\n",
       "      <th>datsun 200-sx</th>\n",
       "      <td>2405.0</td>\n",
       "      <td>3</td>\n",
       "    </tr>\n",
       "    <tr>\n",
       "      <th>ford fairmont 4</th>\n",
       "      <td>2890.0</td>\n",
       "      <td>1</td>\n",
       "    </tr>\n",
       "    <tr>\n",
       "      <th>datsun 210</th>\n",
       "      <td>2020.0</td>\n",
       "      <td>3</td>\n",
       "    </tr>\n",
       "    <tr>\n",
       "      <th>datsun 310</th>\n",
       "      <td>2019.0</td>\n",
       "      <td>3</td>\n",
       "    </tr>\n",
       "    <tr>\n",
       "      <th>ford fairmont</th>\n",
       "      <td>2870.0</td>\n",
       "      <td>1</td>\n",
       "    </tr>\n",
       "    <tr>\n",
       "      <th>datsun 510 hatchback</th>\n",
       "      <td>2434.0</td>\n",
       "      <td>3</td>\n",
       "    </tr>\n",
       "    <tr>\n",
       "      <th>datsun 210</th>\n",
       "      <td>2110.0</td>\n",
       "      <td>3</td>\n",
       "    </tr>\n",
       "    <tr>\n",
       "      <th>datsun 280-zx</th>\n",
       "      <td>2910.0</td>\n",
       "      <td>3</td>\n",
       "    </tr>\n",
       "    <tr>\n",
       "      <th>datsun 210 mpg</th>\n",
       "      <td>1975.0</td>\n",
       "      <td>3</td>\n",
       "    </tr>\n",
       "    <tr>\n",
       "      <th>ford escort 4w</th>\n",
       "      <td>2045.0</td>\n",
       "      <td>1</td>\n",
       "    </tr>\n",
       "    <tr>\n",
       "      <th>ford escort 2h</th>\n",
       "      <td>2380.0</td>\n",
       "      <td>1</td>\n",
       "    </tr>\n",
       "    <tr>\n",
       "      <th>datsun 200sx</th>\n",
       "      <td>2615.0</td>\n",
       "      <td>3</td>\n",
       "    </tr>\n",
       "    <tr>\n",
       "      <th>datsun 810 maxima</th>\n",
       "      <td>2930.0</td>\n",
       "      <td>3</td>\n",
       "    </tr>\n",
       "    <tr>\n",
       "      <th>ford granada gl</th>\n",
       "      <td>3060.0</td>\n",
       "      <td>1</td>\n",
       "    </tr>\n",
       "    <tr>\n",
       "      <th>ford fairmont futura</th>\n",
       "      <td>2865.0</td>\n",
       "      <td>1</td>\n",
       "    </tr>\n",
       "    <tr>\n",
       "      <th>datsun 310 gx</th>\n",
       "      <td>1995.0</td>\n",
       "      <td>3</td>\n",
       "    </tr>\n",
       "    <tr>\n",
       "      <th>ford granada l</th>\n",
       "      <td>2835.0</td>\n",
       "      <td>1</td>\n",
       "    </tr>\n",
       "    <tr>\n",
       "      <th>ford mustang gl</th>\n",
       "      <td>2790.0</td>\n",
       "      <td>1</td>\n",
       "    </tr>\n",
       "    <tr>\n",
       "      <th>ford ranger</th>\n",
       "      <td>2625.0</td>\n",
       "      <td>1</td>\n",
       "    </tr>\n",
       "  </tbody>\n",
       "</table>\n",
       "</div>"
      ],
      "text/plain": [
       "                       weight  origin\n",
       "name                                 \n",
       "ford maverick          2587.0       1\n",
       "datsun pl510           2130.0       3\n",
       "datsun pl510           2130.0       3\n",
       "ford torino 500        3302.0       1\n",
       "ford mustang           3139.0       1\n",
       "datsun 1200            1613.0       3\n",
       "ford pinto runabout    2226.0       1\n",
       "ford pinto (sw)        2395.0       1\n",
       "datsun 510 (sw)        2288.0       3\n",
       "ford maverick          3021.0       1\n",
       "datsun 610             2379.0       3\n",
       "ford pinto             2310.0       1\n",
       "datsun b210            1950.0       3\n",
       "ford pinto             2451.0       1\n",
       "datsun 710             2003.0       3\n",
       "ford maverick          3158.0       1\n",
       "ford pinto             2639.0       1\n",
       "datsun 710             2545.0       3\n",
       "ford pinto             2984.0       1\n",
       "ford maverick          3012.0       1\n",
       "ford granada ghia      3574.0       1\n",
       "datsun b-210           1990.0       3\n",
       "ford pinto             2565.0       1\n",
       "datsun f-10 hatchback  1945.0       3\n",
       "ford granada           3525.0       1\n",
       "ford mustang ii 2+2    2755.0       1\n",
       "datsun 810             2815.0       3\n",
       "ford fiesta            1800.0       1\n",
       "datsun b210 gx         2070.0       3\n",
       "ford fairmont (auto)   2965.0       1\n",
       "ford fairmont (man)    2720.0       1\n",
       "datsun 510             2300.0       3\n",
       "datsun 200-sx          2405.0       3\n",
       "ford fairmont 4        2890.0       1\n",
       "datsun 210             2020.0       3\n",
       "datsun 310             2019.0       3\n",
       "ford fairmont          2870.0       1\n",
       "datsun 510 hatchback   2434.0       3\n",
       "datsun 210             2110.0       3\n",
       "datsun 280-zx          2910.0       3\n",
       "datsun 210 mpg         1975.0       3\n",
       "ford escort 4w         2045.0       1\n",
       "ford escort 2h         2380.0       1\n",
       "datsun 200sx           2615.0       3\n",
       "datsun 810 maxima      2930.0       3\n",
       "ford granada gl        3060.0       1\n",
       "ford fairmont futura   2865.0       1\n",
       "datsun 310 gx          1995.0       3\n",
       "ford granada l         2835.0       1\n",
       "ford mustang gl        2790.0       1\n",
       "ford ranger            2625.0       1"
      ]
     },
     "execution_count": 181,
     "metadata": {},
     "output_type": "execute_result"
    }
   ],
   "source": [
    "# all ford and datsun cars with displacement < 30\n",
    "Auto.loc[lambda df: (df[\"displacement\"] < 300)\n",
    "        & (df.index.str.contains(\"ford\")\n",
    "          | df.index.str.contains(\"datsun\")),\n",
    "        [\"weight\", \"origin\"]\n",
    "        ]"
   ]
  },
  {
   "cell_type": "markdown",
   "id": "2c0f5e53",
   "metadata": {},
   "source": [
    "# For Loops"
   ]
  },
  {
   "cell_type": "code",
   "execution_count": 183,
   "id": "9902e343",
   "metadata": {},
   "outputs": [
    {
     "name": "stdout",
     "output_type": "stream",
     "text": [
      "24 is the total\n"
     ]
    }
   ],
   "source": [
    "total = 0\n",
    "for val in (3, 2, 19):\n",
    "    total += val\n",
    "print(\"{} is the total\".format(total))"
   ]
  },
  {
   "cell_type": "code",
   "execution_count": 184,
   "id": "7436ec3b",
   "metadata": {},
   "outputs": [
    {
     "name": "stdout",
     "output_type": "stream",
     "text": [
      "Total is 144\n"
     ]
    }
   ],
   "source": [
    "total = 0\n",
    "for val in [2, 3, 19]:\n",
    "    for weight in [3, 2, 1]:\n",
    "        total += val * weight\n",
    "print(f\"Total is {total}\")"
   ]
  },
  {
   "cell_type": "code",
   "execution_count": 185,
   "id": "461dd6e4",
   "metadata": {},
   "outputs": [
    {
     "name": "stdout",
     "output_type": "stream",
     "text": [
      "Weighted average is 10.8\n"
     ]
    }
   ],
   "source": [
    "# zipping values\n",
    "total = 0\n",
    "for val, weight in zip([2, 3, 19],\n",
    "                      [0.2, 0.3, 0.5]):\n",
    "    total += val * weight\n",
    "print(f\"Weighted average is {total}\")"
   ]
  },
  {
   "cell_type": "markdown",
   "id": "d76d45a8",
   "metadata": {},
   "source": [
    "## String formatting"
   ]
  },
  {
   "cell_type": "code",
   "execution_count": 188,
   "id": "fffbab10",
   "metadata": {},
   "outputs": [
    {
     "data": {
      "text/html": [
       "<div>\n",
       "<style scoped>\n",
       "    .dataframe tbody tr th:only-of-type {\n",
       "        vertical-align: middle;\n",
       "    }\n",
       "\n",
       "    .dataframe tbody tr th {\n",
       "        vertical-align: top;\n",
       "    }\n",
       "\n",
       "    .dataframe thead th {\n",
       "        text-align: right;\n",
       "    }\n",
       "</style>\n",
       "<table border=\"1\" class=\"dataframe\">\n",
       "  <thead>\n",
       "    <tr style=\"text-align: right;\">\n",
       "      <th></th>\n",
       "      <th>food</th>\n",
       "      <th>bar</th>\n",
       "      <th>pickle</th>\n",
       "      <th>snack</th>\n",
       "      <th>popcorn</th>\n",
       "    </tr>\n",
       "  </thead>\n",
       "  <tbody>\n",
       "    <tr>\n",
       "      <th>0</th>\n",
       "      <td>0.345584</td>\n",
       "      <td>0.821618</td>\n",
       "      <td>0.330437</td>\n",
       "      <td>-1.303157</td>\n",
       "      <td>NaN</td>\n",
       "    </tr>\n",
       "    <tr>\n",
       "      <th>1</th>\n",
       "      <td>NaN</td>\n",
       "      <td>-0.536953</td>\n",
       "      <td>0.581118</td>\n",
       "      <td>0.364572</td>\n",
       "      <td>0.294132</td>\n",
       "    </tr>\n",
       "    <tr>\n",
       "      <th>2</th>\n",
       "      <td>NaN</td>\n",
       "      <td>0.546713</td>\n",
       "      <td>NaN</td>\n",
       "      <td>-0.162910</td>\n",
       "      <td>-0.482119</td>\n",
       "    </tr>\n",
       "  </tbody>\n",
       "</table>\n",
       "</div>"
      ],
      "text/plain": [
       "       food       bar    pickle     snack   popcorn\n",
       "0  0.345584  0.821618  0.330437 -1.303157       NaN\n",
       "1       NaN -0.536953  0.581118  0.364572  0.294132\n",
       "2       NaN  0.546713       NaN -0.162910 -0.482119"
      ]
     },
     "execution_count": 188,
     "metadata": {},
     "output_type": "execute_result"
    }
   ],
   "source": [
    "# create df with 2o% entries missing\n",
    "rng = np.random.default_rng(1)\n",
    "A = rng.standard_normal((127, 5))\n",
    "M = rng.choice([0, np.nan], p=[0.8, 0.2], size=A.shape)\n",
    "A += M\n",
    "D = pd.DataFrame(A, columns=[\"food\",\n",
    "                            \"bar\",\n",
    "                            \"pickle\",\n",
    "                            \"snack\",\n",
    "                            \"popcorn\"])\n",
    "D[:3]"
   ]
  },
  {
   "cell_type": "code",
   "execution_count": 194,
   "id": "1c236362",
   "metadata": {},
   "outputs": [
    {
     "name": "stdout",
     "output_type": "stream",
     "text": [
      "Column \"food\" has 16.54% missing values\n",
      "Column \"bar\" has 25.98% missing values\n",
      "Column \"pickle\" has 29.13% missing values\n",
      "Column \"snack\" has 21.26% missing values\n",
      "Column \"popcorn\" has 22.83% missing values\n"
     ]
    }
   ],
   "source": [
    "# use string formatting to print % of missing values\n",
    "for col in D.columns:\n",
    "    template = 'Column \"{0}\" has {1:.2%} missing values'\n",
    "    print(template.format(col,\n",
    "                         np.isnan(D[col]).mean()))"
   ]
  },
  {
   "cell_type": "markdown",
   "id": "794f955f",
   "metadata": {},
   "source": [
    "# Additional Graphical and Numerical Summaries"
   ]
  },
  {
   "cell_type": "code",
   "execution_count": 195,
   "id": "da30fb9c",
   "metadata": {},
   "outputs": [
    {
     "data": {
      "image/png": "[encoded data removed]",
      "text/plain": [
       "<Figure size 576x576 with 1 Axes>"
      ]
     },
     "metadata": {
      "needs_background": "light"
     },
     "output_type": "display_data"
    }
   ],
   "source": [
    "# plot df columns\n",
    "fig, ax = plt.subplots(figsize=(8,8))\n",
    "ax.plot(Auto[\"horsepower\"], Auto[\"mpg\"], \"o\");"
   ]
  },
  {
   "cell_type": "code",
   "execution_count": 197,
   "id": "04032105",
   "metadata": {},
   "outputs": [
    {
     "data": {
      "image/png": "[encoded data removed]",
      "text/plain": [
       "<Figure size 432x288 with 1 Axes>"
      ]
     },
     "metadata": {
      "needs_background": "light"
     },
     "output_type": "display_data"
    }
   ],
   "source": [
    "# using df.plot\n",
    "# use direct column names\n",
    "ax = Auto.plot.scatter(\"horsepower\", \"mpg\");\n",
    "ax.set_title(\"Horsepower vs MPG\");"
   ]
  },
  {
   "cell_type": "code",
   "execution_count": 198,
   "id": "01c512ab",
   "metadata": {},
   "outputs": [],
   "source": [
    "# access fig from ax\n",
    "fig = ax.figure\n",
    "fig.savefig(\"images/horsepower_mpg.png\");"
   ]
  },
  {
   "cell_type": "code",
   "execution_count": 201,
   "id": "d2150c4b",
   "metadata": {},
   "outputs": [
    {
     "data": {
      "image/png": "[encoded data removed]",
      "text/plain": [
       "<Figure size 1080x360 with 3 Axes>"
      ]
     },
     "metadata": {
      "needs_background": "light"
     },
     "output_type": "display_data"
    }
   ],
   "source": [
    "# direct df.plot to an axes object\n",
    "fig, axes = plt.subplots(ncols=3, figsize=(15, 5))\n",
    "Auto.plot.scatter(\"horsepower\", \"mpg\", ax=axes[0]);"
   ]
  },
  {
   "cell_type": "code",
   "execution_count": 205,
   "id": "c652ca6f",
   "metadata": {},
   "outputs": [
    {
     "data": {
      "text/plain": [
       "CategoricalDtype(categories=[3, 4, 5, 6, 8], ordered=False)"
      ]
     },
     "execution_count": 205,
     "metadata": {},
     "output_type": "execute_result"
    }
   ],
   "source": [
    "# convert cylinders from integer to category\n",
    "Auto.cylinders =pd.Series(Auto.cylinders, dtype=\"category\")\n",
    "Auto.cylinders.dtype"
   ]
  },
  {
   "cell_type": "code",
   "execution_count": 207,
   "id": "12c2458b",
   "metadata": {},
   "outputs": [
    {
     "data": {
      "image/png": "[encoded data removed]",
      "text/plain": [
       "<Figure size 576x576 with 1 Axes>"
      ]
     },
     "metadata": {
      "needs_background": "light"
     },
     "output_type": "display_data"
    }
   ],
   "source": [
    "# boxplot for cylinders\n",
    "fig, ax = plt.subplots(figsize=(8,8))\n",
    "Auto.boxplot(\"mpg\", by=\"cylinders\", ax=ax);"
   ]
  },
  {
   "cell_type": "code",
   "execution_count": 210,
   "id": "5db810ee",
   "metadata": {},
   "outputs": [
    {
     "data": {
      "image/png": "[encoded data removed]",
      "text/plain": [
       "<Figure size 576x576 with 1 Axes>"
      ]
     },
     "metadata": {
      "needs_background": "light"
     },
     "output_type": "display_data"
    }
   ],
   "source": [
    "# histogram for cylinders\n",
    "fig, ax = plt.subplots(figsize=(8,8))\n",
    "Auto.hist(\"mpg\", color=\"red\", bins=12, ax=ax);"
   ]
  },
  {
   "cell_type": "code",
   "execution_count": 212,
   "id": "1c42a9b5",
   "metadata": {},
   "outputs": [
    {
     "data": {
      "image/png": "[encoded data removed]",
      "text/plain": [
       "<Figure size 432x288 with 49 Axes>"
      ]
     },
     "metadata": {
      "needs_background": "light"
     },
     "output_type": "display_data"
    }
   ],
   "source": [
    "# scatterplot matrix\n",
    "# all pairwise relationships\n",
    "pd.plotting.scatter_matrix(Auto);"
   ]
  },
  {
   "cell_type": "code",
   "execution_count": 213,
   "id": "83f1dfc6",
   "metadata": {},
   "outputs": [
    {
     "data": {
      "image/png": "[encoded data removed]",
      "text/plain": [
       "<Figure size 432x288 with 9 Axes>"
      ]
     },
     "metadata": {
      "needs_background": "light"
     },
     "output_type": "display_data"
    }
   ],
   "source": [
    "# for only a subset of columns\n",
    "pd.plotting.scatter_matrix(Auto[[\"mpg\",\n",
    "                                \"displacement\",\n",
    "                                \"weight\"]]);"
   ]
  },
  {
   "cell_type": "code",
   "execution_count": 216,
   "id": "53872982",
   "metadata": {},
   "outputs": [
    {
     "data": {
      "text/plain": [
       "count     392\n",
       "unique      5\n",
       "top         4\n",
       "freq      199\n",
       "Name: cylinders, dtype: int64"
      ]
     },
     "execution_count": 216,
     "metadata": {},
     "output_type": "execute_result"
    }
   ],
   "source": [
    "Auto[\"cylinders\"].describe()"
   ]
  },
  {
   "cell_type": "code",
   "execution_count": null,
   "id": "cd82be14",
   "metadata": {},
   "outputs": [],
   "source": []
  }
 ],
 "metadata": {
  "kernelspec": {
   "display_name": "genenv",
   "language": "python",
   "name": "genenv"
  },
  "language_info": {
   "codemirror_mode": {
    "name": "ipython",
    "version": 3
   },
   "file_extension": ".py",
   "mimetype": "text/x-python",
   "name": "python",
   "nbconvert_exporter": "python",
   "pygments_lexer": "ipython3",
   "version": "3.11.3"
  }
 },
 "nbformat": 4,
 "nbformat_minor": 5
}
