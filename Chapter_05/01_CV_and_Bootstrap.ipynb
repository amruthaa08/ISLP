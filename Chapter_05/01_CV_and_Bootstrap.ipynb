{
 "cells": [
  {
   "cell_type": "code",
   "execution_count": 1,
   "id": "10eb225f",
   "metadata": {},
   "outputs": [],
   "source": [
    "# imports\n",
    "import numpy as np\n",
    "import statsmodels.api as sm\n",
    "from ISLP import load_data\n",
    "from ISLP.models import (ModelSpec as MS,\n",
    "summarize ,\n",
    "poly)\n",
    "from sklearn.model_selection import train_test_split"
   ]
  },
  {
   "cell_type": "code",
   "execution_count": 2,
   "id": "026891e9",
   "metadata": {},
   "outputs": [],
   "source": [
    "from functools import partial\n",
    "from sklearn.model_selection import \\\n",
    "(cross_validate ,\n",
    "KFold ,\n",
    "ShuffleSplit)\n",
    "from sklearn.base import clone\n",
    "from ISLP.models import sklearn_sm"
   ]
  },
  {
   "cell_type": "markdown",
   "id": "e8d6fd1c",
   "metadata": {},
   "source": [
    "# 5.3.1 The Validation Set Approach"
   ]
  },
  {
   "cell_type": "code",
   "execution_count": 3,
   "id": "2826afd7",
   "metadata": {},
   "outputs": [],
   "source": [
    "# load and split data\n",
    "Auto = load_data('Auto')\n",
    "Auto_train , Auto_valid = train_test_split(Auto ,\n",
    "                                        test_size=196,\n",
    "                                        random_state=0)"
   ]
  },
  {
   "cell_type": "code",
   "execution_count": 4,
   "id": "fbc5b7b9",
   "metadata": {},
   "outputs": [],
   "source": [
    "# fitting linear regressor\n",
    "hp_mm = MS(['horsepower'])\n",
    "X_train = hp_mm.fit_transform(Auto_train)\n",
    "y_train = Auto_train['mpg']\n",
    "model = sm.OLS(y_train , X_train)\n",
    "results = model.fit()"
   ]
  },
  {
   "cell_type": "code",
   "execution_count": 5,
   "id": "fd633add",
   "metadata": {},
   "outputs": [
    {
     "data": {
      "text/plain": [
       "23.61661706966988"
      ]
     },
     "execution_count": 5,
     "metadata": {},
     "output_type": "execute_result"
    }
   ],
   "source": [
    "# manually calculating validation MSE\n",
    "X_valid = hp_mm.transform(Auto_valid)\n",
    "y_valid = Auto_valid['mpg']\n",
    "valid_pred = results.predict(X_valid)\n",
    "np.mean((y_valid - valid_pred)**2)"
   ]
  },
  {
   "cell_type": "code",
   "execution_count": 6,
   "id": "9d9daf9f",
   "metadata": {},
   "outputs": [],
   "source": [
    "# function to get validation MSE for higher-degree polynomial fits\n",
    "def evalMSE(terms ,\n",
    "            response ,\n",
    "            train ,\n",
    "            test):\n",
    "    mm = MS(terms)\n",
    "    X_train = mm.fit_transform(train)\n",
    "    y_train = train[response]\n",
    "    \n",
    "    X_test = mm.transform(test)\n",
    "    y_test = test[response]\n",
    "    results = sm.OLS(y_train , X_train).fit()\n",
    "    test_pred = results.predict(X_test)\n",
    "    \n",
    "    return np.mean((y_test - test_pred)**2)"
   ]
  },
  {
   "cell_type": "code",
   "execution_count": 7,
   "id": "87bf3359",
   "metadata": {},
   "outputs": [
    {
     "data": {
      "text/plain": [
       "array([23.61661707, 18.76303135, 18.79694163])"
      ]
     },
     "execution_count": 7,
     "metadata": {},
     "output_type": "execute_result"
    }
   ],
   "source": [
    "# apply function on linear, quadratic, cubic fits\n",
    "MSE = np.zeros(3)\n",
    "for idx , degree in enumerate(range(1, 4)):\n",
    "    MSE[idx] = evalMSE([poly('horsepower', degree)],\n",
    "                        'mpg',\n",
    "                        Auto_train ,\n",
    "                        Auto_valid)\n",
    "MSE"
   ]
  },
  {
   "cell_type": "code",
   "execution_count": 8,
   "id": "a98a396a",
   "metadata": {},
   "outputs": [
    {
     "data": {
      "text/plain": [
       "array([20.75540796, 16.94510676, 16.97437833])"
      ]
     },
     "execution_count": 8,
     "metadata": {},
     "output_type": "execute_result"
    }
   ],
   "source": [
    "# results for a different data split\n",
    "Auto_train , Auto_valid = train_test_split(Auto ,\n",
    "                                            test_size=196,\n",
    "                                            random_state=3)\n",
    "MSE = np.zeros(3)\n",
    "for idx , degree in enumerate(range(1, 4)):\n",
    "    MSE[idx] = evalMSE([poly('horsepower', degree)],\n",
    "                        'mpg',\n",
    "                        Auto_train ,\n",
    "                        Auto_valid)\n",
    "MSE"
   ]
  },
  {
   "cell_type": "markdown",
   "id": "bea699a6",
   "metadata": {},
   "source": [
    "# 5.3.2 Cross-Validation"
   ]
  },
  {
   "cell_type": "code",
   "execution_count": 9,
   "id": "3f346f38",
   "metadata": {},
   "outputs": [
    {
     "data": {
      "text/plain": [
       "24.23151351792922"
      ]
     },
     "execution_count": 9,
     "metadata": {},
     "output_type": "execute_result"
    }
   ],
   "source": [
    "# using sklearn_sm wrapper from ISLP\n",
    "hp_model = sklearn_sm(sm.OLS ,\n",
    "                      MS(['horsepower']))\n",
    "X, Y = Auto.drop(columns=['mpg']), Auto['mpg']\n",
    "cv_results = cross_validate(hp_model ,\n",
    "                            X,\n",
    "                            Y,\n",
    "                            cv=Auto.shape[0])   # results in LOOCV\n",
    "cv_err = np.mean(cv_results['test_score'])\n",
    "cv_err"
   ]
  },
  {
   "cell_type": "code",
   "execution_count": 10,
   "id": "e9ccf162",
   "metadata": {},
   "outputs": [
    {
     "data": {
      "text/plain": [
       "array([24.23151352, 19.24821312, 19.33498406, 19.4244303 , 19.03322411])"
      ]
     },
     "execution_count": 10,
     "metadata": {},
     "output_type": "execute_result"
    }
   ],
   "source": [
    "# function to apply this to polynomial fits\n",
    "# generate polynomial fits and their results using a for loop\n",
    "cv_error = np.zeros(5)\n",
    "H = np.array(Auto['horsepower'])\n",
    "M = sklearn_sm(sm.OLS)\n",
    "for i, d in enumerate(range(1,6)):\n",
    "    X = np.power.outer(H, np.arange(d+1))\n",
    "    M_CV = cross_validate(M,\n",
    "                          X,\n",
    "                          Y,\n",
    "                          cv=Auto.shape[0])   # again LOOCV\n",
    "    cv_error[i] = np.mean(M_CV['test_score'])\n",
    "cv_error"
   ]
  },
  {
   "cell_type": "code",
   "execution_count": 12,
   "id": "0f67a7d0",
   "metadata": {},
   "outputs": [
    {
     "data": {
      "text/plain": [
       "array([130, 165, 150, 150, 140, 198, 220, 215, 225, 190, 170, 160, 150,\n",
       "       225,  95,  95,  97,  85,  88,  46,  87,  90,  95, 113,  90, 215,\n",
       "       200, 210, 193,  88,  90,  95, 100, 105, 100,  88, 100, 165, 175,\n",
       "       153, 150, 180, 170, 175, 110,  72, 100,  88,  86,  90,  70,  76,\n",
       "        65,  69,  60,  70,  95,  80,  54,  90,  86, 165, 175, 150, 153,\n",
       "       150, 208, 155, 160, 190,  97, 150, 130, 140, 150, 112,  76,  87,\n",
       "        69,  86,  92,  97,  80,  88, 175, 150, 145, 137, 150, 198, 150,\n",
       "       158, 150, 215, 225, 175, 105, 100, 100,  88,  95,  46, 150, 167,\n",
       "       170, 180, 100,  88,  72,  94,  90,  85, 107,  90, 145, 230,  49,\n",
       "        75,  91, 112, 150, 110, 122, 180,  95, 100, 100,  67,  80,  65,\n",
       "        75, 100, 110, 105, 140, 150, 150, 140, 150,  83,  67,  78,  52,\n",
       "        61,  75,  75,  75,  97,  93,  67,  95, 105,  72,  72, 170, 145,\n",
       "       150, 148, 110, 105, 110,  95, 110, 110, 129,  75,  83, 100,  78,\n",
       "        96,  71,  97,  97,  70,  90,  95,  88,  98, 115,  53,  86,  81,\n",
       "        92,  79,  83, 140, 150, 120, 152, 100, 105,  81,  90,  52,  60,\n",
       "        70,  53, 100,  78, 110,  95,  71,  70,  75,  72, 102, 150,  88,\n",
       "       108, 120, 180, 145, 130, 150,  68,  80,  58,  96,  70, 145, 110,\n",
       "       145, 130, 110, 105, 100,  98, 180, 170, 190, 149,  78,  88,  75,\n",
       "        89,  63,  83,  67,  78,  97, 110, 110,  48,  66,  52,  70,  60,\n",
       "       110, 140, 139, 105,  95,  85,  88, 100,  90, 105,  85, 110, 120,\n",
       "       145, 165, 139, 140,  68,  95,  97,  75,  95, 105,  85,  97, 103,\n",
       "       125, 115, 133,  71,  68, 115,  85,  88,  90, 110, 130, 129, 138,\n",
       "       135, 155, 142, 125, 150,  71,  65,  80,  80,  77, 125,  71,  90,\n",
       "        70,  70,  65,  69,  90, 115, 115,  90,  76,  60,  70,  65,  90,\n",
       "        88,  90,  90,  78,  90,  75,  92,  75,  65, 105,  65,  48,  48,\n",
       "        67,  67,  67,  67,  62, 132, 100,  88,  72,  84,  84,  92, 110,\n",
       "        84,  58,  64,  60,  67,  65,  62,  68,  63,  65,  65,  74,  75,\n",
       "        75, 100,  74,  80,  76, 116, 120, 110, 105,  88,  85,  88,  88,\n",
       "        88,  85,  84,  90,  92,  74,  68,  68,  63,  70,  88,  75,  70,\n",
       "        67,  67,  67, 110,  85,  92, 112,  96,  84,  90,  86,  52,  84,\n",
       "        79,  82], dtype=int64)"
      ]
     },
     "execution_count": 12,
     "metadata": {},
     "output_type": "execute_result"
    }
   ],
   "source": [
    "# example of how no.power.outer works\n",
    "H = np.array(Auto['horsepower'])\n",
    "H"
   ]
  },
  {
   "cell_type": "code",
   "execution_count": 17,
   "id": "a73af803",
   "metadata": {},
   "outputs": [
    {
     "data": {
      "text/plain": [
       "array([[    130,   16900, 2197000],\n",
       "       [    165,   27225, 4492125],\n",
       "       [    150,   22500, 3375000],\n",
       "       ...,\n",
       "       [     84,    7056,  592704],\n",
       "       [     79,    6241,  493039],\n",
       "       [     82,    6724,  551368]], dtype=int64)"
      ]
     },
     "execution_count": 17,
     "metadata": {},
     "output_type": "execute_result"
    }
   ],
   "source": [
    "# applies each power to H\n",
    "X = np.power.outer(H, [1, 2, 3])\n",
    "X"
   ]
  },
  {
   "cell_type": "code",
   "execution_count": 18,
   "id": "e7ddedf4",
   "metadata": {},
   "outputs": [
    {
     "data": {
      "text/plain": [
       "array([24.20766449, 19.18533142, 19.27626666, 19.47848402, 19.13719154])"
      ]
     },
     "execution_count": 18,
     "metadata": {},
     "output_type": "execute_result"
    }
   ],
   "source": [
    "# doing the same as before, but for K < n\n",
    "cv_error = np.zeros(5)\n",
    "\n",
    "# defining cross validation function beforehand\n",
    "cv = KFold(n_splits=10,\n",
    "          shuffle=True,\n",
    "          random_state=0)\n",
    "for i, d in enumerate(range(1,6)):\n",
    "    X = np.power.outer(H, np.arange(d+1))\n",
    "    M_CV = cross_validate(M,\n",
    "                          X,\n",
    "                          Y,\n",
    "                          cv=cv)   # applying cv\n",
    "    cv_error[i] = np.mean(M_CV['test_score'])\n",
    "cv_error"
   ]
  },
  {
   "cell_type": "code",
   "execution_count": 19,
   "id": "804badf0",
   "metadata": {},
   "outputs": [
    {
     "data": {
      "text/plain": [
       "array([23.61661707])"
      ]
     },
     "execution_count": 19,
     "metadata": {},
     "output_type": "execute_result"
    }
   ],
   "source": [
    "# using shuffle split to achieve validation set approach\n",
    "validation = ShuffleSplit(n_splits=1,\n",
    "                        test_size=196,\n",
    "                        random_state=0)\n",
    "results = cross_validate(hp_model ,\n",
    "                        Auto.drop(['mpg'], axis=1),\n",
    "                        Auto['mpg'],\n",
    "                        cv=validation);\n",
    "results['test_score']"
   ]
  },
  {
   "cell_type": "code",
   "execution_count": 20,
   "id": "0bb53073",
   "metadata": {},
   "outputs": [
    {
     "data": {
      "text/plain": [
       "(23.802232661034164, 1.4218450941091831)"
      ]
     },
     "execution_count": 20,
     "metadata": {},
     "output_type": "execute_result"
    }
   ],
   "source": [
    "validation = ShuffleSplit(n_splits=10,\n",
    "                        test_size=196,\n",
    "                        random_state=0)\n",
    "results = cross_validate(hp_model ,\n",
    "                        Auto.drop(['mpg'], axis=1),\n",
    "                        Auto['mpg'],\n",
    "                        cv=validation)\n",
    "results['test_score'].mean(), results['test_score'].std()"
   ]
  },
  {
   "cell_type": "markdown",
   "id": "020da798",
   "metadata": {},
   "source": [
    "# 5.3.3 The Bootstrap"
   ]
  },
  {
   "cell_type": "code",
   "execution_count": 21,
   "id": "bec8e2b6",
   "metadata": {},
   "outputs": [
    {
     "data": {
      "text/html": [
       "<div>\n",
       "<style scoped>\n",
       "    .dataframe tbody tr th:only-of-type {\n",
       "        vertical-align: middle;\n",
       "    }\n",
       "\n",
       "    .dataframe tbody tr th {\n",
       "        vertical-align: top;\n",
       "    }\n",
       "\n",
       "    .dataframe thead th {\n",
       "        text-align: right;\n",
       "    }\n",
       "</style>\n",
       "<table border=\"1\" class=\"dataframe\">\n",
       "  <thead>\n",
       "    <tr style=\"text-align: right;\">\n",
       "      <th></th>\n",
       "      <th>X</th>\n",
       "      <th>Y</th>\n",
       "    </tr>\n",
       "  </thead>\n",
       "  <tbody>\n",
       "    <tr>\n",
       "      <th>0</th>\n",
       "      <td>-0.895251</td>\n",
       "      <td>-0.234924</td>\n",
       "    </tr>\n",
       "    <tr>\n",
       "      <th>1</th>\n",
       "      <td>-1.562454</td>\n",
       "      <td>-0.885176</td>\n",
       "    </tr>\n",
       "    <tr>\n",
       "      <th>2</th>\n",
       "      <td>-0.417090</td>\n",
       "      <td>0.271888</td>\n",
       "    </tr>\n",
       "    <tr>\n",
       "      <th>3</th>\n",
       "      <td>1.044356</td>\n",
       "      <td>-0.734198</td>\n",
       "    </tr>\n",
       "    <tr>\n",
       "      <th>4</th>\n",
       "      <td>-0.315568</td>\n",
       "      <td>0.841983</td>\n",
       "    </tr>\n",
       "    <tr>\n",
       "      <th>...</th>\n",
       "      <td>...</td>\n",
       "      <td>...</td>\n",
       "    </tr>\n",
       "    <tr>\n",
       "      <th>95</th>\n",
       "      <td>0.479091</td>\n",
       "      <td>1.454774</td>\n",
       "    </tr>\n",
       "    <tr>\n",
       "      <th>96</th>\n",
       "      <td>-0.535020</td>\n",
       "      <td>-0.399175</td>\n",
       "    </tr>\n",
       "    <tr>\n",
       "      <th>97</th>\n",
       "      <td>-0.773129</td>\n",
       "      <td>-0.957175</td>\n",
       "    </tr>\n",
       "    <tr>\n",
       "      <th>98</th>\n",
       "      <td>0.403634</td>\n",
       "      <td>1.396038</td>\n",
       "    </tr>\n",
       "    <tr>\n",
       "      <th>99</th>\n",
       "      <td>-0.588496</td>\n",
       "      <td>-0.497285</td>\n",
       "    </tr>\n",
       "  </tbody>\n",
       "</table>\n",
       "<p>100 rows × 2 columns</p>\n",
       "</div>"
      ],
      "text/plain": [
       "           X         Y\n",
       "0  -0.895251 -0.234924\n",
       "1  -1.562454 -0.885176\n",
       "2  -0.417090  0.271888\n",
       "3   1.044356 -0.734198\n",
       "4  -0.315568  0.841983\n",
       "..       ...       ...\n",
       "95  0.479091  1.454774\n",
       "96 -0.535020 -0.399175\n",
       "97 -0.773129 -0.957175\n",
       "98  0.403634  1.396038\n",
       "99 -0.588496 -0.497285\n",
       "\n",
       "[100 rows x 2 columns]"
      ]
     },
     "execution_count": 21,
     "metadata": {},
     "output_type": "execute_result"
    }
   ],
   "source": [
    "Portfolio = load_data(\"Portfolio\")\n",
    "Portfolio"
   ]
  },
  {
   "cell_type": "code",
   "execution_count": 24,
   "id": "71ad80f9",
   "metadata": {},
   "outputs": [
    {
     "data": {
      "text/plain": [
       "array(0.22935297)"
      ]
     },
     "execution_count": 24,
     "metadata": {},
     "output_type": "execute_result"
    }
   ],
   "source": [
    "np.cov(Portfolio[[\"X\", \"Y\"]].loc[1])"
   ]
  },
  {
   "cell_type": "code",
   "execution_count": 25,
   "id": "123b5feb",
   "metadata": {},
   "outputs": [],
   "source": [
    "# returns an estimate for alpha\n",
    "def alpha_func(D, idx):\n",
    "    cov_ = np.cov(D[['X','Y']].loc[idx], rowvar=False)\n",
    "    return ((cov_[1,1] - cov_[0,1]) /\n",
    "            (cov_[0,0]+cov_[1,1]-2*cov_[0,1]))"
   ]
  },
  {
   "cell_type": "code",
   "execution_count": 26,
   "id": "ca77aa9d",
   "metadata": {},
   "outputs": [
    {
     "data": {
      "text/plain": [
       "0.57583207459283"
      ]
     },
     "execution_count": 26,
     "metadata": {},
     "output_type": "execute_result"
    }
   ],
   "source": [
    "# using all 100 rows\n",
    "alpha_func(Portfolio , range(100))"
   ]
  },
  {
   "cell_type": "code",
   "execution_count": 27,
   "id": "977a89db",
   "metadata": {},
   "outputs": [
    {
     "data": {
      "text/plain": [
       "0.6074452469619004"
      ]
     },
     "execution_count": 27,
     "metadata": {},
     "output_type": "execute_result"
    }
   ],
   "source": [
    "# randomly selecting 100 samples\n",
    "rng = np.random.default_rng(0)\n",
    "alpha_func(Portfolio ,\n",
    "            rng.choice(100,\n",
    "                        100,\n",
    "                        replace=True))"
   ]
  },
  {
   "cell_type": "code",
   "execution_count": 28,
   "id": "1e798591",
   "metadata": {},
   "outputs": [],
   "source": [
    "# a generalized function\n",
    "def boot_SE(func ,\n",
    "            D,\n",
    "            n=None ,\n",
    "            B=1000,\n",
    "            seed=0):\n",
    "    rng = np.random.default_rng(seed)\n",
    "    first_ , second_ = 0, 0\n",
    "    n = n or D.shape[0]\n",
    "    for _ in range(B):\n",
    "        idx = rng.choice(D.index ,\n",
    "                        n,\n",
    "                        replace=True)\n",
    "        value = func(D, idx)\n",
    "        first_ += value\n",
    "        second_ += value**2\n",
    "    return np.sqrt(second_ / B - (first_ / B)**2)"
   ]
  },
  {
   "cell_type": "code",
   "execution_count": 29,
   "id": "91e5eaef",
   "metadata": {},
   "outputs": [
    {
     "data": {
      "text/plain": [
       "0.09118176521277699"
      ]
     },
     "execution_count": 29,
     "metadata": {},
     "output_type": "execute_result"
    }
   ],
   "source": [
    "# using 1000 bootstrap repetitions\n",
    "alpha_SE = boot_SE(alpha_func ,\n",
    "                    Portfolio ,\n",
    "                    B=1000,\n",
    "                    seed=0)\n",
    "alpha_SE"
   ]
  },
  {
   "cell_type": "markdown",
   "id": "f32fc8f4",
   "metadata": {},
   "source": [
    "## Estimating the accuracy of a Linear Regression model"
   ]
  },
  {
   "cell_type": "code",
   "execution_count": 30,
   "id": "557ada40",
   "metadata": {},
   "outputs": [],
   "source": [
    "# function to bootstrap a regression model\n",
    "def boot_OLS(model_matrix , response , D, idx):\n",
    "    D_ = D.loc[idx]\n",
    "    Y_ = D_[response]\n",
    "    X_ = clone(model_matrix).fit_transform(D_)\n",
    "    return sm.OLS(Y_, X_).fit().params"
   ]
  },
  {
   "cell_type": "code",
   "execution_count": 31,
   "id": "ec945af2",
   "metadata": {},
   "outputs": [],
   "source": [
    "# freezing 1st 2 arguments using partial\n",
    "hp_func = partial(boot_OLS , MS(['horsepower']), 'mpg')"
   ]
  },
  {
   "cell_type": "code",
   "execution_count": 32,
   "id": "8f954ca7",
   "metadata": {},
   "outputs": [],
   "source": [
    "# hp_func now has only 2 arguments\n",
    "hp_func?"
   ]
  },
  {
   "cell_type": "code",
   "execution_count": 33,
   "id": "693d0755",
   "metadata": {},
   "outputs": [
    {
     "data": {
      "text/plain": [
       "array([[39.88064456, -0.1567849 ],\n",
       "       [38.73298691, -0.14699495],\n",
       "       [38.31734657, -0.14442683],\n",
       "       [39.91446826, -0.15782234],\n",
       "       [39.43349349, -0.15072702],\n",
       "       [40.36629857, -0.15912217],\n",
       "       [39.62334517, -0.15449117],\n",
       "       [39.0580588 , -0.14952908],\n",
       "       [38.66688437, -0.14521037],\n",
       "       [39.64280792, -0.15555698]])"
      ]
     },
     "execution_count": 33,
     "metadata": {},
     "output_type": "execute_result"
    }
   ],
   "source": [
    "# creating estimates for B0 and B1\n",
    "rng = np.random.default_rng(0)\n",
    "np.array([hp_func(Auto ,\n",
    "            rng.choice(392,\n",
    "                        392,\n",
    "                        replace=True)) for _ in range(10)])  # 10 bootstrap samples"
   ]
  },
  {
   "cell_type": "code",
   "execution_count": 34,
   "id": "e3af77f3",
   "metadata": {},
   "outputs": [
    {
     "data": {
      "text/plain": [
       "intercept     0.848807\n",
       "horsepower    0.007352\n",
       "dtype: float64"
      ]
     },
     "execution_count": 34,
     "metadata": {},
     "output_type": "execute_result"
    }
   ],
   "source": [
    "# computing standard errors using our previously defined function\n",
    "hp_se = boot_SE(hp_func ,\n",
    "                Auto ,\n",
    "                B=1000,\n",
    "                seed=10)\n",
    "hp_se"
   ]
  },
  {
   "cell_type": "code",
   "execution_count": 35,
   "id": "e4081791",
   "metadata": {},
   "outputs": [
    {
     "data": {
      "text/plain": [
       "intercept     0.717\n",
       "horsepower    0.006\n",
       "Name: std err, dtype: float64"
      ]
     },
     "execution_count": 35,
     "metadata": {},
     "output_type": "execute_result"
    }
   ],
   "source": [
    "hp_model.fit(Auto , Auto['mpg'])\n",
    "model_se = summarize(hp_model.results_)['std err']\n",
    "model_se"
   ]
  },
  {
   "cell_type": "markdown",
   "id": "6b18b684",
   "metadata": {},
   "source": [
    "The difference in results obtained using bootstrap is due to the fact that is does not take into account any assumptions, and hence gives a more accurate estimate"
   ]
  },
  {
   "cell_type": "code",
   "execution_count": 36,
   "id": "bc143ff5",
   "metadata": {},
   "outputs": [
    {
     "data": {
      "text/plain": [
       "intercept                                  2.067840\n",
       "poly(horsepower, degree=2, raw=True)[0]    0.033019\n",
       "poly(horsepower, degree=2, raw=True)[1]    0.000120\n",
       "dtype: float64"
      ]
     },
     "execution_count": 36,
     "metadata": {},
     "output_type": "execute_result"
    }
   ],
   "source": [
    "# for a quadratic model\n",
    "quad_model = MS([poly('horsepower', 2, raw=True)])\n",
    "quad_func = partial(boot_OLS ,\n",
    "                    quad_model ,\n",
    "                    'mpg')\n",
    "boot_SE(quad_func , Auto , B=1000)"
   ]
  },
  {
   "cell_type": "code",
   "execution_count": 37,
   "id": "92e738a0",
   "metadata": {},
   "outputs": [
    {
     "data": {
      "text/plain": [
       "intercept                                  1.800\n",
       "poly(horsepower, degree=2, raw=True)[0]    0.031\n",
       "poly(horsepower, degree=2, raw=True)[1]    0.000\n",
       "Name: std err, dtype: float64"
      ]
     },
     "execution_count": 37,
     "metadata": {},
     "output_type": "execute_result"
    }
   ],
   "source": [
    "# comparing to OLS results\n",
    "M = sm.OLS(Auto['mpg'],\n",
    "           quad_model.fit_transform(Auto))\n",
    "summarize(M.fit())['std err']"
   ]
  },
  {
   "cell_type": "code",
   "execution_count": null,
   "id": "9a723f41",
   "metadata": {},
   "outputs": [],
   "source": []
  }
 ],
 "metadata": {
  "kernelspec": {
   "display_name": "genenv",
   "language": "python",
   "name": "genenv"
  },
  "language_info": {
   "codemirror_mode": {
    "name": "ipython",
    "version": 3
   },
   "file_extension": ".py",
   "mimetype": "text/x-python",
   "name": "python",
   "nbconvert_exporter": "python",
   "pygments_lexer": "ipython3",
   "version": "3.11.3"
  }
 },
 "nbformat": 4,
 "nbformat_minor": 5
}
