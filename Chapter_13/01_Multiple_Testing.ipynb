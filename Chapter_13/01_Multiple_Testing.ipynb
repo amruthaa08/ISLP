{
 "cells": [
  {
   "cell_type": "code",
   "execution_count": 1,
   "id": "df93ecdb",
   "metadata": {},
   "outputs": [],
   "source": [
    "import numpy as np\n",
    "import pandas as pd\n",
    "import matplotlib.pyplot as plt\n",
    "import statsmodels.api as sm\n",
    "from ISLP import load_data"
   ]
  },
  {
   "cell_type": "code",
   "execution_count": 2,
   "id": "4f90352a",
   "metadata": {},
   "outputs": [],
   "source": [
    "from scipy.stats import \\\n",
    "(ttest_1samp ,\n",
    "ttest_rel ,\n",
    "ttest_ind ,\n",
    "t as t_dbn)\n",
    "from statsmodels.stats.multicomp import \\\n",
    "pairwise_tukeyhsd\n",
    "from statsmodels.stats.multitest import \\\n",
    "multipletests as mult_test"
   ]
  },
  {
   "cell_type": "markdown",
   "id": "689f2cdb",
   "metadata": {},
   "source": [
    "# 13.6.1 Review of Hypothesis Tests"
   ]
  },
  {
   "cell_type": "code",
   "execution_count": 3,
   "id": "634fa18e",
   "metadata": {},
   "outputs": [],
   "source": [
    "rng = np.random.default_rng (12)\n",
    "X = rng.standard_normal((10, 100))\n",
    "true_mean = np.array ([0.5]*50 + [0]*50)\n",
    "X += true_mean[None,:]"
   ]
  },
  {
   "cell_type": "code",
   "execution_count": 4,
   "id": "f6487241",
   "metadata": {},
   "outputs": [
    {
     "data": {
      "text/plain": [
       "0.9307442156164141"
      ]
     },
     "execution_count": 4,
     "metadata": {},
     "output_type": "execute_result"
    }
   ],
   "source": [
    "result = ttest_1samp(X[:,0], 0)\n",
    "result.pvalue"
   ]
  },
  {
   "cell_type": "code",
   "execution_count": 5,
   "id": "b67dc68d",
   "metadata": {},
   "outputs": [],
   "source": [
    "p_values = np.empty(100)\n",
    "for i in range(100):\n",
    "    p_values[i] = ttest_1samp(X[:,i], 0).pvalue\n",
    "decision = pd.cut(p_values ,\n",
    "                [0, 0.05, 1],\n",
    "                labels=['Reject H0',\n",
    "                    'Do not reject H0'])\n",
    "truth = pd.Categorical(true_mean == 0,\n",
    "                        categories=[True , False],\n",
    "                        ordered=True)"
   ]
  },
  {
   "cell_type": "code",
   "execution_count": 6,
   "id": "4d78743c",
   "metadata": {},
   "outputs": [
    {
     "data": {
      "text/html": [
       "<div>\n",
       "<style scoped>\n",
       "    .dataframe tbody tr th:only-of-type {\n",
       "        vertical-align: middle;\n",
       "    }\n",
       "\n",
       "    .dataframe tbody tr th {\n",
       "        vertical-align: top;\n",
       "    }\n",
       "\n",
       "    .dataframe thead th {\n",
       "        text-align: right;\n",
       "    }\n",
       "</style>\n",
       "<table border=\"1\" class=\"dataframe\">\n",
       "  <thead>\n",
       "    <tr style=\"text-align: right;\">\n",
       "      <th>H0</th>\n",
       "      <th>True</th>\n",
       "      <th>False</th>\n",
       "    </tr>\n",
       "    <tr>\n",
       "      <th>Decision</th>\n",
       "      <th></th>\n",
       "      <th></th>\n",
       "    </tr>\n",
       "  </thead>\n",
       "  <tbody>\n",
       "    <tr>\n",
       "      <th>Reject H0</th>\n",
       "      <td>5</td>\n",
       "      <td>15</td>\n",
       "    </tr>\n",
       "    <tr>\n",
       "      <th>Do not reject H0</th>\n",
       "      <td>45</td>\n",
       "      <td>35</td>\n",
       "    </tr>\n",
       "  </tbody>\n",
       "</table>\n",
       "</div>"
      ],
      "text/plain": [
       "H0                True  False\n",
       "Decision                     \n",
       "Reject H0            5     15\n",
       "Do not reject H0    45     35"
      ]
     },
     "execution_count": 6,
     "metadata": {},
     "output_type": "execute_result"
    }
   ],
   "source": [
    "pd.crosstab(decision ,\n",
    "            truth ,\n",
    "            rownames=['Decision'],\n",
    "            colnames=['H0'])"
   ]
  },
  {
   "cell_type": "code",
   "execution_count": 7,
   "id": "f98638c4",
   "metadata": {},
   "outputs": [
    {
     "data": {
      "text/html": [
       "<div>\n",
       "<style scoped>\n",
       "    .dataframe tbody tr th:only-of-type {\n",
       "        vertical-align: middle;\n",
       "    }\n",
       "\n",
       "    .dataframe tbody tr th {\n",
       "        vertical-align: top;\n",
       "    }\n",
       "\n",
       "    .dataframe thead th {\n",
       "        text-align: right;\n",
       "    }\n",
       "</style>\n",
       "<table border=\"1\" class=\"dataframe\">\n",
       "  <thead>\n",
       "    <tr style=\"text-align: right;\">\n",
       "      <th>H0</th>\n",
       "      <th>True</th>\n",
       "      <th>False</th>\n",
       "    </tr>\n",
       "    <tr>\n",
       "      <th>Decision</th>\n",
       "      <th></th>\n",
       "      <th></th>\n",
       "    </tr>\n",
       "  </thead>\n",
       "  <tbody>\n",
       "    <tr>\n",
       "      <th>Reject H0</th>\n",
       "      <td>2</td>\n",
       "      <td>40</td>\n",
       "    </tr>\n",
       "    <tr>\n",
       "      <th>Do not reject H0</th>\n",
       "      <td>48</td>\n",
       "      <td>10</td>\n",
       "    </tr>\n",
       "  </tbody>\n",
       "</table>\n",
       "</div>"
      ],
      "text/plain": [
       "H0                True  False\n",
       "Decision                     \n",
       "Reject H0            2     40\n",
       "Do not reject H0    48     10"
      ]
     },
     "execution_count": 7,
     "metadata": {},
     "output_type": "execute_result"
    }
   ],
   "source": [
    "true_mean = np.array ([1]*50 + [0]*50)\n",
    "X = rng.standard_normal((10, 100))\n",
    "X += true_mean[None,:]\n",
    "for i in range(100):\n",
    "    p_values[i] = ttest_1samp(X[:,i], 0).pvalue\n",
    "decision = pd.cut(p_values ,\n",
    "                [0, 0.05, 1],\n",
    "                labels=['Reject H0',\n",
    "                        'Do not reject H0'])\n",
    "truth = pd.Categorical(true_mean == 0,\n",
    "                        categories=[True , False],\n",
    "                        ordered=True)\n",
    "pd.crosstab(decision ,\n",
    "            truth ,\n",
    "            rownames=['Decision'],\n",
    "            colnames=['H0'])"
   ]
  },
  {
   "cell_type": "markdown",
   "id": "3b28a31a",
   "metadata": {},
   "source": [
    "# 13.6.2 Family-Wise Error Rate"
   ]
  },
  {
   "cell_type": "code",
   "execution_count": 8,
   "id": "7b32b237",
   "metadata": {},
   "outputs": [
    {
     "data": {
      "image/png": "[encoded data removed]",
      "text/plain": [
       "<Figure size 432x288 with 1 Axes>"
      ]
     },
     "metadata": {
      "needs_background": "light"
     },
     "output_type": "display_data"
    }
   ],
   "source": [
    "m = np.linspace(1, 501)\n",
    "fig , ax = plt.subplots()\n",
    "[ax.plot(m,\n",
    "        1 - (1 - alpha)**m,\n",
    "        label=r'$\\alpha=%s$' % str(alpha))\n",
    "        for alpha in [0.05, 0.01, 0.001]]\n",
    "ax.set_xscale('log')\n",
    "ax.set_xlabel('Number of Hypotheses')\n",
    "ax.set_ylabel('Family -Wise Error Rate')\n",
    "ax.legend()\n",
    "ax.axhline(0.05, c='k', ls='--');"
   ]
  },
  {
   "cell_type": "code",
   "execution_count": 9,
   "id": "bac48693",
   "metadata": {},
   "outputs": [
    {
     "data": {
      "text/plain": [
       "array([0.00620236, 0.91827115, 0.01160098, 0.6005396 , 0.75578151])"
      ]
     },
     "execution_count": 9,
     "metadata": {},
     "output_type": "execute_result"
    }
   ],
   "source": [
    "Fund = load_data('Fund')\n",
    "fund_mini = Fund.iloc[:,:5]\n",
    "fund_mini_pvals = np.empty(5)\n",
    "for i in range(5):\n",
    "    fund_mini_pvals[i] = ttest_1samp(fund_mini.iloc[:,i], 0).pvalue\n",
    "fund_mini_pvals"
   ]
  },
  {
   "cell_type": "code",
   "execution_count": 10,
   "id": "9e07fb0b",
   "metadata": {},
   "outputs": [
    {
     "data": {
      "text/plain": [
       "array([ True, False, False, False, False])"
      ]
     },
     "execution_count": 10,
     "metadata": {},
     "output_type": "execute_result"
    }
   ],
   "source": [
    "reject , bonf = mult_test(fund_mini_pvals , method = \"bonferroni\")[:2]\n",
    "reject"
   ]
  },
  {
   "cell_type": "code",
   "execution_count": 11,
   "id": "dadd400e",
   "metadata": {},
   "outputs": [
    {
     "data": {
      "text/plain": [
       "(array([0.03101178, 1.        , 0.05800491, 1.        , 1.        ]),\n",
       " array([0.03101178, 1.        , 0.05800491, 1.        , 1.        ]))"
      ]
     },
     "execution_count": 11,
     "metadata": {},
     "output_type": "execute_result"
    }
   ],
   "source": [
    "bonf , np.minimum(fund_mini_pvals * 5, 1)"
   ]
  },
  {
   "cell_type": "code",
   "execution_count": 12,
   "id": "32fc3fc6",
   "metadata": {},
   "outputs": [
    {
     "data": {
      "text/plain": [
       "(array([ True, False,  True, False, False]),\n",
       " array([0.03101178, 1.        , 0.04640393, 1.        , 1.        ]))"
      ]
     },
     "execution_count": 12,
     "metadata": {},
     "output_type": "execute_result"
    }
   ],
   "source": [
    "mult_test(fund_mini_pvals , method = \"holm\", alpha=0.05)[:2]"
   ]
  },
  {
   "cell_type": "code",
   "execution_count": 13,
   "id": "f4742ad1",
   "metadata": {},
   "outputs": [
    {
     "data": {
      "text/plain": [
       "Manager1    3.0\n",
       "Manager2   -0.1\n",
       "Manager3    2.8\n",
       "Manager4    0.5\n",
       "Manager5    0.3\n",
       "dtype: float64"
      ]
     },
     "execution_count": 13,
     "metadata": {},
     "output_type": "execute_result"
    }
   ],
   "source": [
    "fund_mini.mean()"
   ]
  },
  {
   "cell_type": "code",
   "execution_count": 14,
   "id": "5aa82da6",
   "metadata": {},
   "outputs": [
    {
     "data": {
      "text/plain": [
       "0.038391072368079586"
      ]
     },
     "execution_count": 14,
     "metadata": {},
     "output_type": "execute_result"
    }
   ],
   "source": [
    "ttest_rel(fund_mini['Manager1'],\n",
    "          fund_mini['Manager2']).pvalue"
   ]
  },
  {
   "cell_type": "code",
   "execution_count": 15,
   "id": "8f2b9452",
   "metadata": {},
   "outputs": [
    {
     "name": "stdout",
     "output_type": "stream",
     "text": [
      "Multiple Comparison of Means - Tukey HSD, FWER=0.05\n",
      "===================================================\n",
      "group1 group2 meandiff p-adj   lower  upper  reject\n",
      "---------------------------------------------------\n",
      "     1      2     -3.1 0.1862 -6.9865 0.7865  False\n",
      "     1      3     -0.2 0.9999 -4.0865 3.6865  False\n",
      "     1      4     -2.5 0.3948 -6.3865 1.3865  False\n",
      "     1      5     -2.7 0.3152 -6.5865 1.1865  False\n",
      "     2      3      2.9 0.2453 -0.9865 6.7865  False\n",
      "     2      4      0.6 0.9932 -3.2865 4.4865  False\n",
      "     2      5      0.4 0.9986 -3.4865 4.2865  False\n",
      "     3      4     -2.3  0.482 -6.1865 1.5865  False\n",
      "     3      5     -2.5 0.3948 -6.3865 1.3865  False\n",
      "     4      5     -0.2 0.9999 -4.0865 3.6865  False\n",
      "---------------------------------------------------\n"
     ]
    }
   ],
   "source": [
    "returns = np.hstack([fund_mini.iloc[:,i] for i in range(5)])\n",
    "managers = np.hstack([[i+1]*50 for i in range(5)])\n",
    "tukey = pairwise_tukeyhsd(returns , managers)\n",
    "print(tukey.summary())"
   ]
  },
  {
   "cell_type": "code",
   "execution_count": 16,
   "id": "694696e2",
   "metadata": {},
   "outputs": [
    {
     "data": {
      "image/png": "[encoded data removed]",
      "text/plain": [
       "<Figure size 720x432 with 1 Axes>"
      ]
     },
     "metadata": {
      "needs_background": "light"
     },
     "output_type": "display_data"
    }
   ],
   "source": [
    "fig , ax = plt.subplots(figsize=(8,8))\n",
    "tukey.plot_simultaneous(ax=ax);"
   ]
  },
  {
   "cell_type": "markdown",
   "id": "ec305aba",
   "metadata": {},
   "source": [
    "# 13.6.3 False Discovery Rate"
   ]
  },
  {
   "cell_type": "code",
   "execution_count": 17,
   "id": "a0ce753a",
   "metadata": {},
   "outputs": [],
   "source": [
    "fund_pvalues = np.empty (2000)\n",
    "for i, manager in enumerate(Fund.columns):\n",
    "    fund_pvalues[i] = ttest_1samp(Fund[manager], 0).pvalue"
   ]
  },
  {
   "cell_type": "code",
   "execution_count": 18,
   "id": "cffe9f40",
   "metadata": {},
   "outputs": [
    {
     "data": {
      "text/plain": [
       "array([0.08988921, 0.991491  , 0.12211561, 0.92342997, 0.95603587,\n",
       "       0.07513802, 0.0767015 , 0.07513802, 0.07513802, 0.07513802])"
      ]
     },
     "execution_count": 18,
     "metadata": {},
     "output_type": "execute_result"
    }
   ],
   "source": [
    "fund_qvalues = mult_test(fund_pvalues , method = \"fdr_bh\")[1]\n",
    "fund_qvalues [:10]"
   ]
  },
  {
   "cell_type": "code",
   "execution_count": 19,
   "id": "a054400e",
   "metadata": {},
   "outputs": [
    {
     "data": {
      "text/plain": [
       "146"
      ]
     },
     "execution_count": 19,
     "metadata": {},
     "output_type": "execute_result"
    }
   ],
   "source": [
    "(fund_qvalues <= 0.1).sum()"
   ]
  },
  {
   "cell_type": "code",
   "execution_count": 20,
   "id": "205f3403",
   "metadata": {},
   "outputs": [
    {
     "data": {
      "text/plain": [
       "0"
      ]
     },
     "execution_count": 20,
     "metadata": {},
     "output_type": "execute_result"
    }
   ],
   "source": [
    "(fund_pvalues <= 0.1 / 2000).sum()"
   ]
  },
  {
   "cell_type": "code",
   "execution_count": 22,
   "id": "06ad29fd",
   "metadata": {},
   "outputs": [],
   "source": [
    "sorted_ = np.sort(fund_pvalues)\n",
    "m = fund_pvalues.shape[0]\n",
    "q = 0.1\n",
    "sorted_set_ = np.where(sorted_ < q * np.linspace(1, m, m) / m)[0]\n",
    "if sorted_set_.shape[0] > 0:\n",
    "    selected_ = fund_pvalues < sorted_[sorted_set_].max()\n",
    "    sorted_set_ = np.arange(sorted_set_.max())\n",
    "else:\n",
    "    selected_ = []\n",
    "    sorted_set_ = []"
   ]
  },
  {
   "cell_type": "code",
   "execution_count": 23,
   "id": "1d84c8e3",
   "metadata": {},
   "outputs": [
    {
     "data": {
      "image/png": "[encoded data removed]",
      "text/plain": [
       "<Figure size 432x288 with 1 Axes>"
      ]
     },
     "metadata": {
      "needs_background": "light"
     },
     "output_type": "display_data"
    }
   ],
   "source": [
    "fig , ax = plt.subplots()\n",
    "ax.scatter(np.arange(0, sorted_.shape[0]) + 1,\n",
    "           sorted_ , s=10)\n",
    "ax.set_yscale('log')\n",
    "ax.set_xscale('log')\n",
    "ax.set_ylabel('P-Value')\n",
    "ax.set_xlabel('Index')\n",
    "ax.scatter(sorted_set_+1, sorted_[sorted_set_], c='r', s=20)\n",
    "ax.axline((0, 0), (1,q/m), c='k', ls='--', linewidth=3);"
   ]
  },
  {
   "cell_type": "markdown",
   "id": "6b0f7004",
   "metadata": {},
   "source": [
    "# 13.6.4 A Re-Sampling Approach"
   ]
  },
  {
   "cell_type": "code",
   "execution_count": 24,
   "id": "744a918f",
   "metadata": {},
   "outputs": [
    {
     "data": {
      "text/plain": [
       "2    29\n",
       "4    25\n",
       "3    18\n",
       "1    11\n",
       "Name: Y, dtype: int64"
      ]
     },
     "execution_count": 24,
     "metadata": {},
     "output_type": "execute_result"
    }
   ],
   "source": [
    "Khan = load_data('Khan')\n",
    "D = pd.concat([Khan['xtrain'], Khan['xtest']])\n",
    "D['Y'] = pd.concat([Khan['ytrain'], Khan['ytest']])\n",
    "D['Y'].value_counts()"
   ]
  },
  {
   "cell_type": "code",
   "execution_count": 25,
   "id": "d9294bb0",
   "metadata": {},
   "outputs": [
    {
     "data": {
      "text/plain": [
       "(-2.0936330736768185, 0.04118643782678394)"
      ]
     },
     "execution_count": 25,
     "metadata": {},
     "output_type": "execute_result"
    }
   ],
   "source": [
    "D2 = D[lambda df:df['Y'] == 2]\n",
    "D4 = D[lambda df:df['Y'] == 4]\n",
    "gene_11 = 'G0011'\n",
    "observedT , pvalue = ttest_ind(D2[gene_11],\n",
    "                                D4[gene_11],\n",
    "                                equal_var=True)\n",
    "observedT , pvalue"
   ]
  },
  {
   "cell_type": "code",
   "execution_count": 26,
   "id": "70a6c161",
   "metadata": {},
   "outputs": [
    {
     "data": {
      "text/plain": [
       "0.0398"
      ]
     },
     "execution_count": 26,
     "metadata": {},
     "output_type": "execute_result"
    }
   ],
   "source": [
    "B = 10000\n",
    "Tnull = np.empty(B)\n",
    "D_ = np.hstack([D2[gene_11], D4[gene_11]])\n",
    "n_ = D2[gene_11].shape[0]\n",
    "D_null = D_.copy()\n",
    "for b in range(B):\n",
    "    rng.shuffle(D_null)\n",
    "    ttest_ = ttest_ind(D_null[:n_],\n",
    "                        D_null[n_:],\n",
    "                        equal_var=True)\n",
    "    Tnull[b] = ttest_.statistic\n",
    "(np.abs(Tnull) > np.abs(observedT)).mean()"
   ]
  },
  {
   "cell_type": "code",
   "execution_count": 27,
   "id": "7581c75f",
   "metadata": {},
   "outputs": [
    {
     "data": {
      "image/png": "[encoded data removed]",
      "text/plain": [
       "<Figure size 576x576 with 1 Axes>"
      ]
     },
     "metadata": {
      "needs_background": "light"
     },
     "output_type": "display_data"
    }
   ],
   "source": [
    "fig , ax = plt.subplots(figsize=(8,8))\n",
    "ax.hist(Tnull ,\n",
    "        bins=100,\n",
    "        density=True ,\n",
    "        facecolor='y',\n",
    "        label='Null')\n",
    "xval = np.linspace(-4.2, 4.2, 1001)\n",
    "ax.plot(xval ,\n",
    "        t_dbn.pdf(xval , D_.shape[0]-2),\n",
    "        c='r')\n",
    "ax.axvline(observedT ,\n",
    "            c='b',\n",
    "            label='Observed')\n",
    "ax.legend()\n",
    "ax.set_xlabel(\"Null Distribution of Test Statistic\");"
   ]
  },
  {
   "cell_type": "code",
   "execution_count": 30,
   "id": "d6a460c3",
   "metadata": {},
   "outputs": [],
   "source": [
    "m, B = 100, 500\n",
    "idx = rng.choice(Khan['xtest'].columns , m, replace=False)\n",
    "T_vals = np.empty(m)\n",
    "Tnull_vals = np.empty((m, B))\n",
    "\n",
    "for j in range(m):\n",
    "    col = idx[j]\n",
    "    T_vals[j] = ttest_ind(D2[col],\n",
    "                            D4[col],\n",
    "                            equal_var=True).statistic\n",
    "    D_ = np.hstack([D2[col], D4[col]])\n",
    "    D_null = D_.copy()\n",
    "    for b in range(B):\n",
    "        rng.shuffle(D_null)\n",
    "        ttest_ = ttest_ind(D_null[:n_],\n",
    "                            D_null[n_:],\n",
    "                            equal_var=True)\n",
    "        Tnull_vals[j,b] = ttest_.statistic"
   ]
  },
  {
   "cell_type": "code",
   "execution_count": 31,
   "id": "e70d1ddf",
   "metadata": {},
   "outputs": [],
   "source": [
    "cutoffs = np.sort(np.abs(T_vals))\n",
    "FDRs , Rs, Vs = np.empty((3, m))\n",
    "for j in range(m):\n",
    "    R = np.sum(np.abs(T_vals) >= cutoffs[j])\n",
    "    V = np.sum(np.abs(Tnull_vals) >= cutoffs[j]) / B\n",
    "    Rs[j] = R\n",
    "    Vs[j] = V\n",
    "    FDRs[j] = V / R"
   ]
  },
  {
   "cell_type": "code",
   "execution_count": 32,
   "id": "e5ce21ca",
   "metadata": {},
   "outputs": [
    {
     "data": {
      "text/plain": [
       "['G0501',\n",
       " 'G0533',\n",
       " 'G0566',\n",
       " 'G0694',\n",
       " 'G0797',\n",
       " 'G1049',\n",
       " 'G1201',\n",
       " 'G1204',\n",
       " 'G1220',\n",
       " 'G1287',\n",
       " 'G1297',\n",
       " 'G1331',\n",
       " 'G1416',\n",
       " 'G1606',\n",
       " 'G1645',\n",
       " 'G1671',\n",
       " 'G1778',\n",
       " 'G1931',\n",
       " 'G2017',\n",
       " 'G2021',\n",
       " 'G2080',\n",
       " 'G2148',\n",
       " 'G2149']"
      ]
     },
     "execution_count": 32,
     "metadata": {},
     "output_type": "execute_result"
    }
   ],
   "source": [
    "sorted(idx[np.abs(T_vals) >= cutoffs[FDRs < 0.1].min()])"
   ]
  },
  {
   "cell_type": "code",
   "execution_count": 33,
   "id": "950b0e26",
   "metadata": {},
   "outputs": [
    {
     "data": {
      "text/plain": [
       "['G0109',\n",
       " 'G0242',\n",
       " 'G0399',\n",
       " 'G0501',\n",
       " 'G0533',\n",
       " 'G0566',\n",
       " 'G0582',\n",
       " 'G0608',\n",
       " 'G0694',\n",
       " 'G0797',\n",
       " 'G0861',\n",
       " 'G0887',\n",
       " 'G1049',\n",
       " 'G1162',\n",
       " 'G1201',\n",
       " 'G1204',\n",
       " 'G1220',\n",
       " 'G1285',\n",
       " 'G1287',\n",
       " 'G1297',\n",
       " 'G1305',\n",
       " 'G1331',\n",
       " 'G1416',\n",
       " 'G1606',\n",
       " 'G1645',\n",
       " 'G1671',\n",
       " 'G1778',\n",
       " 'G1782',\n",
       " 'G1876',\n",
       " 'G1931',\n",
       " 'G2017',\n",
       " 'G2021',\n",
       " 'G2080',\n",
       " 'G2148',\n",
       " 'G2149']"
      ]
     },
     "execution_count": 33,
     "metadata": {},
     "output_type": "execute_result"
    }
   ],
   "source": [
    "sorted(idx[np.abs(T_vals) >= cutoffs[FDRs < 0.2].min()])"
   ]
  },
  {
   "cell_type": "code",
   "execution_count": 34,
   "id": "3050f8dc",
   "metadata": {},
   "outputs": [
    {
     "data": {
      "image/png": "[encoded data removed]",
      "text/plain": [
       "<Figure size 432x288 with 1 Axes>"
      ]
     },
     "metadata": {
      "needs_background": "light"
     },
     "output_type": "display_data"
    }
   ],
   "source": [
    "fig , ax = plt.subplots()\n",
    "ax.plot(Rs, FDRs , 'b', linewidth=3)\n",
    "ax.set_xlabel(\"Number of Rejections\")\n",
    "ax.set_ylabel(\"False Discovery Rate\");"
   ]
  },
  {
   "cell_type": "code",
   "execution_count": null,
   "id": "4ef9a90d",
   "metadata": {},
   "outputs": [],
   "source": []
  }
 ],
 "metadata": {
  "kernelspec": {
   "display_name": "genenv",
   "language": "python",
   "name": "genenv"
  },
  "language_info": {
   "codemirror_mode": {
    "name": "ipython",
    "version": 3
   },
   "file_extension": ".py",
   "mimetype": "text/x-python",
   "name": "python",
   "nbconvert_exporter": "python",
   "pygments_lexer": "ipython3",
   "version": "3.11.5"
  }
 },
 "nbformat": 4,
 "nbformat_minor": 5
}
