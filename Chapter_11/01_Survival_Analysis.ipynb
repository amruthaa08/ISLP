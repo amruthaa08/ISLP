{
 "cells": [
  {
   "cell_type": "code",
   "execution_count": 1,
   "id": "6c3dc70a",
   "metadata": {},
   "outputs": [],
   "source": [
    "from matplotlib.pyplot import subplots\n",
    "import numpy as np\n",
    "import pandas as pd\n",
    "from ISLP.models import ModelSpec as MS\n",
    "from ISLP import load_data"
   ]
  },
  {
   "cell_type": "code",
   "execution_count": 2,
   "id": "d442e20d",
   "metadata": {},
   "outputs": [],
   "source": [
    "from lifelines import \\\n",
    "(KaplanMeierFitter,\n",
    "CoxPHFitter)\n",
    "from lifelines.statistics import \\\n",
    "(logrank_test,\n",
    "multivariate_logrank_test)\n",
    "from ISLP.survival import sim_time"
   ]
  },
  {
   "cell_type": "markdown",
   "id": "e29a940d",
   "metadata": {},
   "source": [
    "# 11.8.1 Brain Cancer Data"
   ]
  },
  {
   "cell_type": "code",
   "execution_count": 3,
   "id": "ecf99889",
   "metadata": {},
   "outputs": [
    {
     "data": {
      "text/plain": [
       "Index(['sex', 'diagnosis', 'loc', 'ki', 'gtv', 'stereo', 'status', 'time'], dtype='object')"
      ]
     },
     "execution_count": 3,
     "metadata": {},
     "output_type": "execute_result"
    }
   ],
   "source": [
    "BrainCancer = load_data('BrainCancer')\n",
    "BrainCancer.columns"
   ]
  },
  {
   "cell_type": "code",
   "execution_count": 4,
   "id": "24ae24c8",
   "metadata": {},
   "outputs": [
    {
     "data": {
      "text/plain": [
       "Female    45\n",
       "Male      43\n",
       "Name: sex, dtype: int64"
      ]
     },
     "execution_count": 4,
     "metadata": {},
     "output_type": "execute_result"
    }
   ],
   "source": [
    "# examining data\n",
    "BrainCancer['sex'].value_counts()"
   ]
  },
  {
   "cell_type": "code",
   "execution_count": 5,
   "id": "5ea640be",
   "metadata": {},
   "outputs": [
    {
     "data": {
      "text/plain": [
       "Meningioma    42\n",
       "HG glioma     22\n",
       "Other         14\n",
       "LG glioma      9\n",
       "Name: diagnosis, dtype: int64"
      ]
     },
     "execution_count": 5,
     "metadata": {},
     "output_type": "execute_result"
    }
   ],
   "source": [
    "BrainCancer['diagnosis'].value_counts()"
   ]
  },
  {
   "cell_type": "code",
   "execution_count": 6,
   "id": "1bde59e1",
   "metadata": {},
   "outputs": [
    {
     "data": {
      "text/plain": [
       "0    53\n",
       "1    35\n",
       "Name: status, dtype: int64"
      ]
     },
     "execution_count": 6,
     "metadata": {},
     "output_type": "execute_result"
    }
   ],
   "source": [
    "BrainCancer['status'].value_counts()"
   ]
  },
  {
   "cell_type": "code",
   "execution_count": 7,
   "id": "c9bb49e6",
   "metadata": {},
   "outputs": [
    {
     "data": {
      "text/plain": [
       "<Axes: xlabel='timeline'>"
      ]
     },
     "execution_count": 7,
     "metadata": {},
     "output_type": "execute_result"
    },
    {
     "data": {
      "image/png": "[encoded data removed]",
      "text/plain": [
       "<Figure size 576x576 with 1 Axes>"
      ]
     },
     "metadata": {
      "needs_background": "light"
     },
     "output_type": "display_data"
    }
   ],
   "source": [
    "fig , ax = subplots(figsize=(8,8))\n",
    "km = KaplanMeierFitter()\n",
    "km_brain = km.fit(BrainCancer['time'], BrainCancer['status'])\n",
    "km_brain.plot(label='Kaplan Meier estimate', ax=ax)"
   ]
  },
  {
   "cell_type": "code",
   "execution_count": 8,
   "id": "0b880898",
   "metadata": {},
   "outputs": [
    {
     "data": {
      "image/png": "[encoded data removed]",
      "text/plain": [
       "<Figure size 576x576 with 1 Axes>"
      ]
     },
     "metadata": {
      "needs_background": "light"
     },
     "output_type": "display_data"
    }
   ],
   "source": [
    "fig , ax = subplots(figsize=(8,8))\n",
    "by_sex = {}\n",
    "for sex , df in BrainCancer.groupby('sex'):\n",
    "    by_sex[sex] = df\n",
    "    km_sex = km.fit(df['time'], df['status'])\n",
    "    km_sex.plot(label='Sex=%s' % sex, ax=ax)"
   ]
  },
  {
   "cell_type": "code",
   "execution_count": 9,
   "id": "34e5c988",
   "metadata": {},
   "outputs": [
    {
     "data": {
      "text/html": [
       "<div>\n",
       "<style scoped>\n",
       "    .dataframe tbody tr th:only-of-type {\n",
       "        vertical-align: middle;\n",
       "    }\n",
       "\n",
       "    .dataframe tbody tr th {\n",
       "        vertical-align: top;\n",
       "    }\n",
       "\n",
       "    .dataframe thead th {\n",
       "        text-align: right;\n",
       "    }\n",
       "</style>\n",
       "<table border=\"1\" class=\"dataframe\">\n",
       "  <tbody>\n",
       "    <tr>\n",
       "      <th>t_0</th>\n",
       "      <td>-1</td>\n",
       "    </tr>\n",
       "    <tr>\n",
       "      <th>null_distribution</th>\n",
       "      <td>chi squared</td>\n",
       "    </tr>\n",
       "    <tr>\n",
       "      <th>degrees_of_freedom</th>\n",
       "      <td>1</td>\n",
       "    </tr>\n",
       "    <tr>\n",
       "      <th>test_name</th>\n",
       "      <td>logrank_test</td>\n",
       "    </tr>\n",
       "  </tbody>\n",
       "</table>\n",
       "</div><table border=\"1\" class=\"dataframe\">\n",
       "  <thead>\n",
       "    <tr style=\"text-align: right;\">\n",
       "      <th></th>\n",
       "      <th>test_statistic</th>\n",
       "      <th>p</th>\n",
       "      <th>-log2(p)</th>\n",
       "    </tr>\n",
       "  </thead>\n",
       "  <tbody>\n",
       "    <tr>\n",
       "      <th>0</th>\n",
       "      <td>1.44</td>\n",
       "      <td>0.23</td>\n",
       "      <td>2.12</td>\n",
       "    </tr>\n",
       "  </tbody>\n",
       "</table>"
      ],
      "text/latex": [
       "\\begin{tabular}{lrrr}\n",
       " & test_statistic & p & -log2(p) \\\\\n",
       "0 & 1.44 & 0.23 & 2.12 \\\\\n",
       "\\end{tabular}\n"
      ],
      "text/plain": [
       "<lifelines.StatisticalResult: logrank_test>\n",
       "               t_0 = -1\n",
       " null_distribution = chi squared\n",
       "degrees_of_freedom = 1\n",
       "         test_name = logrank_test\n",
       "\n",
       "---\n",
       " test_statistic    p  -log2(p)\n",
       "           1.44 0.23      2.12"
      ]
     },
     "execution_count": 9,
     "metadata": {},
     "output_type": "execute_result"
    }
   ],
   "source": [
    "logrank_test(by_sex['Male']['time'],\n",
    "            by_sex['Female']['time'],\n",
    "            by_sex['Male']['status'],\n",
    "            by_sex['Female']['status'])"
   ]
  },
  {
   "cell_type": "code",
   "execution_count": 10,
   "id": "2c96d241",
   "metadata": {},
   "outputs": [
    {
     "data": {
      "text/html": [
       "<div>\n",
       "<style scoped>\n",
       "    .dataframe tbody tr th:only-of-type {\n",
       "        vertical-align: middle;\n",
       "    }\n",
       "\n",
       "    .dataframe tbody tr th {\n",
       "        vertical-align: top;\n",
       "    }\n",
       "\n",
       "    .dataframe thead th {\n",
       "        text-align: right;\n",
       "    }\n",
       "</style>\n",
       "<table border=\"1\" class=\"dataframe\">\n",
       "  <thead>\n",
       "    <tr style=\"text-align: right;\">\n",
       "      <th></th>\n",
       "      <th>coef</th>\n",
       "      <th>se(coef)</th>\n",
       "      <th>p</th>\n",
       "    </tr>\n",
       "    <tr>\n",
       "      <th>covariate</th>\n",
       "      <th></th>\n",
       "      <th></th>\n",
       "      <th></th>\n",
       "    </tr>\n",
       "  </thead>\n",
       "  <tbody>\n",
       "    <tr>\n",
       "      <th>sex[Male]</th>\n",
       "      <td>0.407668</td>\n",
       "      <td>0.342004</td>\n",
       "      <td>0.233262</td>\n",
       "    </tr>\n",
       "  </tbody>\n",
       "</table>\n",
       "</div>"
      ],
      "text/plain": [
       "               coef  se(coef)         p\n",
       "covariate                              \n",
       "sex[Male]  0.407668  0.342004  0.233262"
      ]
     },
     "execution_count": 10,
     "metadata": {},
     "output_type": "execute_result"
    }
   ],
   "source": [
    "coxph = CoxPHFitter # shorthand\n",
    "sex_df = BrainCancer[['time', 'status', 'sex']]\n",
    "model_df = MS(['time', 'status', 'sex'],\n",
    "            intercept=False).fit_transform(sex_df)\n",
    "cox_fit = coxph().fit(model_df ,\n",
    "                    'time',\n",
    "                    'status')\n",
    "cox_fit.summary[['coef', 'se(coef)', 'p']]"
   ]
  },
  {
   "cell_type": "code",
   "execution_count": 11,
   "id": "96e39c3f",
   "metadata": {},
   "outputs": [
    {
     "data": {
      "text/html": [
       "<div>\n",
       "<style scoped>\n",
       "    .dataframe tbody tr th:only-of-type {\n",
       "        vertical-align: middle;\n",
       "    }\n",
       "\n",
       "    .dataframe tbody tr th {\n",
       "        vertical-align: top;\n",
       "    }\n",
       "\n",
       "    .dataframe thead th {\n",
       "        text-align: right;\n",
       "    }\n",
       "</style>\n",
       "<table border=\"1\" class=\"dataframe\">\n",
       "  <tbody>\n",
       "    <tr>\n",
       "      <th>null_distribution</th>\n",
       "      <td>chi squared</td>\n",
       "    </tr>\n",
       "    <tr>\n",
       "      <th>degrees_freedom</th>\n",
       "      <td>1</td>\n",
       "    </tr>\n",
       "    <tr>\n",
       "      <th>test_name</th>\n",
       "      <td>log-likelihood ratio test</td>\n",
       "    </tr>\n",
       "  </tbody>\n",
       "</table>\n",
       "</div><table border=\"1\" class=\"dataframe\">\n",
       "  <thead>\n",
       "    <tr style=\"text-align: right;\">\n",
       "      <th></th>\n",
       "      <th>test_statistic</th>\n",
       "      <th>p</th>\n",
       "      <th>-log2(p)</th>\n",
       "    </tr>\n",
       "  </thead>\n",
       "  <tbody>\n",
       "    <tr>\n",
       "      <th>0</th>\n",
       "      <td>1.44</td>\n",
       "      <td>0.23</td>\n",
       "      <td>2.12</td>\n",
       "    </tr>\n",
       "  </tbody>\n",
       "</table>"
      ],
      "text/latex": [
       "\\begin{tabular}{lrrr}\n",
       " & test_statistic & p & -log2(p) \\\\\n",
       "0 & 1.44 & 0.23 & 2.12 \\\\\n",
       "\\end{tabular}\n"
      ],
      "text/plain": [
       "<lifelines.StatisticalResult: log-likelihood ratio test>\n",
       "null_distribution = chi squared\n",
       "  degrees_freedom = 1\n",
       "        test_name = log-likelihood ratio test\n",
       "\n",
       "---\n",
       " test_statistic    p  -log2(p)\n",
       "           1.44 0.23      2.12"
      ]
     },
     "execution_count": 11,
     "metadata": {},
     "output_type": "execute_result"
    }
   ],
   "source": [
    "cox_fit.log_likelihood_ratio_test()"
   ]
  },
  {
   "cell_type": "code",
   "execution_count": 12,
   "id": "8493ffae",
   "metadata": {},
   "outputs": [
    {
     "data": {
      "text/html": [
       "<div>\n",
       "<style scoped>\n",
       "    .dataframe tbody tr th:only-of-type {\n",
       "        vertical-align: middle;\n",
       "    }\n",
       "\n",
       "    .dataframe tbody tr th {\n",
       "        vertical-align: top;\n",
       "    }\n",
       "\n",
       "    .dataframe thead th {\n",
       "        text-align: right;\n",
       "    }\n",
       "</style>\n",
       "<table border=\"1\" class=\"dataframe\">\n",
       "  <thead>\n",
       "    <tr style=\"text-align: right;\">\n",
       "      <th></th>\n",
       "      <th>coef</th>\n",
       "      <th>se(coef)</th>\n",
       "      <th>p</th>\n",
       "    </tr>\n",
       "    <tr>\n",
       "      <th>covariate</th>\n",
       "      <th></th>\n",
       "      <th></th>\n",
       "      <th></th>\n",
       "    </tr>\n",
       "  </thead>\n",
       "  <tbody>\n",
       "    <tr>\n",
       "      <th>sex[Male]</th>\n",
       "      <td>0.183748</td>\n",
       "      <td>0.360358</td>\n",
       "      <td>0.610119</td>\n",
       "    </tr>\n",
       "    <tr>\n",
       "      <th>diagnosis[LG glioma]</th>\n",
       "      <td>-1.239530</td>\n",
       "      <td>0.579555</td>\n",
       "      <td>0.032455</td>\n",
       "    </tr>\n",
       "    <tr>\n",
       "      <th>diagnosis[Meningioma]</th>\n",
       "      <td>-2.154566</td>\n",
       "      <td>0.450524</td>\n",
       "      <td>0.000002</td>\n",
       "    </tr>\n",
       "    <tr>\n",
       "      <th>diagnosis[Other]</th>\n",
       "      <td>-1.268870</td>\n",
       "      <td>0.617672</td>\n",
       "      <td>0.039949</td>\n",
       "    </tr>\n",
       "    <tr>\n",
       "      <th>loc[Supratentorial]</th>\n",
       "      <td>0.441195</td>\n",
       "      <td>0.703669</td>\n",
       "      <td>0.530665</td>\n",
       "    </tr>\n",
       "    <tr>\n",
       "      <th>ki</th>\n",
       "      <td>-0.054955</td>\n",
       "      <td>0.018314</td>\n",
       "      <td>0.002693</td>\n",
       "    </tr>\n",
       "    <tr>\n",
       "      <th>gtv</th>\n",
       "      <td>0.034293</td>\n",
       "      <td>0.022333</td>\n",
       "      <td>0.124661</td>\n",
       "    </tr>\n",
       "    <tr>\n",
       "      <th>stereo[SRT]</th>\n",
       "      <td>0.177778</td>\n",
       "      <td>0.601578</td>\n",
       "      <td>0.767597</td>\n",
       "    </tr>\n",
       "  </tbody>\n",
       "</table>\n",
       "</div>"
      ],
      "text/plain": [
       "                           coef  se(coef)         p\n",
       "covariate                                          \n",
       "sex[Male]              0.183748  0.360358  0.610119\n",
       "diagnosis[LG glioma]  -1.239530  0.579555  0.032455\n",
       "diagnosis[Meningioma] -2.154566  0.450524  0.000002\n",
       "diagnosis[Other]      -1.268870  0.617672  0.039949\n",
       "loc[Supratentorial]    0.441195  0.703669  0.530665\n",
       "ki                    -0.054955  0.018314  0.002693\n",
       "gtv                    0.034293  0.022333  0.124661\n",
       "stereo[SRT]            0.177778  0.601578  0.767597"
      ]
     },
     "execution_count": 12,
     "metadata": {},
     "output_type": "execute_result"
    }
   ],
   "source": [
    "cleaned = BrainCancer.dropna()\n",
    "all_MS = MS(cleaned.columns , intercept=False)\n",
    "all_df = all_MS.fit_transform(cleaned)\n",
    "fit_all = coxph().fit(all_df ,\n",
    "                    'time',\n",
    "                    'status')\n",
    "fit_all.summary[['coef', 'se(coef)', 'p']]"
   ]
  },
  {
   "cell_type": "code",
   "execution_count": 13,
   "id": "46d3c2d7",
   "metadata": {},
   "outputs": [],
   "source": [
    "levels = cleaned['diagnosis'].unique()\n",
    "def representative(series):\n",
    "    if hasattr(series.dtype , 'categories'):\n",
    "        return pd.Series.mode(series)\n",
    "    else:\n",
    "        return series.mean()\n",
    "modal_data = cleaned.apply(representative , axis=0)"
   ]
  },
  {
   "cell_type": "code",
   "execution_count": 14,
   "id": "5cedc385",
   "metadata": {},
   "outputs": [
    {
     "data": {
      "text/html": [
       "<div>\n",
       "<style scoped>\n",
       "    .dataframe tbody tr th:only-of-type {\n",
       "        vertical-align: middle;\n",
       "    }\n",
       "\n",
       "    .dataframe tbody tr th {\n",
       "        vertical-align: top;\n",
       "    }\n",
       "\n",
       "    .dataframe thead th {\n",
       "        text-align: right;\n",
       "    }\n",
       "</style>\n",
       "<table border=\"1\" class=\"dataframe\">\n",
       "  <thead>\n",
       "    <tr style=\"text-align: right;\">\n",
       "      <th></th>\n",
       "      <th>sex</th>\n",
       "      <th>diagnosis</th>\n",
       "      <th>loc</th>\n",
       "      <th>ki</th>\n",
       "      <th>gtv</th>\n",
       "      <th>stereo</th>\n",
       "      <th>status</th>\n",
       "      <th>time</th>\n",
       "    </tr>\n",
       "  </thead>\n",
       "  <tbody>\n",
       "    <tr>\n",
       "      <th>0</th>\n",
       "      <td>Female</td>\n",
       "      <td>Meningioma</td>\n",
       "      <td>Supratentorial</td>\n",
       "      <td>80.91954</td>\n",
       "      <td>8.687011</td>\n",
       "      <td>SRT</td>\n",
       "      <td>0.402299</td>\n",
       "      <td>27.188621</td>\n",
       "    </tr>\n",
       "    <tr>\n",
       "      <th>0</th>\n",
       "      <td>Female</td>\n",
       "      <td>HG glioma</td>\n",
       "      <td>Supratentorial</td>\n",
       "      <td>80.91954</td>\n",
       "      <td>8.687011</td>\n",
       "      <td>SRT</td>\n",
       "      <td>0.402299</td>\n",
       "      <td>27.188621</td>\n",
       "    </tr>\n",
       "    <tr>\n",
       "      <th>0</th>\n",
       "      <td>Female</td>\n",
       "      <td>LG glioma</td>\n",
       "      <td>Supratentorial</td>\n",
       "      <td>80.91954</td>\n",
       "      <td>8.687011</td>\n",
       "      <td>SRT</td>\n",
       "      <td>0.402299</td>\n",
       "      <td>27.188621</td>\n",
       "    </tr>\n",
       "    <tr>\n",
       "      <th>0</th>\n",
       "      <td>Female</td>\n",
       "      <td>Other</td>\n",
       "      <td>Supratentorial</td>\n",
       "      <td>80.91954</td>\n",
       "      <td>8.687011</td>\n",
       "      <td>SRT</td>\n",
       "      <td>0.402299</td>\n",
       "      <td>27.188621</td>\n",
       "    </tr>\n",
       "  </tbody>\n",
       "</table>\n",
       "</div>"
      ],
      "text/plain": [
       "      sex   diagnosis             loc        ki       gtv stereo    status  \\\n",
       "0  Female  Meningioma  Supratentorial  80.91954  8.687011    SRT  0.402299   \n",
       "0  Female   HG glioma  Supratentorial  80.91954  8.687011    SRT  0.402299   \n",
       "0  Female   LG glioma  Supratentorial  80.91954  8.687011    SRT  0.402299   \n",
       "0  Female       Other  Supratentorial  80.91954  8.687011    SRT  0.402299   \n",
       "\n",
       "        time  \n",
       "0  27.188621  \n",
       "0  27.188621  \n",
       "0  27.188621  \n",
       "0  27.188621  "
      ]
     },
     "execution_count": 14,
     "metadata": {},
     "output_type": "execute_result"
    }
   ],
   "source": [
    "modal_df = pd.DataFrame(\n",
    "                [modal_data.iloc[0] for _ in range(len(levels))])\n",
    "modal_df['diagnosis'] = levels\n",
    "modal_df"
   ]
  },
  {
   "cell_type": "code",
   "execution_count": 15,
   "id": "fb46e2f8",
   "metadata": {},
   "outputs": [
    {
     "data": {
      "text/html": [
       "<div>\n",
       "<style scoped>\n",
       "    .dataframe tbody tr th:only-of-type {\n",
       "        vertical-align: middle;\n",
       "    }\n",
       "\n",
       "    .dataframe tbody tr th {\n",
       "        vertical-align: top;\n",
       "    }\n",
       "\n",
       "    .dataframe thead th {\n",
       "        text-align: right;\n",
       "    }\n",
       "</style>\n",
       "<table border=\"1\" class=\"dataframe\">\n",
       "  <thead>\n",
       "    <tr style=\"text-align: right;\">\n",
       "      <th></th>\n",
       "      <th>sex[Male]</th>\n",
       "      <th>diagnosis[LG glioma]</th>\n",
       "      <th>diagnosis[Meningioma]</th>\n",
       "      <th>diagnosis[Other]</th>\n",
       "      <th>loc[Supratentorial]</th>\n",
       "      <th>ki</th>\n",
       "      <th>gtv</th>\n",
       "      <th>stereo[SRT]</th>\n",
       "      <th>status</th>\n",
       "      <th>time</th>\n",
       "    </tr>\n",
       "  </thead>\n",
       "  <tbody>\n",
       "    <tr>\n",
       "      <th>Meningioma</th>\n",
       "      <td>0.0</td>\n",
       "      <td>0.0</td>\n",
       "      <td>1.0</td>\n",
       "      <td>0.0</td>\n",
       "      <td>1.0</td>\n",
       "      <td>80.91954</td>\n",
       "      <td>8.687011</td>\n",
       "      <td>1.0</td>\n",
       "      <td>0.402299</td>\n",
       "      <td>27.188621</td>\n",
       "    </tr>\n",
       "    <tr>\n",
       "      <th>HG glioma</th>\n",
       "      <td>0.0</td>\n",
       "      <td>0.0</td>\n",
       "      <td>0.0</td>\n",
       "      <td>0.0</td>\n",
       "      <td>1.0</td>\n",
       "      <td>80.91954</td>\n",
       "      <td>8.687011</td>\n",
       "      <td>1.0</td>\n",
       "      <td>0.402299</td>\n",
       "      <td>27.188621</td>\n",
       "    </tr>\n",
       "    <tr>\n",
       "      <th>LG glioma</th>\n",
       "      <td>0.0</td>\n",
       "      <td>1.0</td>\n",
       "      <td>0.0</td>\n",
       "      <td>0.0</td>\n",
       "      <td>1.0</td>\n",
       "      <td>80.91954</td>\n",
       "      <td>8.687011</td>\n",
       "      <td>1.0</td>\n",
       "      <td>0.402299</td>\n",
       "      <td>27.188621</td>\n",
       "    </tr>\n",
       "    <tr>\n",
       "      <th>Other</th>\n",
       "      <td>0.0</td>\n",
       "      <td>0.0</td>\n",
       "      <td>0.0</td>\n",
       "      <td>1.0</td>\n",
       "      <td>1.0</td>\n",
       "      <td>80.91954</td>\n",
       "      <td>8.687011</td>\n",
       "      <td>1.0</td>\n",
       "      <td>0.402299</td>\n",
       "      <td>27.188621</td>\n",
       "    </tr>\n",
       "  </tbody>\n",
       "</table>\n",
       "</div>"
      ],
      "text/plain": [
       "            sex[Male]  diagnosis[LG glioma]  diagnosis[Meningioma]  \\\n",
       "Meningioma        0.0                   0.0                    1.0   \n",
       "HG glioma         0.0                   0.0                    0.0   \n",
       "LG glioma         0.0                   1.0                    0.0   \n",
       "Other             0.0                   0.0                    0.0   \n",
       "\n",
       "            diagnosis[Other]  loc[Supratentorial]        ki       gtv  \\\n",
       "Meningioma               0.0                  1.0  80.91954  8.687011   \n",
       "HG glioma                0.0                  1.0  80.91954  8.687011   \n",
       "LG glioma                0.0                  1.0  80.91954  8.687011   \n",
       "Other                    1.0                  1.0  80.91954  8.687011   \n",
       "\n",
       "            stereo[SRT]    status       time  \n",
       "Meningioma          1.0  0.402299  27.188621  \n",
       "HG glioma           1.0  0.402299  27.188621  \n",
       "LG glioma           1.0  0.402299  27.188621  \n",
       "Other               1.0  0.402299  27.188621  "
      ]
     },
     "execution_count": 15,
     "metadata": {},
     "output_type": "execute_result"
    }
   ],
   "source": [
    "modal_X = all_MS.transform(modal_df)\n",
    "modal_X.index = levels\n",
    "modal_X"
   ]
  },
  {
   "cell_type": "code",
   "execution_count": 16,
   "id": "d7923f24",
   "metadata": {},
   "outputs": [
    {
     "data": {
      "text/html": [
       "<div>\n",
       "<style scoped>\n",
       "    .dataframe tbody tr th:only-of-type {\n",
       "        vertical-align: middle;\n",
       "    }\n",
       "\n",
       "    .dataframe tbody tr th {\n",
       "        vertical-align: top;\n",
       "    }\n",
       "\n",
       "    .dataframe thead th {\n",
       "        text-align: right;\n",
       "    }\n",
       "</style>\n",
       "<table border=\"1\" class=\"dataframe\">\n",
       "  <thead>\n",
       "    <tr style=\"text-align: right;\">\n",
       "      <th></th>\n",
       "      <th>Meningioma</th>\n",
       "      <th>HG glioma</th>\n",
       "      <th>LG glioma</th>\n",
       "      <th>Other</th>\n",
       "    </tr>\n",
       "  </thead>\n",
       "  <tbody>\n",
       "    <tr>\n",
       "      <th>0.07</th>\n",
       "      <td>0.997947</td>\n",
       "      <td>0.982430</td>\n",
       "      <td>0.994881</td>\n",
       "      <td>0.995029</td>\n",
       "    </tr>\n",
       "    <tr>\n",
       "      <th>1.18</th>\n",
       "      <td>0.997947</td>\n",
       "      <td>0.982430</td>\n",
       "      <td>0.994881</td>\n",
       "      <td>0.995029</td>\n",
       "    </tr>\n",
       "    <tr>\n",
       "      <th>1.41</th>\n",
       "      <td>0.995679</td>\n",
       "      <td>0.963342</td>\n",
       "      <td>0.989245</td>\n",
       "      <td>0.989555</td>\n",
       "    </tr>\n",
       "    <tr>\n",
       "      <th>1.54</th>\n",
       "      <td>0.995679</td>\n",
       "      <td>0.963342</td>\n",
       "      <td>0.989245</td>\n",
       "      <td>0.989555</td>\n",
       "    </tr>\n",
       "    <tr>\n",
       "      <th>2.03</th>\n",
       "      <td>0.995679</td>\n",
       "      <td>0.963342</td>\n",
       "      <td>0.989245</td>\n",
       "      <td>0.989555</td>\n",
       "    </tr>\n",
       "    <tr>\n",
       "      <th>...</th>\n",
       "      <td>...</td>\n",
       "      <td>...</td>\n",
       "      <td>...</td>\n",
       "      <td>...</td>\n",
       "    </tr>\n",
       "    <tr>\n",
       "      <th>65.02</th>\n",
       "      <td>0.688772</td>\n",
       "      <td>0.040136</td>\n",
       "      <td>0.394181</td>\n",
       "      <td>0.404936</td>\n",
       "    </tr>\n",
       "    <tr>\n",
       "      <th>67.38</th>\n",
       "      <td>0.688772</td>\n",
       "      <td>0.040136</td>\n",
       "      <td>0.394181</td>\n",
       "      <td>0.404936</td>\n",
       "    </tr>\n",
       "    <tr>\n",
       "      <th>73.74</th>\n",
       "      <td>0.688772</td>\n",
       "      <td>0.040136</td>\n",
       "      <td>0.394181</td>\n",
       "      <td>0.404936</td>\n",
       "    </tr>\n",
       "    <tr>\n",
       "      <th>78.75</th>\n",
       "      <td>0.688772</td>\n",
       "      <td>0.040136</td>\n",
       "      <td>0.394181</td>\n",
       "      <td>0.404936</td>\n",
       "    </tr>\n",
       "    <tr>\n",
       "      <th>82.56</th>\n",
       "      <td>0.688772</td>\n",
       "      <td>0.040136</td>\n",
       "      <td>0.394181</td>\n",
       "      <td>0.404936</td>\n",
       "    </tr>\n",
       "  </tbody>\n",
       "</table>\n",
       "<p>85 rows × 4 columns</p>\n",
       "</div>"
      ],
      "text/plain": [
       "       Meningioma  HG glioma  LG glioma     Other\n",
       "0.07     0.997947   0.982430   0.994881  0.995029\n",
       "1.18     0.997947   0.982430   0.994881  0.995029\n",
       "1.41     0.995679   0.963342   0.989245  0.989555\n",
       "1.54     0.995679   0.963342   0.989245  0.989555\n",
       "2.03     0.995679   0.963342   0.989245  0.989555\n",
       "...           ...        ...        ...       ...\n",
       "65.02    0.688772   0.040136   0.394181  0.404936\n",
       "67.38    0.688772   0.040136   0.394181  0.404936\n",
       "73.74    0.688772   0.040136   0.394181  0.404936\n",
       "78.75    0.688772   0.040136   0.394181  0.404936\n",
       "82.56    0.688772   0.040136   0.394181  0.404936\n",
       "\n",
       "[85 rows x 4 columns]"
      ]
     },
     "execution_count": 16,
     "metadata": {},
     "output_type": "execute_result"
    }
   ],
   "source": [
    "predicted_survival = fit_all.predict_survival_function(modal_X)\n",
    "predicted_survival"
   ]
  },
  {
   "cell_type": "code",
   "execution_count": 17,
   "id": "9e48b949",
   "metadata": {},
   "outputs": [
    {
     "data": {
      "image/png": "[encoded data removed]",
      "text/plain": [
       "<Figure size 576x576 with 1 Axes>"
      ]
     },
     "metadata": {
      "needs_background": "light"
     },
     "output_type": "display_data"
    }
   ],
   "source": [
    "fig , ax = subplots(figsize=(8, 8))\n",
    "predicted_survival.plot(ax=ax);"
   ]
  },
  {
   "cell_type": "markdown",
   "id": "ef606788",
   "metadata": {},
   "source": [
    "# 11.8.2 Publication Data"
   ]
  },
  {
   "cell_type": "code",
   "execution_count": 18,
   "id": "1291872c",
   "metadata": {},
   "outputs": [
    {
     "data": {
      "image/png": "[encoded data removed]",
      "text/plain": [
       "<Figure size 576x576 with 1 Axes>"
      ]
     },
     "metadata": {
      "needs_background": "light"
     },
     "output_type": "display_data"
    }
   ],
   "source": [
    "fig , ax = subplots(figsize=(8,8))\n",
    "Publication = load_data('Publication')\n",
    "by_result = {}\n",
    "for result , df in Publication.groupby('posres'):\n",
    "    by_result[result] = df\n",
    "    km_result = km.fit(df['time'], df['status'])\n",
    "    km_result.plot(label='Result=%d' % result, ax=ax)"
   ]
  },
  {
   "cell_type": "code",
   "execution_count": 19,
   "id": "44bc9475",
   "metadata": {},
   "outputs": [
    {
     "data": {
      "text/html": [
       "<div>\n",
       "<style scoped>\n",
       "    .dataframe tbody tr th:only-of-type {\n",
       "        vertical-align: middle;\n",
       "    }\n",
       "\n",
       "    .dataframe tbody tr th {\n",
       "        vertical-align: top;\n",
       "    }\n",
       "\n",
       "    .dataframe thead th {\n",
       "        text-align: right;\n",
       "    }\n",
       "</style>\n",
       "<table border=\"1\" class=\"dataframe\">\n",
       "  <thead>\n",
       "    <tr style=\"text-align: right;\">\n",
       "      <th></th>\n",
       "      <th>coef</th>\n",
       "      <th>se(coef)</th>\n",
       "      <th>p</th>\n",
       "    </tr>\n",
       "    <tr>\n",
       "      <th>covariate</th>\n",
       "      <th></th>\n",
       "      <th></th>\n",
       "      <th></th>\n",
       "    </tr>\n",
       "  </thead>\n",
       "  <tbody>\n",
       "    <tr>\n",
       "      <th>posres</th>\n",
       "      <td>0.148076</td>\n",
       "      <td>0.161625</td>\n",
       "      <td>0.359579</td>\n",
       "    </tr>\n",
       "  </tbody>\n",
       "</table>\n",
       "</div>"
      ],
      "text/plain": [
       "               coef  se(coef)         p\n",
       "covariate                              \n",
       "posres     0.148076  0.161625  0.359579"
      ]
     },
     "execution_count": 19,
     "metadata": {},
     "output_type": "execute_result"
    }
   ],
   "source": [
    "posres_df = MS(['posres',\n",
    "                'time',\n",
    "                'status'],\n",
    "                intercept=False).fit_transform(Publication)\n",
    "posres_fit = coxph().fit(posres_df ,\n",
    "                        'time',\n",
    "                        'status')\n",
    "posres_fit.summary[['coef', 'se(coef)', 'p']]"
   ]
  },
  {
   "cell_type": "code",
   "execution_count": 20,
   "id": "69365d5c",
   "metadata": {},
   "outputs": [
    {
     "data": {
      "text/html": [
       "<div>\n",
       "<style scoped>\n",
       "    .dataframe tbody tr th:only-of-type {\n",
       "        vertical-align: middle;\n",
       "    }\n",
       "\n",
       "    .dataframe tbody tr th {\n",
       "        vertical-align: top;\n",
       "    }\n",
       "\n",
       "    .dataframe thead th {\n",
       "        text-align: right;\n",
       "    }\n",
       "</style>\n",
       "<table border=\"1\" class=\"dataframe\">\n",
       "  <thead>\n",
       "    <tr style=\"text-align: right;\">\n",
       "      <th></th>\n",
       "      <th>coef</th>\n",
       "      <th>se(coef)</th>\n",
       "      <th>p</th>\n",
       "    </tr>\n",
       "    <tr>\n",
       "      <th>covariate</th>\n",
       "      <th></th>\n",
       "      <th></th>\n",
       "      <th></th>\n",
       "    </tr>\n",
       "  </thead>\n",
       "  <tbody>\n",
       "    <tr>\n",
       "      <th>posres</th>\n",
       "      <td>0.570773</td>\n",
       "      <td>0.175960</td>\n",
       "      <td>1.179610e-03</td>\n",
       "    </tr>\n",
       "    <tr>\n",
       "      <th>multi</th>\n",
       "      <td>-0.040860</td>\n",
       "      <td>0.251194</td>\n",
       "      <td>8.707842e-01</td>\n",
       "    </tr>\n",
       "    <tr>\n",
       "      <th>clinend</th>\n",
       "      <td>0.546183</td>\n",
       "      <td>0.262000</td>\n",
       "      <td>3.709944e-02</td>\n",
       "    </tr>\n",
       "    <tr>\n",
       "      <th>sampsize</th>\n",
       "      <td>0.000005</td>\n",
       "      <td>0.000015</td>\n",
       "      <td>7.507005e-01</td>\n",
       "    </tr>\n",
       "    <tr>\n",
       "      <th>budget</th>\n",
       "      <td>0.004386</td>\n",
       "      <td>0.002465</td>\n",
       "      <td>7.515984e-02</td>\n",
       "    </tr>\n",
       "    <tr>\n",
       "      <th>impact</th>\n",
       "      <td>0.058318</td>\n",
       "      <td>0.006676</td>\n",
       "      <td>2.426306e-18</td>\n",
       "    </tr>\n",
       "  </tbody>\n",
       "</table>\n",
       "</div>"
      ],
      "text/plain": [
       "               coef  se(coef)             p\n",
       "covariate                                  \n",
       "posres     0.570773  0.175960  1.179610e-03\n",
       "multi     -0.040860  0.251194  8.707842e-01\n",
       "clinend    0.546183  0.262000  3.709944e-02\n",
       "sampsize   0.000005  0.000015  7.507005e-01\n",
       "budget     0.004386  0.002465  7.515984e-02\n",
       "impact     0.058318  0.006676  2.426306e-18"
      ]
     },
     "execution_count": 20,
     "metadata": {},
     "output_type": "execute_result"
    }
   ],
   "source": [
    "model = MS(Publication.columns.drop('mech'),\n",
    "        intercept=False)\n",
    "coxph().fit(model.fit_transform(Publication),\n",
    "            'time',\n",
    "            'status').summary[['coef', 'se(coef)', 'p']]"
   ]
  },
  {
   "cell_type": "markdown",
   "id": "a6b242c4",
   "metadata": {},
   "source": [
    "# 11.8.3 Call Center Data"
   ]
  },
  {
   "cell_type": "code",
   "execution_count": 21,
   "id": "86137c5d",
   "metadata": {},
   "outputs": [],
   "source": [
    "rng = np.random.default_rng (10)\n",
    "N = 2000\n",
    "Operators = rng.choice(np.arange(5, 16),\n",
    "                        N,\n",
    "                        replace=True)\n",
    "Center = rng.choice(['A', 'B', 'C'],\n",
    "                    N,\n",
    "                    replace=True)\n",
    "Time = rng.choice(['Morn.', 'After.', 'Even.'],\n",
    "                    N,\n",
    "                    replace=True)\n",
    "D = pd.DataFrame({'Operators': Operators,\n",
    "                'Center': pd.Categorical(Center),\n",
    "                'Time': pd.Categorical(Time)})"
   ]
  },
  {
   "cell_type": "code",
   "execution_count": 22,
   "id": "170406b2",
   "metadata": {},
   "outputs": [],
   "source": [
    "model = MS(['Operators',\n",
    "            'Center',\n",
    "            'Time'],\n",
    "            intercept=False)\n",
    "X = model.fit_transform(D)"
   ]
  },
  {
   "cell_type": "code",
   "execution_count": 23,
   "id": "b4b8f787",
   "metadata": {},
   "outputs": [
    {
     "data": {
      "text/html": [
       "<div>\n",
       "<style scoped>\n",
       "    .dataframe tbody tr th:only-of-type {\n",
       "        vertical-align: middle;\n",
       "    }\n",
       "\n",
       "    .dataframe tbody tr th {\n",
       "        vertical-align: top;\n",
       "    }\n",
       "\n",
       "    .dataframe thead th {\n",
       "        text-align: right;\n",
       "    }\n",
       "</style>\n",
       "<table border=\"1\" class=\"dataframe\">\n",
       "  <thead>\n",
       "    <tr style=\"text-align: right;\">\n",
       "      <th></th>\n",
       "      <th>Operators</th>\n",
       "      <th>Center[B]</th>\n",
       "      <th>Center[C]</th>\n",
       "      <th>Time[Even.]</th>\n",
       "      <th>Time[Morn.]</th>\n",
       "    </tr>\n",
       "  </thead>\n",
       "  <tbody>\n",
       "    <tr>\n",
       "      <th>0</th>\n",
       "      <td>13</td>\n",
       "      <td>0.0</td>\n",
       "      <td>1.0</td>\n",
       "      <td>0.0</td>\n",
       "      <td>0.0</td>\n",
       "    </tr>\n",
       "    <tr>\n",
       "      <th>1</th>\n",
       "      <td>15</td>\n",
       "      <td>0.0</td>\n",
       "      <td>0.0</td>\n",
       "      <td>1.0</td>\n",
       "      <td>0.0</td>\n",
       "    </tr>\n",
       "    <tr>\n",
       "      <th>2</th>\n",
       "      <td>7</td>\n",
       "      <td>1.0</td>\n",
       "      <td>0.0</td>\n",
       "      <td>0.0</td>\n",
       "      <td>1.0</td>\n",
       "    </tr>\n",
       "    <tr>\n",
       "      <th>3</th>\n",
       "      <td>7</td>\n",
       "      <td>0.0</td>\n",
       "      <td>1.0</td>\n",
       "      <td>0.0</td>\n",
       "      <td>1.0</td>\n",
       "    </tr>\n",
       "    <tr>\n",
       "      <th>4</th>\n",
       "      <td>13</td>\n",
       "      <td>0.0</td>\n",
       "      <td>1.0</td>\n",
       "      <td>1.0</td>\n",
       "      <td>0.0</td>\n",
       "    </tr>\n",
       "  </tbody>\n",
       "</table>\n",
       "</div>"
      ],
      "text/plain": [
       "   Operators  Center[B]  Center[C]  Time[Even.]  Time[Morn.]\n",
       "0         13        0.0        1.0          0.0          0.0\n",
       "1         15        0.0        0.0          1.0          0.0\n",
       "2          7        1.0        0.0          0.0          1.0\n",
       "3          7        0.0        1.0          0.0          1.0\n",
       "4         13        0.0        1.0          1.0          0.0"
      ]
     },
     "execution_count": 23,
     "metadata": {},
     "output_type": "execute_result"
    }
   ],
   "source": [
    "X[:5]"
   ]
  },
  {
   "cell_type": "code",
   "execution_count": 24,
   "id": "9fb3f613",
   "metadata": {},
   "outputs": [],
   "source": [
    "true_beta = np.array([0.04, -0.3, 0, 0.2, -0.2])\n",
    "true_linpred = X.dot(true_beta)\n",
    "hazard = lambda t: 1e-5 * t"
   ]
  },
  {
   "cell_type": "code",
   "execution_count": 25,
   "id": "afd414cd",
   "metadata": {},
   "outputs": [],
   "source": [
    "cum_hazard = lambda t: 1e-5 * t**2 / 2"
   ]
  },
  {
   "cell_type": "code",
   "execution_count": 26,
   "id": "086f6831",
   "metadata": {},
   "outputs": [],
   "source": [
    "W = np.array([sim_time(l, cum_hazard, rng)\n",
    "            for l in true_linpred])\n",
    "D['Wait time'] = np.clip(W, 0, 1000)"
   ]
  },
  {
   "cell_type": "code",
   "execution_count": 27,
   "id": "6a11a848",
   "metadata": {},
   "outputs": [
    {
     "data": {
      "text/html": [
       "<div>\n",
       "<style scoped>\n",
       "    .dataframe tbody tr th:only-of-type {\n",
       "        vertical-align: middle;\n",
       "    }\n",
       "\n",
       "    .dataframe tbody tr th {\n",
       "        vertical-align: top;\n",
       "    }\n",
       "\n",
       "    .dataframe thead th {\n",
       "        text-align: right;\n",
       "    }\n",
       "</style>\n",
       "<table border=\"1\" class=\"dataframe\">\n",
       "  <thead>\n",
       "    <tr style=\"text-align: right;\">\n",
       "      <th></th>\n",
       "      <th>Operators</th>\n",
       "      <th>Center</th>\n",
       "      <th>Time</th>\n",
       "      <th>Wait time</th>\n",
       "      <th>Failed</th>\n",
       "    </tr>\n",
       "  </thead>\n",
       "  <tbody>\n",
       "    <tr>\n",
       "      <th>0</th>\n",
       "      <td>13</td>\n",
       "      <td>C</td>\n",
       "      <td>After.</td>\n",
       "      <td>525.064979</td>\n",
       "      <td>1</td>\n",
       "    </tr>\n",
       "    <tr>\n",
       "      <th>1</th>\n",
       "      <td>15</td>\n",
       "      <td>A</td>\n",
       "      <td>Even.</td>\n",
       "      <td>254.677835</td>\n",
       "      <td>1</td>\n",
       "    </tr>\n",
       "    <tr>\n",
       "      <th>2</th>\n",
       "      <td>7</td>\n",
       "      <td>B</td>\n",
       "      <td>Morn.</td>\n",
       "      <td>487.739224</td>\n",
       "      <td>1</td>\n",
       "    </tr>\n",
       "    <tr>\n",
       "      <th>3</th>\n",
       "      <td>7</td>\n",
       "      <td>C</td>\n",
       "      <td>Morn.</td>\n",
       "      <td>308.580292</td>\n",
       "      <td>1</td>\n",
       "    </tr>\n",
       "    <tr>\n",
       "      <th>4</th>\n",
       "      <td>13</td>\n",
       "      <td>C</td>\n",
       "      <td>Even.</td>\n",
       "      <td>154.174608</td>\n",
       "      <td>1</td>\n",
       "    </tr>\n",
       "  </tbody>\n",
       "</table>\n",
       "</div>"
      ],
      "text/plain": [
       "   Operators Center    Time   Wait time  Failed\n",
       "0         13      C  After.  525.064979       1\n",
       "1         15      A   Even.  254.677835       1\n",
       "2          7      B   Morn.  487.739224       1\n",
       "3          7      C   Morn.  308.580292       1\n",
       "4         13      C   Even.  154.174608       1"
      ]
     },
     "execution_count": 27,
     "metadata": {},
     "output_type": "execute_result"
    }
   ],
   "source": [
    "D['Failed'] = rng.choice([1, 0],\n",
    "                        N,\n",
    "                        p=[0.9, 0.1])\n",
    "D[:5]"
   ]
  },
  {
   "cell_type": "code",
   "execution_count": 28,
   "id": "331e10d4",
   "metadata": {},
   "outputs": [
    {
     "data": {
      "text/plain": [
       "0.9075"
      ]
     },
     "execution_count": 28,
     "metadata": {},
     "output_type": "execute_result"
    }
   ],
   "source": [
    "D['Failed'].mean()"
   ]
  },
  {
   "cell_type": "code",
   "execution_count": 29,
   "id": "680421dc",
   "metadata": {},
   "outputs": [
    {
     "data": {
      "text/plain": [
       "Text(0.5, 1.0, 'Probability of Still Being on Hold')"
      ]
     },
     "execution_count": 29,
     "metadata": {},
     "output_type": "execute_result"
    },
    {
     "data": {
      "image/png": "[encoded data removed]",
      "text/plain": [
       "<Figure size 576x576 with 1 Axes>"
      ]
     },
     "metadata": {
      "needs_background": "light"
     },
     "output_type": "display_data"
    }
   ],
   "source": [
    "fig , ax = subplots(figsize=(8,8))\n",
    "by_center = {}\n",
    "for center , df in D.groupby('Center'):\n",
    "    by_center[center] = df\n",
    "    km_center = km.fit(df['Wait time'], df['Failed'])\n",
    "    km_center.plot(label='Center=%s' % center, ax=ax)\n",
    "ax.set_title(\"Probability of Still Being on Hold\")"
   ]
  },
  {
   "cell_type": "code",
   "execution_count": 30,
   "id": "c50805ae",
   "metadata": {},
   "outputs": [
    {
     "data": {
      "text/plain": [
       "Text(0.5, 1.0, 'Probability of Still Being on Hold')"
      ]
     },
     "execution_count": 30,
     "metadata": {},
     "output_type": "execute_result"
    },
    {
     "data": {
      "image/png": "[encoded data removed]",
      "text/plain": [
       "<Figure size 576x576 with 1 Axes>"
      ]
     },
     "metadata": {
      "needs_background": "light"
     },
     "output_type": "display_data"
    }
   ],
   "source": [
    "fig , ax = subplots(figsize=(8,8))\n",
    "by_time = {}\n",
    "for time , df in D.groupby('Time'):\n",
    "    by_time[time] = df\n",
    "    km_time = km.fit(df['Wait time'], df['Failed'])\n",
    "    km_time.plot(label='Time=%s' % time, ax=ax)\n",
    "ax.set_title(\"Probability of Still Being on Hold\")"
   ]
  },
  {
   "cell_type": "code",
   "execution_count": 31,
   "id": "49d79b12",
   "metadata": {},
   "outputs": [
    {
     "data": {
      "text/html": [
       "<div>\n",
       "<style scoped>\n",
       "    .dataframe tbody tr th:only-of-type {\n",
       "        vertical-align: middle;\n",
       "    }\n",
       "\n",
       "    .dataframe tbody tr th {\n",
       "        vertical-align: top;\n",
       "    }\n",
       "\n",
       "    .dataframe thead th {\n",
       "        text-align: right;\n",
       "    }\n",
       "</style>\n",
       "<table border=\"1\" class=\"dataframe\">\n",
       "  <tbody>\n",
       "    <tr>\n",
       "      <th>t_0</th>\n",
       "      <td>-1</td>\n",
       "    </tr>\n",
       "    <tr>\n",
       "      <th>null_distribution</th>\n",
       "      <td>chi squared</td>\n",
       "    </tr>\n",
       "    <tr>\n",
       "      <th>degrees_of_freedom</th>\n",
       "      <td>2</td>\n",
       "    </tr>\n",
       "    <tr>\n",
       "      <th>test_name</th>\n",
       "      <td>multivariate_logrank_test</td>\n",
       "    </tr>\n",
       "  </tbody>\n",
       "</table>\n",
       "</div><table border=\"1\" class=\"dataframe\">\n",
       "  <thead>\n",
       "    <tr style=\"text-align: right;\">\n",
       "      <th></th>\n",
       "      <th>test_statistic</th>\n",
       "      <th>p</th>\n",
       "      <th>-log2(p)</th>\n",
       "    </tr>\n",
       "  </thead>\n",
       "  <tbody>\n",
       "    <tr>\n",
       "      <th>0</th>\n",
       "      <td>20.30</td>\n",
       "      <td>&lt;0.005</td>\n",
       "      <td>14.65</td>\n",
       "    </tr>\n",
       "  </tbody>\n",
       "</table>"
      ],
      "text/latex": [
       "\\begin{tabular}{lrrr}\n",
       " & test_statistic & p & -log2(p) \\\\\n",
       "0 & 20.30 & 0.00 & 14.65 \\\\\n",
       "\\end{tabular}\n"
      ],
      "text/plain": [
       "<lifelines.StatisticalResult: multivariate_logrank_test>\n",
       "               t_0 = -1\n",
       " null_distribution = chi squared\n",
       "degrees_of_freedom = 2\n",
       "         test_name = multivariate_logrank_test\n",
       "\n",
       "---\n",
       " test_statistic      p  -log2(p)\n",
       "          20.30 <0.005     14.65"
      ]
     },
     "execution_count": 31,
     "metadata": {},
     "output_type": "execute_result"
    }
   ],
   "source": [
    "multivariate_logrank_test(D['Wait time'],\n",
    "                        D['Center'],\n",
    "                        D['Failed'])"
   ]
  },
  {
   "cell_type": "code",
   "execution_count": 32,
   "id": "5c60fe79",
   "metadata": {},
   "outputs": [
    {
     "data": {
      "text/html": [
       "<div>\n",
       "<style scoped>\n",
       "    .dataframe tbody tr th:only-of-type {\n",
       "        vertical-align: middle;\n",
       "    }\n",
       "\n",
       "    .dataframe tbody tr th {\n",
       "        vertical-align: top;\n",
       "    }\n",
       "\n",
       "    .dataframe thead th {\n",
       "        text-align: right;\n",
       "    }\n",
       "</style>\n",
       "<table border=\"1\" class=\"dataframe\">\n",
       "  <tbody>\n",
       "    <tr>\n",
       "      <th>t_0</th>\n",
       "      <td>-1</td>\n",
       "    </tr>\n",
       "    <tr>\n",
       "      <th>null_distribution</th>\n",
       "      <td>chi squared</td>\n",
       "    </tr>\n",
       "    <tr>\n",
       "      <th>degrees_of_freedom</th>\n",
       "      <td>2</td>\n",
       "    </tr>\n",
       "    <tr>\n",
       "      <th>test_name</th>\n",
       "      <td>multivariate_logrank_test</td>\n",
       "    </tr>\n",
       "  </tbody>\n",
       "</table>\n",
       "</div><table border=\"1\" class=\"dataframe\">\n",
       "  <thead>\n",
       "    <tr style=\"text-align: right;\">\n",
       "      <th></th>\n",
       "      <th>test_statistic</th>\n",
       "      <th>p</th>\n",
       "      <th>-log2(p)</th>\n",
       "    </tr>\n",
       "  </thead>\n",
       "  <tbody>\n",
       "    <tr>\n",
       "      <th>0</th>\n",
       "      <td>49.90</td>\n",
       "      <td>&lt;0.005</td>\n",
       "      <td>35.99</td>\n",
       "    </tr>\n",
       "  </tbody>\n",
       "</table>"
      ],
      "text/latex": [
       "\\begin{tabular}{lrrr}\n",
       " & test_statistic & p & -log2(p) \\\\\n",
       "0 & 49.90 & 0.00 & 35.99 \\\\\n",
       "\\end{tabular}\n"
      ],
      "text/plain": [
       "<lifelines.StatisticalResult: multivariate_logrank_test>\n",
       "               t_0 = -1\n",
       " null_distribution = chi squared\n",
       "degrees_of_freedom = 2\n",
       "         test_name = multivariate_logrank_test\n",
       "\n",
       "---\n",
       " test_statistic      p  -log2(p)\n",
       "          49.90 <0.005     35.99"
      ]
     },
     "execution_count": 32,
     "metadata": {},
     "output_type": "execute_result"
    }
   ],
   "source": [
    "multivariate_logrank_test(D['Wait time'],\n",
    "                        D['Time'],\n",
    "                        D['Failed'])"
   ]
  },
  {
   "cell_type": "code",
   "execution_count": 33,
   "id": "5f871d58",
   "metadata": {},
   "outputs": [
    {
     "data": {
      "text/html": [
       "<div>\n",
       "<style scoped>\n",
       "    .dataframe tbody tr th:only-of-type {\n",
       "        vertical-align: middle;\n",
       "    }\n",
       "\n",
       "    .dataframe tbody tr th {\n",
       "        vertical-align: top;\n",
       "    }\n",
       "\n",
       "    .dataframe thead th {\n",
       "        text-align: right;\n",
       "    }\n",
       "</style>\n",
       "<table border=\"1\" class=\"dataframe\">\n",
       "  <tbody>\n",
       "    <tr>\n",
       "      <th>null_distribution</th>\n",
       "      <td>chi squared</td>\n",
       "    </tr>\n",
       "    <tr>\n",
       "      <th>degrees_freedom</th>\n",
       "      <td>2</td>\n",
       "    </tr>\n",
       "    <tr>\n",
       "      <th>test_name</th>\n",
       "      <td>log-likelihood ratio test</td>\n",
       "    </tr>\n",
       "  </tbody>\n",
       "</table>\n",
       "</div><table border=\"1\" class=\"dataframe\">\n",
       "  <thead>\n",
       "    <tr style=\"text-align: right;\">\n",
       "      <th></th>\n",
       "      <th>test_statistic</th>\n",
       "      <th>p</th>\n",
       "      <th>-log2(p)</th>\n",
       "    </tr>\n",
       "  </thead>\n",
       "  <tbody>\n",
       "    <tr>\n",
       "      <th>0</th>\n",
       "      <td>20.58</td>\n",
       "      <td>&lt;0.005</td>\n",
       "      <td>14.85</td>\n",
       "    </tr>\n",
       "  </tbody>\n",
       "</table>"
      ],
      "text/latex": [
       "\\begin{tabular}{lrrr}\n",
       " & test_statistic & p & -log2(p) \\\\\n",
       "0 & 20.58 & 0.00 & 14.85 \\\\\n",
       "\\end{tabular}\n"
      ],
      "text/plain": [
       "<lifelines.StatisticalResult: log-likelihood ratio test>\n",
       "null_distribution = chi squared\n",
       "  degrees_freedom = 2\n",
       "        test_name = log-likelihood ratio test\n",
       "\n",
       "---\n",
       " test_statistic      p  -log2(p)\n",
       "          20.58 <0.005     14.85"
      ]
     },
     "execution_count": 33,
     "metadata": {},
     "output_type": "execute_result"
    }
   ],
   "source": [
    "X = MS(['Wait time',\n",
    "        'Failed',\n",
    "        'Center'],\n",
    "        intercept=False).fit_transform(D)\n",
    "F = coxph().fit(X, 'Wait time', 'Failed')\n",
    "F.log_likelihood_ratio_test()"
   ]
  },
  {
   "cell_type": "code",
   "execution_count": 34,
   "id": "9625d6ce",
   "metadata": {},
   "outputs": [
    {
     "data": {
      "text/html": [
       "<div>\n",
       "<style scoped>\n",
       "    .dataframe tbody tr th:only-of-type {\n",
       "        vertical-align: middle;\n",
       "    }\n",
       "\n",
       "    .dataframe tbody tr th {\n",
       "        vertical-align: top;\n",
       "    }\n",
       "\n",
       "    .dataframe thead th {\n",
       "        text-align: right;\n",
       "    }\n",
       "</style>\n",
       "<table border=\"1\" class=\"dataframe\">\n",
       "  <tbody>\n",
       "    <tr>\n",
       "      <th>null_distribution</th>\n",
       "      <td>chi squared</td>\n",
       "    </tr>\n",
       "    <tr>\n",
       "      <th>degrees_freedom</th>\n",
       "      <td>2</td>\n",
       "    </tr>\n",
       "    <tr>\n",
       "      <th>test_name</th>\n",
       "      <td>log-likelihood ratio test</td>\n",
       "    </tr>\n",
       "  </tbody>\n",
       "</table>\n",
       "</div><table border=\"1\" class=\"dataframe\">\n",
       "  <thead>\n",
       "    <tr style=\"text-align: right;\">\n",
       "      <th></th>\n",
       "      <th>test_statistic</th>\n",
       "      <th>p</th>\n",
       "      <th>-log2(p)</th>\n",
       "    </tr>\n",
       "  </thead>\n",
       "  <tbody>\n",
       "    <tr>\n",
       "      <th>0</th>\n",
       "      <td>48.12</td>\n",
       "      <td>&lt;0.005</td>\n",
       "      <td>34.71</td>\n",
       "    </tr>\n",
       "  </tbody>\n",
       "</table>"
      ],
      "text/latex": [
       "\\begin{tabular}{lrrr}\n",
       " & test_statistic & p & -log2(p) \\\\\n",
       "0 & 48.12 & 0.00 & 34.71 \\\\\n",
       "\\end{tabular}\n"
      ],
      "text/plain": [
       "<lifelines.StatisticalResult: log-likelihood ratio test>\n",
       "null_distribution = chi squared\n",
       "  degrees_freedom = 2\n",
       "        test_name = log-likelihood ratio test\n",
       "\n",
       "---\n",
       " test_statistic      p  -log2(p)\n",
       "          48.12 <0.005     34.71"
      ]
     },
     "execution_count": 34,
     "metadata": {},
     "output_type": "execute_result"
    }
   ],
   "source": [
    "X = MS(['Wait time',\n",
    "        'Failed',\n",
    "        'Time'],\n",
    "        intercept=False).fit_transform(D)\n",
    "F = coxph().fit(X, 'Wait time', 'Failed')\n",
    "F.log_likelihood_ratio_test()"
   ]
  },
  {
   "cell_type": "code",
   "execution_count": 35,
   "id": "01cdc92b",
   "metadata": {},
   "outputs": [
    {
     "data": {
      "text/html": [
       "<div>\n",
       "<style scoped>\n",
       "    .dataframe tbody tr th:only-of-type {\n",
       "        vertical-align: middle;\n",
       "    }\n",
       "\n",
       "    .dataframe tbody tr th {\n",
       "        vertical-align: top;\n",
       "    }\n",
       "\n",
       "    .dataframe thead th {\n",
       "        text-align: right;\n",
       "    }\n",
       "</style>\n",
       "<table border=\"1\" class=\"dataframe\">\n",
       "  <thead>\n",
       "    <tr style=\"text-align: right;\">\n",
       "      <th></th>\n",
       "      <th>coef</th>\n",
       "      <th>se(coef)</th>\n",
       "      <th>p</th>\n",
       "    </tr>\n",
       "    <tr>\n",
       "      <th>covariate</th>\n",
       "      <th></th>\n",
       "      <th></th>\n",
       "      <th></th>\n",
       "    </tr>\n",
       "  </thead>\n",
       "  <tbody>\n",
       "    <tr>\n",
       "      <th>Operators</th>\n",
       "      <td>0.043934</td>\n",
       "      <td>0.007520</td>\n",
       "      <td>5.143589e-09</td>\n",
       "    </tr>\n",
       "    <tr>\n",
       "      <th>Center[B]</th>\n",
       "      <td>-0.236060</td>\n",
       "      <td>0.058113</td>\n",
       "      <td>4.864162e-05</td>\n",
       "    </tr>\n",
       "    <tr>\n",
       "      <th>Center[C]</th>\n",
       "      <td>0.012231</td>\n",
       "      <td>0.057518</td>\n",
       "      <td>8.316096e-01</td>\n",
       "    </tr>\n",
       "    <tr>\n",
       "      <th>Time[Even.]</th>\n",
       "      <td>0.268845</td>\n",
       "      <td>0.057797</td>\n",
       "      <td>3.294956e-06</td>\n",
       "    </tr>\n",
       "    <tr>\n",
       "      <th>Time[Morn.]</th>\n",
       "      <td>-0.148217</td>\n",
       "      <td>0.057334</td>\n",
       "      <td>9.733557e-03</td>\n",
       "    </tr>\n",
       "  </tbody>\n",
       "</table>\n",
       "</div>"
      ],
      "text/plain": [
       "                 coef  se(coef)             p\n",
       "covariate                                    \n",
       "Operators    0.043934  0.007520  5.143589e-09\n",
       "Center[B]   -0.236060  0.058113  4.864162e-05\n",
       "Center[C]    0.012231  0.057518  8.316096e-01\n",
       "Time[Even.]  0.268845  0.057797  3.294956e-06\n",
       "Time[Morn.] -0.148217  0.057334  9.733557e-03"
      ]
     },
     "execution_count": 35,
     "metadata": {},
     "output_type": "execute_result"
    }
   ],
   "source": [
    "X = MS(D.columns,\n",
    "        intercept=False).fit_transform(D)\n",
    "fit_queuing = coxph().fit(\n",
    "                        X,\n",
    "                        'Wait time',\n",
    "                        'Failed')\n",
    "fit_queuing.summary[['coef', 'se(coef)', 'p']]"
   ]
  },
  {
   "cell_type": "code",
   "execution_count": null,
   "id": "242cff1b",
   "metadata": {},
   "outputs": [],
   "source": []
  }
 ],
 "metadata": {
  "kernelspec": {
   "display_name": "genenv",
   "language": "python",
   "name": "genenv"
  },
  "language_info": {
   "codemirror_mode": {
    "name": "ipython",
    "version": 3
   },
   "file_extension": ".py",
   "mimetype": "text/x-python",
   "name": "python",
   "nbconvert_exporter": "python",
   "pygments_lexer": "ipython3",
   "version": "3.11.5"
  }
 },
 "nbformat": 4,
 "nbformat_minor": 5
}
